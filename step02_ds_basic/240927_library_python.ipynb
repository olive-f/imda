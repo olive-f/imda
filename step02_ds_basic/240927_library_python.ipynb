{
 "cells": [
  {
   "cell_type": "code",
   "execution_count": 1,
   "id": "9847c4fd-d915-4d83-94d8-19e214a50fbc",
   "metadata": {},
   "outputs": [
    {
     "name": "stdout",
     "output_type": "stream",
     "text": [
      "Note: you may need to restart the kernel to use updated packages.\n"
     ]
    },
    {
     "name": "stderr",
     "output_type": "stream",
     "text": [
      "ERROR: Could not open requirements file: [Errno 2] No such file or directory: 'requirements.txt'\n"
     ]
    }
   ],
   "source": [
    "pip install -r requirements.txt"
   ]
  },
  {
   "cell_type": "code",
   "execution_count": 2,
   "id": "7854d1f4-b9f1-45d8-b1b1-254f6da200ff",
   "metadata": {},
   "outputs": [],
   "source": [
    "# 아 여긴 깔려있나"
   ]
  },
  {
   "cell_type": "code",
   "execution_count": 3,
   "id": "fa0f5094-ec52-48fc-a3ee-acba85161a82",
   "metadata": {},
   "outputs": [],
   "source": [
    "import pandas as pd\n",
    "import numpy as np"
   ]
  },
  {
   "cell_type": "markdown",
   "id": "a8511540-35b0-4450-be32-44581e1d373a",
   "metadata": {},
   "source": [
    "# 라이브러리 설치 방법\n",
    "- 구글 코랩이나 주피터에서 잠깐 쓰고 싶을 때\n",
    "- !pip install numpy\n",
    "- 이런 식으로 쓰면 됨"
   ]
  },
  {
   "cell_type": "code",
   "execution_count": 5,
   "id": "cb274e19-f393-470d-ad2c-ee09cfdcd5ae",
   "metadata": {},
   "outputs": [],
   "source": [
    "# help(클래스) : help(np) -> 설명나옴"
   ]
  },
  {
   "cell_type": "code",
   "execution_count": 6,
   "id": "6e6f3f35-9204-43a3-936b-31eafb100c57",
   "metadata": {},
   "outputs": [
    {
     "name": "stdout",
     "output_type": "stream",
     "text": [
      "2.1.1\n"
     ]
    }
   ],
   "source": [
    "print(np.__version__)"
   ]
  },
  {
   "cell_type": "code",
   "execution_count": 7,
   "id": "90260155-0ed3-40b1-861f-06090ecafed3",
   "metadata": {},
   "outputs": [
    {
     "data": {
      "text/plain": [
       "[1, 2, 3, 4, 5, 6]"
      ]
     },
     "execution_count": 7,
     "metadata": {},
     "output_type": "execute_result"
    }
   ],
   "source": [
    "num1 = [1, 2, 3]\n",
    "num2 = [4, 5, 6]\n",
    "num1 + num2"
   ]
  },
  {
   "cell_type": "code",
   "execution_count": 8,
   "id": "288260c1-b0d0-4217-98e9-d2867bb6e697",
   "metadata": {},
   "outputs": [],
   "source": [
    "# 이게 아니라 더해달라고 !\n",
    "# gpt 한테 물어보면 반복문 쓰라함. 이러면 시간 오래걸림. 그래서 np 씀"
   ]
  },
  {
   "cell_type": "code",
   "execution_count": 10,
   "id": "9842e4b6-df8b-4c63-b78a-a63ecc9d2bf7",
   "metadata": {},
   "outputs": [
    {
     "data": {
      "text/plain": [
       "array([5, 7, 9])"
      ]
     },
     "execution_count": 10,
     "metadata": {},
     "output_type": "execute_result"
    }
   ],
   "source": [
    "num1_arr=np.array(num1)\n",
    "num2_arr=np.array(num2)\n",
    "\n",
    "num1_arr+num2_arr"
   ]
  },
  {
   "cell_type": "markdown",
   "id": "00a8dad5-7576-4b7e-8d36-c1929df1dd62",
   "metadata": {},
   "source": [
    "## 메서드, 속성 활용하기 (공식문서 보고)\n",
    "- https://numpy.org/doc/stable/reference/generated/numpy.ndarray.html\n",
    "- 속성: 지금 가진 데이터 현재 상태 확인하기 위함.\n",
    "- 메서드: 먼가 액션을 하고 싶을 때"
   ]
  },
  {
   "cell_type": "code",
   "execution_count": null,
   "id": "b73fc8ab-c567-4df3-bd3c-078a21b6f227",
   "metadata": {},
   "outputs": [],
   "source": [
    "# 타입 메서드 사용해서 타입 확인 !\n",
    "print(type(num1_arr))\n",
    "# 클래스에는 속성과 메서드가 있다. 공식문서를 봐보자"
   ]
  },
  {
   "cell_type": "markdown",
   "id": "73a41e79-f293-4108-a13e-a2d226044cc0",
   "metadata": {},
   "source": [
    "### 속성"
   ]
  },
  {
   "cell_type": "code",
   "execution_count": 16,
   "id": "049afb0d-400f-4997-8d81-064e071bc1a5",
   "metadata": {},
   "outputs": [
    {
     "data": {
      "text/plain": [
       "array([1, 2, 3])"
      ]
     },
     "execution_count": 16,
     "metadata": {},
     "output_type": "execute_result"
    }
   ],
   "source": [
    "# 공식문서를 보고 Attribute(속성) 확인해보자\n",
    "num1_arr.T"
   ]
  },
  {
   "cell_type": "code",
   "execution_count": 21,
   "id": "a12a99fa-1041-42cf-b1fc-8f90e26b30dc",
   "metadata": {},
   "outputs": [
    {
     "data": {
      "text/plain": [
       "dtype('int64')"
      ]
     },
     "execution_count": 21,
     "metadata": {},
     "output_type": "execute_result"
    }
   ],
   "source": [
    "num1_arr.dtype # 데이터 타입 표현"
   ]
  },
  {
   "cell_type": "code",
   "execution_count": 18,
   "id": "1ded5499-0c2d-4710-945b-5adea9bc8438",
   "metadata": {},
   "outputs": [
    {
     "data": {
      "text/plain": [
       "(3,)"
      ]
     },
     "execution_count": 18,
     "metadata": {},
     "output_type": "execute_result"
    }
   ],
   "source": [
    "num1_arr.shape # 1차원, 값이 3개이다."
   ]
  },
  {
   "cell_type": "code",
   "execution_count": 19,
   "id": "29910028-ff18-4185-8e68-a6f235af870b",
   "metadata": {},
   "outputs": [
    {
     "data": {
      "text/plain": [
       "1"
      ]
     },
     "execution_count": 19,
     "metadata": {},
     "output_type": "execute_result"
    }
   ],
   "source": [
    "num1_arr.ndim # 차원 확인"
   ]
  },
  {
   "cell_type": "markdown",
   "id": "0bc83594-9c57-4635-941a-afbcb0f6294a",
   "metadata": {},
   "source": [
    "### 메서드\n",
    "- 쓸려고 봤는데 documentation 불친절 하면, 챗지피티에게 sample code 달라고 물어봐"
   ]
  },
  {
   "cell_type": "code",
   "execution_count": 23,
   "id": "9396a02e-c179-47a6-b48d-b26a22bea696",
   "metadata": {},
   "outputs": [
    {
     "data": {
      "text/plain": [
       "np.int64(3)"
      ]
     },
     "execution_count": 23,
     "metadata": {},
     "output_type": "execute_result"
    }
   ],
   "source": [
    "num1_arr.max() # 64 준건 가장 큰 공간 주겠따. 그러면 메모리 비용 발생함. 내가 다룰 데이터 크기에 따라 데이터 타입 바꿔도 됨.ㅌ"
   ]
  },
  {
   "cell_type": "code",
   "execution_count": 24,
   "id": "41101b7c-3607-4b63-8866-33ffd4d07560",
   "metadata": {},
   "outputs": [
    {
     "data": {
      "text/plain": [
       "dtype('int8')"
      ]
     },
     "execution_count": 24,
     "metadata": {},
     "output_type": "execute_result"
    }
   ],
   "source": [
    "# type 바꾸기\n",
    "num1_arr = np.array(num1, dtype=\"int8\")\n",
    "num1_arr.dtype"
   ]
  },
  {
   "cell_type": "markdown",
   "id": "5db4dd87-44ef-4a9a-95bd-93f9c30ecd69",
   "metadata": {},
   "source": [
    "# numpy\n",
    "## numpy 배열을 만들어보자"
   ]
  },
  {
   "cell_type": "code",
   "execution_count": 25,
   "id": "90cb3e3a-64cf-401e-9b3b-cf6a99ee1536",
   "metadata": {},
   "outputs": [
    {
     "name": "stdout",
     "output_type": "stream",
     "text": [
      "[1. 1. 1.]\n"
     ]
    }
   ],
   "source": [
    "# 기본적으로 다른 데이터 자료형으로 numpy 배열로 변환\n",
    "# 1 배열 생성 해보자\n",
    "print(np.ones(3))"
   ]
  },
  {
   "cell_type": "code",
   "execution_count": 26,
   "id": "5972b36c-ccf5-4842-886d-ecfa38df488b",
   "metadata": {},
   "outputs": [],
   "source": [
    "# ones: 1열의 배열로 뽑겠다"
   ]
  },
  {
   "cell_type": "code",
   "execution_count": 27,
   "id": "b92773db-1848-426e-a9c6-ed62db42ed42",
   "metadata": {},
   "outputs": [
    {
     "name": "stdout",
     "output_type": "stream",
     "text": [
      "[0. 0. 0. 0. 0.]\n"
     ]
    }
   ],
   "source": [
    "print(np.zeros(5)) # zeros : 0을 출력함"
   ]
  },
  {
   "cell_type": "code",
   "execution_count": 28,
   "id": "30751b13-7cfc-4c42-9a2b-329f8e7c6a75",
   "metadata": {},
   "outputs": [
    {
     "name": "stdout",
     "output_type": "stream",
     "text": [
      "[[[0.0000e+000 0.0000e+000]\n",
      "  [0.0000e+000 0.0000e+000]]\n",
      "\n",
      " [[0.0000e+000 1.3715e-320]\n",
      "  [0.0000e+000 0.0000e+000]]]\n"
     ]
    }
   ],
   "source": [
    "# 1차원, 2차원, 3차원, 4차원 ... 배열 생성 가능!\n",
    "print(np.ndarray(shape=(2,2,2), dtype=float, order='F'))"
   ]
  },
  {
   "cell_type": "code",
   "execution_count": 29,
   "id": "3d6e16c2-f5f3-431b-b918-6522c4622c4d",
   "metadata": {},
   "outputs": [
    {
     "data": {
      "text/plain": [
       "(2, 2, 2)"
      ]
     },
     "execution_count": 29,
     "metadata": {},
     "output_type": "execute_result"
    }
   ],
   "source": [
    "arr = np.ndarray(shape=(2,2,2), dtype=float, order='F')\n",
    "arr.shape"
   ]
  },
  {
   "cell_type": "markdown",
   "id": "d5e43c23-4fdd-4eb1-a51a-c889f893bd0b",
   "metadata": {},
   "source": [
    "## 배열의 차원을 변경해보자"
   ]
  },
  {
   "cell_type": "code",
   "execution_count": 31,
   "id": "3b9b4de8-a070-49df-9bcf-9d11bb64378d",
   "metadata": {},
   "outputs": [
    {
     "data": {
      "text/plain": [
       "array([ 0,  1,  2,  3,  4,  5,  6,  7,  8,  9, 10, 11, 12, 13, 14, 15])"
      ]
     },
     "execution_count": 31,
     "metadata": {},
     "output_type": "execute_result"
    }
   ],
   "source": [
    "temp_arr = np.arange(16)\n",
    "temp_arr"
   ]
  },
  {
   "cell_type": "code",
   "execution_count": 32,
   "id": "ff967d69-dfed-43b9-b9c4-59fd22463aa8",
   "metadata": {},
   "outputs": [],
   "source": [
    "# 1 차원 배열에 16개 값을 준 것"
   ]
  },
  {
   "cell_type": "code",
   "execution_count": 33,
   "id": "916a7a2f-3326-4e46-b0fa-686247130820",
   "metadata": {},
   "outputs": [],
   "source": [
    "# 이 배열의 값을 2, 3 차원으로 변경해보자\n",
    "# 이럴 때 사용하는 메서드 -> 공식문서 검색 -> \n",
    "# https://numpy.org/doc/stable/reference/generated/numpy.ndarray.reshape.html"
   ]
  },
  {
   "cell_type": "code",
   "execution_count": 34,
   "id": "b4753ddf-31fc-46db-b1b5-df083292685b",
   "metadata": {},
   "outputs": [
    {
     "data": {
      "text/plain": [
       "array([[ 0,  1,  2,  3],\n",
       "       [ 4,  5,  6,  7],\n",
       "       [ 8,  9, 10, 11],\n",
       "       [12, 13, 14, 15]])"
      ]
     },
     "execution_count": 34,
     "metadata": {},
     "output_type": "execute_result"
    }
   ],
   "source": [
    "temp_arr.reshape(4,4)"
   ]
  },
  {
   "cell_type": "code",
   "execution_count": 35,
   "id": "741a23f1-1098-4982-942f-19e8063009ad",
   "metadata": {},
   "outputs": [
    {
     "data": {
      "text/plain": [
       "array([[ 0,  1,  2,  3,  4,  5,  6,  7],\n",
       "       [ 8,  9, 10, 11, 12, 13, 14, 15]])"
      ]
     },
     "execution_count": 35,
     "metadata": {},
     "output_type": "execute_result"
    }
   ],
   "source": [
    "temp_arr.reshape(2,8)"
   ]
  },
  {
   "cell_type": "code",
   "execution_count": 36,
   "id": "e6469043-90f9-4dab-b1c4-6b097483abb8",
   "metadata": {},
   "outputs": [
    {
     "data": {
      "text/plain": [
       "array([[[ 0,  1,  2,  3,  4,  5,  6,  7],\n",
       "        [ 8,  9, 10, 11, 12, 13, 14, 15]]])"
      ]
     },
     "execution_count": 36,
     "metadata": {},
     "output_type": "execute_result"
    }
   ],
   "source": [
    "temp_arr.reshape(1,2,8)"
   ]
  },
  {
   "cell_type": "code",
   "execution_count": 37,
   "id": "a2ad2f9b-f771-4f4e-b777-4b215154db84",
   "metadata": {},
   "outputs": [
    {
     "data": {
      "text/plain": [
       "array([ 0,  1,  2,  3,  4,  5,  6,  7,  8,  9, 10, 11, 12, 13, 14, 15])"
      ]
     },
     "execution_count": 37,
     "metadata": {},
     "output_type": "execute_result"
    }
   ],
   "source": [
    "temp_arr"
   ]
  },
  {
   "cell_type": "code",
   "execution_count": 38,
   "id": "13adb1c5-8b1e-4cec-b980-fd7824a9703b",
   "metadata": {},
   "outputs": [
    {
     "data": {
      "text/plain": [
       "3"
      ]
     },
     "execution_count": 38,
     "metadata": {},
     "output_type": "execute_result"
    }
   ],
   "source": [
    "temp_arr_1 = temp_arr.reshape(1,2,8)\n",
    "temp_arr_1.ndim"
   ]
  },
  {
   "cell_type": "code",
   "execution_count": 39,
   "id": "7311c466-48e4-4386-b539-71801b0e6bbb",
   "metadata": {},
   "outputs": [
    {
     "name": "stdout",
     "output_type": "stream",
     "text": [
      "[1.333]\n",
      "[1.333333]\n"
     ]
    }
   ],
   "source": [
    "a16 = np.array([1.333333], dtype = np.float16)\n",
    "a32 = np.array([1.333333], dtype = np.float32)\n",
    "\n",
    "print(a16)\n",
    "print(a32)"
   ]
  },
  {
   "cell_type": "code",
   "execution_count": null,
   "id": "b89e65e2-617e-4f8c-8c96-e24f3fea2075",
   "metadata": {},
   "outputs": [],
   "source": [
    "# 보면 두개다 입력값은 같은데, np 배열로 변환할 때 비트 단위를 다르게 줌. \n",
    "# 그러니까 나오는 값이 다름 -> 다른 숫자가 됨"
   ]
  },
  {
   "cell_type": "code",
   "execution_count": 40,
   "id": "86d56309-3f6e-4bc5-8d32-d0625796a863",
   "metadata": {},
   "outputs": [
    {
     "name": "stderr",
     "output_type": "stream",
     "text": [
      "C:\\Users\\chaer\\AppData\\Local\\Temp\\ipykernel_3764\\3465403327.py:2: RuntimeWarning: divide by zero encountered in divide\n",
      "  arr/0\n"
     ]
    },
    {
     "data": {
      "text/plain": [
       "array([-inf,  inf, -inf])"
      ]
     },
     "execution_count": 40,
     "metadata": {},
     "output_type": "execute_result"
    }
   ],
   "source": [
    "arr = np.array([-1, 2, -3])\n",
    "arr/0"
   ]
  },
  {
   "cell_type": "code",
   "execution_count": 41,
   "id": "1acc3a77-e83f-401c-8a61-fe5333ae31d1",
   "metadata": {},
   "outputs": [],
   "source": [
    "# 메서드를 사용하다 보면, 어쩌다보면 0으로 나눈 경우 나올 수도 있음\n",
    "# ([-inf,  inf, -inf]) <- 이런 에러 나오면\n",
    "# 내가 다루는 배열 안에 0으로 나눈게 있ㄴㅏ??? 의심해봐야 함"
   ]
  },
  {
   "cell_type": "markdown",
   "id": "5989fca5-afe3-4534-9c69-57154594d829",
   "metadata": {},
   "source": [
    "## 결측치\n",
    "- Missing Values : 잃어버린 값\n",
    "- nan : Not a Number, ==> 아직 정의되지 않은 숫자 의미"
   ]
  },
  {
   "cell_type": "code",
   "execution_count": 42,
   "id": "2929962b-6f52-477b-a548-1daf90c7f15d",
   "metadata": {},
   "outputs": [
    {
     "name": "stdout",
     "output_type": "stream",
     "text": [
      "nan <class 'float'>\n"
     ]
    }
   ],
   "source": [
    "print(np.nan, type(np.nan))"
   ]
  },
  {
   "cell_type": "code",
   "execution_count": 46,
   "id": "72a5d871-ae19-41f3-81b3-7a0efe89bab2",
   "metadata": {},
   "outputs": [],
   "source": [
    "# type 은 float 임. 문법임"
   ]
  },
  {
   "cell_type": "code",
   "execution_count": 44,
   "id": "1155fa14-5ad5-4bb1-9611-e1b80048c570",
   "metadata": {},
   "outputs": [],
   "source": [
    "# inf : 양의 무한대, -inf: 음의 무한대"
   ]
  },
  {
   "cell_type": "code",
   "execution_count": 45,
   "id": "6399e5f3-f64e-4f57-ba9d-ed1087d13ebd",
   "metadata": {},
   "outputs": [
    {
     "name": "stdout",
     "output_type": "stream",
     "text": [
      "inf <class 'float'>\n"
     ]
    }
   ],
   "source": [
    "print(np.inf, type(np.inf))"
   ]
  },
  {
   "cell_type": "code",
   "execution_count": 47,
   "id": "3a4ef6af-a1bb-4109-8a6b-edc2ca4a3e73",
   "metadata": {},
   "outputs": [
    {
     "name": "stdout",
     "output_type": "stream",
     "text": [
      "-inf <class 'float'>\n"
     ]
    }
   ],
   "source": [
    "print(-np.inf, type(-np.inf))"
   ]
  },
  {
   "cell_type": "code",
   "execution_count": 48,
   "id": "9c998bef-b3e5-4227-b139-8004e27ad4bc",
   "metadata": {},
   "outputs": [],
   "source": [
    "# float 임 . 문법임"
   ]
  },
  {
   "cell_type": "code",
   "execution_count": 49,
   "id": "f1cdb6bb-ca7a-4f1c-97b9-a920063ba0a0",
   "metadata": {},
   "outputs": [
    {
     "name": "stdout",
     "output_type": "stream",
     "text": [
      "[nan nan nan]\n",
      "[inf inf inf]\n"
     ]
    }
   ],
   "source": [
    "arr=np.array([-1, -2, -3])\n",
    "print(arr+np.nan)\n",
    "print(arr+np.inf)"
   ]
  },
  {
   "cell_type": "code",
   "execution_count": 50,
   "id": "1f025910-b70e-45a9-9bcb-ac8118e414a1",
   "metadata": {},
   "outputs": [],
   "source": [
    "# 저렇게 결과가 나오면: 배열 안에 결측치나 무한대가 있구나. 하고 생각해야함!\n",
    "# 이건 에러가 아님. 주어진 대로 연산한 거임.\n",
    "# 문제는: 행렬에서 뭔가 무한대나, 결측치가 있어서 저렇게 연산된 것임"
   ]
  },
  {
   "cell_type": "markdown",
   "id": "1bda2e81-89c1-4848-91ef-aaf2f1819d6e",
   "metadata": {},
   "source": [
    "## 넘파이 인덱싱 & 슬라이싱 "
   ]
  },
  {
   "cell_type": "code",
   "execution_count": 52,
   "id": "af05cbbf-9f98-4dbb-9c6d-66cfff2d1eba",
   "metadata": {},
   "outputs": [
    {
     "data": {
      "text/plain": [
       "array([0, 1, 2, 3, 4, 5, 6, 7, 8, 9])"
      ]
     },
     "execution_count": 52,
     "metadata": {},
     "output_type": "execute_result"
    }
   ],
   "source": [
    "arr = np. arange(10)\n",
    "arr"
   ]
  },
  {
   "cell_type": "code",
   "execution_count": 53,
   "id": "98331b27-a256-45f1-a137-b1c807957a96",
   "metadata": {},
   "outputs": [
    {
     "data": {
      "text/plain": [
       "array([[0, 1, 2, 3, 4],\n",
       "       [5, 6, 7, 8, 9]])"
      ]
     },
     "execution_count": 53,
     "metadata": {},
     "output_type": "execute_result"
    }
   ],
   "source": [
    "arr = np.arange(10).reshape(2,5)\n",
    "arr"
   ]
  },
  {
   "cell_type": "code",
   "execution_count": 57,
   "id": "b5d9342e-7587-49e3-a09d-641932b824e6",
   "metadata": {},
   "outputs": [
    {
     "data": {
      "text/plain": [
       "array([1, 2, 3, 4])"
      ]
     },
     "execution_count": 57,
     "metadata": {},
     "output_type": "execute_result"
    }
   ],
   "source": [
    "arr = np.arange(10)\n",
    "arr[1:5]"
   ]
  },
  {
   "cell_type": "code",
   "execution_count": 55,
   "id": "f6ff1fb8-6845-4fee-bd70-2fa7ceb568ea",
   "metadata": {},
   "outputs": [
    {
     "data": {
      "text/plain": [
       "np.int64(1)"
      ]
     },
     "execution_count": 55,
     "metadata": {},
     "output_type": "execute_result"
    }
   ],
   "source": [
    "arr = np.arange(10).reshape(2,5)\n",
    "arr[0][1]"
   ]
  },
  {
   "cell_type": "code",
   "execution_count": 59,
   "id": "aec10e78-ffc5-405f-b1e8-393f50a57cfe",
   "metadata": {},
   "outputs": [
    {
     "data": {
      "text/plain": [
       "array([[ 0,  1,  2,  3,  4,  5,  6,  7,  8,  9, 10, 11, 12, 13, 14, 15,\n",
       "        16, 17, 18, 19, 20, 21, 22, 23, 24, 25, 26, 27, 28, 29, 30, 31,\n",
       "        32, 33, 34, 35, 36, 37, 38, 39, 40, 41, 42, 43, 44, 45, 46, 47,\n",
       "        48, 49, 50, 51, 52, 53, 54, 55, 56, 57, 58, 59, 60, 61, 62, 63,\n",
       "        64, 65, 66, 67, 68, 69, 70, 71, 72, 73, 74, 75, 76, 77, 78, 79,\n",
       "        80, 81, 82, 83, 84, 85, 86, 87, 88, 89, 90, 91, 92, 93, 94, 95,\n",
       "        96, 97, 98, 99]])"
      ]
     },
     "execution_count": 59,
     "metadata": {},
     "output_type": "execute_result"
    }
   ],
   "source": [
    "arr = np.arange(10000).reshape(100, 100)\n",
    "arr[0:4][0:1]"
   ]
  },
  {
   "cell_type": "code",
   "execution_count": 60,
   "id": "91633a23-d46b-4c7b-8fba-3eda76684587",
   "metadata": {},
   "outputs": [
    {
     "data": {
      "text/plain": [
       "array([0, 1])"
      ]
     },
     "execution_count": 60,
     "metadata": {},
     "output_type": "execute_result"
    }
   ],
   "source": [
    "arr = np.arange(4)\n",
    "arr[:2]"
   ]
  },
  {
   "cell_type": "code",
   "execution_count": 61,
   "id": "dc2e946e-7134-427e-9f41-2c8911568371",
   "metadata": {},
   "outputs": [
    {
     "data": {
      "text/plain": [
       "array([0, 1, 2, 3])"
      ]
     },
     "execution_count": 61,
     "metadata": {},
     "output_type": "execute_result"
    }
   ],
   "source": [
    "np.arange(4)"
   ]
  },
  {
   "cell_type": "code",
   "execution_count": 73,
   "id": "18b0ee85-8c46-4578-92e2-1a38d421ab45",
   "metadata": {},
   "outputs": [
    {
     "data": {
      "text/plain": [
       "array([[ 0,  1,  2,  3,  4],\n",
       "       [ 5,  6,  7,  8,  9],\n",
       "       [10, 11, 12, 13, 14],\n",
       "       [15, 16, 17, 18, 19],\n",
       "       [20, 21, 22, 23, 24]])"
      ]
     },
     "execution_count": 73,
     "metadata": {},
     "output_type": "execute_result"
    }
   ],
   "source": [
    "# 문제\n",
    "arr = np.arange(25).reshape(5,5)\n",
    "arr"
   ]
  },
  {
   "cell_type": "code",
   "execution_count": 74,
   "id": "0345aee1-5884-4590-857a-8e2ff1e6492d",
   "metadata": {},
   "outputs": [
    {
     "data": {
      "text/plain": [
       "array([[10, 11, 12, 13, 14],\n",
       "       [15, 16, 17, 18, 19],\n",
       "       [20, 21, 22, 23, 24]])"
      ]
     },
     "execution_count": 74,
     "metadata": {},
     "output_type": "execute_result"
    }
   ],
   "source": [
    "arr[2:]"
   ]
  },
  {
   "cell_type": "code",
   "execution_count": 75,
   "id": "eeb715ff-3824-44d8-8ba0-fe78ce283fda",
   "metadata": {},
   "outputs": [
    {
     "data": {
      "text/plain": [
       "array([[ 5,  6,  7,  8,  9],\n",
       "       [10, 11, 12, 13, 14]])"
      ]
     },
     "execution_count": 75,
     "metadata": {},
     "output_type": "execute_result"
    }
   ],
   "source": [
    "arr[1:3]"
   ]
  },
  {
   "cell_type": "code",
   "execution_count": 76,
   "id": "7a1633c9-33ed-4396-83e8-805125e6b843",
   "metadata": {},
   "outputs": [
    {
     "data": {
      "text/plain": [
       "array([[ 5,  6,  7,  8,  9],\n",
       "       [10, 11, 12, 13, 14],\n",
       "       [15, 16, 17, 18, 19],\n",
       "       [20, 21, 22, 23, 24]])"
      ]
     },
     "execution_count": 76,
     "metadata": {},
     "output_type": "execute_result"
    }
   ],
   "source": [
    "arr[1:]"
   ]
  },
  {
   "cell_type": "code",
   "execution_count": null,
   "id": "e42775eb-0957-4fdc-80fa-bbbabb539ddd",
   "metadata": {},
   "outputs": [],
   "source": [
    "# arr[행, 열]\n",
    "# "
   ]
  },
  {
   "cell_type": "code",
   "execution_count": 83,
   "id": "db0b40bc-a60a-4b1d-8a28-c443640681e8",
   "metadata": {},
   "outputs": [
    {
     "data": {
      "text/plain": [
       "array([[ 5,  6,  7,  8,  9],\n",
       "       [10, 11, 12, 13, 14],\n",
       "       [15, 16, 17, 18, 19],\n",
       "       [20, 21, 22, 23, 24]])"
      ]
     },
     "execution_count": 83,
     "metadata": {},
     "output_type": "execute_result"
    }
   ],
   "source": [
    "arr[1:]"
   ]
  },
  {
   "cell_type": "code",
   "execution_count": 85,
   "id": "aa7720c5-5876-4502-ad6e-9eaea040c431",
   "metadata": {},
   "outputs": [
    {
     "data": {
      "text/plain": [
       "array([[ 5,  6,  7,  8,  9],\n",
       "       [10, 11, 12, 13, 14],\n",
       "       [15, 16, 17, 18, 19]])"
      ]
     },
     "execution_count": 85,
     "metadata": {},
     "output_type": "execute_result"
    }
   ],
   "source": [
    "arr[1:4] # 4를 입력해야 함!!!!!!!!!!!!1"
   ]
  },
  {
   "cell_type": "code",
   "execution_count": 86,
   "id": "1f498a5e-b6b9-4406-9ba5-1c7f539512f6",
   "metadata": {},
   "outputs": [
    {
     "data": {
      "text/plain": [
       "array([[ 7,  8,  9],\n",
       "       [12, 13, 14],\n",
       "       [17, 18, 19]])"
      ]
     },
     "execution_count": 86,
     "metadata": {},
     "output_type": "execute_result"
    }
   ],
   "source": [
    "arr[1:4 , 2:5]"
   ]
  },
  {
   "cell_type": "code",
   "execution_count": 87,
   "id": "b3660cb1-e1db-4dd2-b273-87e48d0d7054",
   "metadata": {},
   "outputs": [
    {
     "data": {
      "text/plain": [
       "array([[ 7,  8,  9],\n",
       "       [12, 13, 14],\n",
       "       [17, 18, 19],\n",
       "       [22, 23, 24]])"
      ]
     },
     "execution_count": 87,
     "metadata": {},
     "output_type": "execute_result"
    }
   ],
   "source": [
    "arr[1:, 2:]"
   ]
  },
  {
   "cell_type": "code",
   "execution_count": 89,
   "id": "222cf324-9baa-4631-87a2-56f56e2ed840",
   "metadata": {},
   "outputs": [
    {
     "data": {
      "text/plain": [
       "array([[ 0,  1,  2,  3,  4],\n",
       "       [ 5,  6,  7,  8,  9],\n",
       "       [10, 11, 12, 13, 14],\n",
       "       [15, 16, 17, 18, 19],\n",
       "       [20, 21, 22, 23, 24]])"
      ]
     },
     "execution_count": 89,
     "metadata": {},
     "output_type": "execute_result"
    }
   ],
   "source": [
    "arr[:,:] # 전체 데이터 출력"
   ]
  },
  {
   "cell_type": "markdown",
   "id": "74b1d62c-1618-43e8-9f62-e1a3a083b70b",
   "metadata": {},
   "source": [
    "## Broadcasting 연산\n",
    "- https://numpy.org/doc/stable/user/basics.broadcasting.html\n",
    "- 딥러닝 하면 필연적으로 데이터의 행과 열이 다름.\n",
    "- "
   ]
  },
  {
   "cell_type": "code",
   "execution_count": 90,
   "id": "c93b7082-1b48-4e3c-9b85-faccfa71b395",
   "metadata": {},
   "outputs": [
    {
     "data": {
      "text/plain": [
       "array([2, 4, 6])"
      ]
     },
     "execution_count": 90,
     "metadata": {},
     "output_type": "execute_result"
    }
   ],
   "source": [
    "a = np.array([1,2,3])\n",
    "b = np.array([1,2,3])\n",
    "a+b"
   ]
  },
  {
   "cell_type": "code",
   "execution_count": 91,
   "id": "4bd687b8-0bba-4445-a14d-fd561ded1e9d",
   "metadata": {},
   "outputs": [
    {
     "data": {
      "text/plain": [
       "array([4., 5., 6.])"
      ]
     },
     "execution_count": 91,
     "metadata": {},
     "output_type": "execute_result"
    }
   ],
   "source": [
    "a = np.array([1,2,3])\n",
    "b = 3.0\n",
    "a+b"
   ]
  },
  {
   "cell_type": "code",
   "execution_count": 92,
   "id": "7cf7a985-d5b5-4c73-be6a-fbc7a4cde94e",
   "metadata": {},
   "outputs": [],
   "source": [
    "# 두 방식 모두 연산이 됨"
   ]
  },
  {
   "cell_type": "code",
   "execution_count": 93,
   "id": "b6eaa7b2-fc4e-4046-9926-571dc71a5a46",
   "metadata": {},
   "outputs": [
    {
     "data": {
      "text/plain": [
       "array([4., 5., 6.])"
      ]
     },
     "execution_count": 93,
     "metadata": {},
     "output_type": "execute_result"
    }
   ],
   "source": [
    "a = np.array([1,  2,   3])\n",
    "#             3.0 3.0  3.0\n",
    "b = 3.0\n",
    "a+b\n",
    "# b에 값을 하나만 입력했지만 알아서 연동해, 일차원 배열 만들어 연산한 것\n",
    "# 배열이 달라도 브로드캐스팅 룰에 따라 연산을 해준다 -> 브로드캐스팅 연산\n",
    "# 이와 관련된 주요한 내용들은 numpy documentation 보면 설명이 잘 되어 있음\n",
    "# np에서 수치연산 할 떄, 차원이 달라도 연산 할 수 있다."
   ]
  },
  {
   "cell_type": "markdown",
   "id": "b1e20f23-6a42-4109-a7c2-c0a59e0b9877",
   "metadata": {},
   "source": [
    "### 문제 1. \n",
    "문제: 모든 값이 0으로 2차원 배열 (5, 5) 만드세요. "
   ]
  },
  {
   "cell_type": "code",
   "execution_count": 96,
   "id": "bf4ce130-3aca-4957-b99b-ccca3a79347a",
   "metadata": {},
   "outputs": [
    {
     "data": {
      "text/plain": [
       "array([[0., 0., 0., 0., 0.],\n",
       "       [0., 0., 0., 0., 0.],\n",
       "       [0., 0., 0., 0., 0.],\n",
       "       [0., 0., 0., 0., 0.],\n",
       "       [0., 0., 0., 0., 0.]])"
      ]
     },
     "execution_count": 96,
     "metadata": {},
     "output_type": "execute_result"
    }
   ],
   "source": [
    "arr = np.zeros(25)\n",
    "arr.reshape(5,5)"
   ]
  },
  {
   "cell_type": "code",
   "execution_count": 105,
   "id": "0798552c-415a-4628-b7e9-d37be5a54b0b",
   "metadata": {},
   "outputs": [
    {
     "data": {
      "text/plain": [
       "array([[0., 0., 0., 0., 0.],\n",
       "       [0., 0., 0., 0., 0.],\n",
       "       [0., 0., 0., 0., 0.],\n",
       "       [0., 0., 0., 0., 0.],\n",
       "       [0., 0., 0., 0., 0.]])"
      ]
     },
     "execution_count": 105,
     "metadata": {},
     "output_type": "execute_result"
    }
   ],
   "source": [
    "# 다른 방식\n",
    "np.zeros((5,5))"
   ]
  },
  {
   "cell_type": "markdown",
   "id": "50c02f95-0d44-47c1-a15d-a653c8fd1182",
   "metadata": {},
   "source": [
    "### 문제 2. \n",
    "임의의 3x3 크기의 배열을 생성하고 배열의 shape(모양), dtype(데이터 타입), 그리고 배열의 차원 수(ndim)를 출력하세요."
   ]
  },
  {
   "cell_type": "code",
   "execution_count": 104,
   "id": "2ebe2af6-ef97-4efa-8201-631d1934cbd0",
   "metadata": {},
   "outputs": [
    {
     "data": {
      "text/plain": [
       "array([[0, 1, 2],\n",
       "       [3, 4, 5],\n",
       "       [6, 7, 8]])"
      ]
     },
     "execution_count": 104,
     "metadata": {},
     "output_type": "execute_result"
    }
   ],
   "source": [
    "arr = np.arange(9).reshape(3,3)\n",
    "arr"
   ]
  },
  {
   "cell_type": "code",
   "execution_count": 99,
   "id": "81bdcf9f-11fc-4d34-ac12-afd249cc3017",
   "metadata": {},
   "outputs": [
    {
     "name": "stdout",
     "output_type": "stream",
     "text": [
      "(3, 3) int64 2\n"
     ]
    }
   ],
   "source": [
    "print(arr.shape, arr.dtype, arr.ndim)"
   ]
  },
  {
   "cell_type": "markdown",
   "id": "17b759e3-3245-435f-ad5d-9f0bcd4c677f",
   "metadata": {},
   "source": [
    "### 문제 3. \n",
    "- 주어진 배열에서 아래와 같이 슬라이싱 하세요. \n",
    "```\n",
    "array([[ 5,  6],\n",
    "       [ 9, 10]])\n",
    "```"
   ]
  },
  {
   "cell_type": "code",
   "execution_count": 101,
   "id": "1a003992-f782-4e7e-a18e-26c862ed5419",
   "metadata": {},
   "outputs": [
    {
     "data": {
      "text/plain": [
       "array([[ 0,  1,  2,  3],\n",
       "       [ 4,  5,  6,  7],\n",
       "       [ 8,  9, 10, 11],\n",
       "       [12, 13, 14, 15]])"
      ]
     },
     "execution_count": 101,
     "metadata": {},
     "output_type": "execute_result"
    }
   ],
   "source": [
    "arr = np.arange(16).reshape(4, 4)\n",
    "arr"
   ]
  },
  {
   "cell_type": "code",
   "execution_count": 103,
   "id": "06e5d8d0-71bc-467c-9a07-e8b8b4ea6f49",
   "metadata": {},
   "outputs": [
    {
     "data": {
      "text/plain": [
       "array([[ 5,  6],\n",
       "       [ 9, 10]])"
      ]
     },
     "execution_count": 103,
     "metadata": {},
     "output_type": "execute_result"
    }
   ],
   "source": [
    "arr[1:3 , 1:3]"
   ]
  },
  {
   "cell_type": "markdown",
   "id": "69ff77e7-7c52-45d1-a86f-9f2be5d16671",
   "metadata": {},
   "source": [
    "## 조건 연산\n",
    "- 원하는 결괏값: True/False"
   ]
  },
  {
   "cell_type": "code",
   "execution_count": 106,
   "id": "91a96a4d-0773-4ddb-8eb9-a9ea16af0ed7",
   "metadata": {},
   "outputs": [
    {
     "data": {
      "text/plain": [
       "array([False,  True,  True])"
      ]
     },
     "execution_count": 106,
     "metadata": {},
     "output_type": "execute_result"
    }
   ],
   "source": [
    "arr = np.array([10, 20, 30])\n",
    "arr > 10"
   ]
  },
  {
   "cell_type": "code",
   "execution_count": 107,
   "id": "c5530be7-249b-48e7-9044-1bda12902758",
   "metadata": {},
   "outputs": [],
   "source": [
    "# 이 컨셉 굉장히 중요. pandas dataframe 할 때도 이 원리를 적용함"
   ]
  },
  {
   "cell_type": "code",
   "execution_count": 109,
   "id": "4c5e3595-a4f6-470e-8b09-57e4a2082d7d",
   "metadata": {},
   "outputs": [
    {
     "data": {
      "text/plain": [
       "array([20, 30])"
      ]
     },
     "execution_count": 109,
     "metadata": {},
     "output_type": "execute_result"
    }
   ],
   "source": [
    "arr = np.array([10, 20, 30])\n",
    "cond = [False, True, True] # 조건\n",
    "\n",
    "arr[cond]"
   ]
  },
  {
   "cell_type": "code",
   "execution_count": 111,
   "id": "e82fda05-77a0-432a-b4b8-f996ef1a50d6",
   "metadata": {},
   "outputs": [],
   "source": [
    "# 매우 중요!!\n",
    "# 10보다 큰걸 가져오세요 -> true 값만 뽑은 걸 가져온 것"
   ]
  },
  {
   "cell_type": "code",
   "execution_count": 112,
   "id": "28eff466-5c36-42f4-b41b-4f400c78cf10",
   "metadata": {},
   "outputs": [
    {
     "data": {
      "text/plain": [
       "array([20, 50, 30])"
      ]
     },
     "execution_count": 112,
     "metadata": {},
     "output_type": "execute_result"
    }
   ],
   "source": [
    "arr = np.array([18, 20, 50, 30, 16])\n",
    "cond = arr > 18 # 조건\n",
    "\n",
    "arr[cond]"
   ]
  },
  {
   "cell_type": "code",
   "execution_count": 113,
   "id": "260be1cb-a4da-484a-8839-b91c6b587e23",
   "metadata": {},
   "outputs": [
    {
     "data": {
      "text/plain": [
       "array([20, 50, 30])"
      ]
     },
     "execution_count": 113,
     "metadata": {},
     "output_type": "execute_result"
    }
   ],
   "source": [
    "arr = np.array([18, 20, 50, 30, 16])\n",
    "arr[arr > 18]"
   ]
  },
  {
   "cell_type": "code",
   "execution_count": 119,
   "id": "b84a058f-3dd1-4d58-985d-119598cfed41",
   "metadata": {},
   "outputs": [
    {
     "data": {
      "text/plain": [
       "array([20, 50, 30])"
      ]
     },
     "execution_count": 119,
     "metadata": {},
     "output_type": "execute_result"
    }
   ],
   "source": [
    "arr = np.array([18, 20, 50, 30, 16, 65, 70])\n",
    "# 다중 조건\n",
    "con0 = arr > 18\n",
    "con1 = arr < 65\n",
    "# 두 가지 조건을 동시에 만족하는 애를 가져오고 싶다\n",
    "arr[con0 & con1] # and 연산"
   ]
  },
  {
   "cell_type": "code",
   "execution_count": 120,
   "id": "ceb78f86-790b-4c41-aac6-8481938edb7c",
   "metadata": {},
   "outputs": [
    {
     "data": {
      "text/plain": [
       "array([18, 20, 50, 30, 16, 65, 70])"
      ]
     },
     "execution_count": 120,
     "metadata": {},
     "output_type": "execute_result"
    }
   ],
   "source": [
    "# or 연산 : |\n",
    "arr[ con0 | con1  ]"
   ]
  },
  {
   "cell_type": "code",
   "execution_count": null,
   "id": "296aeb48-f663-48ab-a01e-ab466b86643e",
   "metadata": {},
   "outputs": [],
   "source": [
    "# 권장사항, 이유: 판다스 다중조건 필터링 할 때는 아래 방법으로만 가능\n",
    "# () 반드시 필요\n",
    "arr[(con0 | con1)]"
   ]
  },
  {
   "cell_type": "markdown",
   "id": "052557c9-0c5d-44a9-adb6-240c6a58b93e",
   "metadata": {},
   "source": [
    "## np.where\n",
    "- https://numpy.org/doc/stable/reference/generated/numpy.where.html\n",
    "- 공식문서 확인해보세요\n",
    "\n"
   ]
  },
  {
   "cell_type": "code",
   "execution_count": 121,
   "id": "e529c97c-485c-4b63-8d7c-623b81beaeb6",
   "metadata": {},
   "outputs": [
    {
     "data": {
      "text/plain": [
       "array([0, 1, 2, 3, 4, 5, 6, 7, 8, 9])"
      ]
     },
     "execution_count": 121,
     "metadata": {},
     "output_type": "execute_result"
    }
   ],
   "source": [
    "a = np.arange(10)\n",
    "a"
   ]
  },
  {
   "cell_type": "code",
   "execution_count": 122,
   "id": "1a6041ac-9bdb-46e5-9bd7-7645a7a9fdff",
   "metadata": {},
   "outputs": [
    {
     "data": {
      "text/plain": [
       "array([ 0,  1,  2,  3,  4, 50, 60, 70, 80, 90])"
      ]
     },
     "execution_count": 122,
     "metadata": {},
     "output_type": "execute_result"
    }
   ],
   "source": [
    "# 조건문임 \n",
    "np.where(a < 5, a, 10*a)"
   ]
  },
  {
   "cell_type": "markdown",
   "id": "64b4e982-f247-4be2-ae57-e5f89453f385",
   "metadata": {},
   "source": [
    "## 함수와 메서드"
   ]
  },
  {
   "cell_type": "code",
   "execution_count": 125,
   "id": "484a4e66-5ac3-4f52-b663-f2877d4b645a",
   "metadata": {},
   "outputs": [
    {
     "data": {
      "text/plain": [
       "array([[0, 1],\n",
       "       [2, 3],\n",
       "       [4, 5],\n",
       "       [6, 7]])"
      ]
     },
     "execution_count": 125,
     "metadata": {},
     "output_type": "execute_result"
    }
   ],
   "source": [
    "arr = np.arange(8).reshape(4,2)\n",
    "arr"
   ]
  },
  {
   "cell_type": "code",
   "execution_count": 127,
   "id": "f5694f73-43ac-408a-a8e5-ca8ad4c1bc8a",
   "metadata": {},
   "outputs": [
    {
     "data": {
      "text/plain": [
       "np.int64(28)"
      ]
     },
     "execution_count": 127,
     "metadata": {},
     "output_type": "execute_result"
    }
   ],
   "source": [
    "arr.sum() # arr 요소를 다 합한 값이 나옴"
   ]
  },
  {
   "cell_type": "code",
   "execution_count": 132,
   "id": "e54fee5f-8ac4-4cfd-95d8-fe61e44aacb9",
   "metadata": {},
   "outputs": [
    {
     "data": {
      "text/plain": [
       "np.int64(28)"
      ]
     },
     "execution_count": 132,
     "metadata": {},
     "output_type": "execute_result"
    }
   ],
   "source": [
    "arr.sum(axis = None)"
   ]
  },
  {
   "cell_type": "code",
   "execution_count": 130,
   "id": "cc8bfaa7-1c14-414c-9632-c05272ef0db8",
   "metadata": {},
   "outputs": [
    {
     "data": {
      "text/plain": [
       "array([12, 16])"
      ]
     },
     "execution_count": 130,
     "metadata": {},
     "output_type": "execute_result"
    }
   ],
   "source": [
    "arr.sum(axis = 0) # x축 방향으로 데이터 합 구함"
   ]
  },
  {
   "cell_type": "code",
   "execution_count": 131,
   "id": "6a9f9a20-0635-4bc6-81d9-e09b5ed7f63a",
   "metadata": {},
   "outputs": [
    {
     "data": {
      "text/plain": [
       "array([ 1,  5,  9, 13])"
      ]
     },
     "execution_count": 131,
     "metadata": {},
     "output_type": "execute_result"
    }
   ],
   "source": [
    "arr.sum(axis = 1) # y축 방향으로 데이터 합 구함"
   ]
  },
  {
   "cell_type": "code",
   "execution_count": null,
   "id": "ca7312e6-48aa-4994-ac60-042ff3cd5f94",
   "metadata": {},
   "outputs": [],
   "source": [
    "# numpy 보단 dataframe 많이 씀. 거기에도 이런 거 있음"
   ]
  },
  {
   "cell_type": "code",
   "execution_count": 133,
   "id": "c3c90121-7a51-432f-8ab3-e3da9ca0240a",
   "metadata": {},
   "outputs": [
    {
     "data": {
      "text/plain": [
       "3"
      ]
     },
     "execution_count": 133,
     "metadata": {},
     "output_type": "execute_result"
    }
   ],
   "source": [
    "# 무작위 랜덤 함수 만들기\n",
    "np.random.randint(10)"
   ]
  },
  {
   "cell_type": "code",
   "execution_count": 135,
   "id": "b64c380e-8df9-4ef4-9095-afdb2ed1bcb4",
   "metadata": {},
   "outputs": [
    {
     "data": {
      "text/plain": [
       "6"
      ]
     },
     "execution_count": 135,
     "metadata": {},
     "output_type": "execute_result"
    }
   ],
   "source": [
    "np.random.seed(42) # 이러면 랜덤 수 안바뀜. 나중에 머신러닝 할 때 이 코드 자주 사용함\n",
    "np.random.randint(10)"
   ]
  },
  {
   "cell_type": "code",
   "execution_count": 137,
   "id": "f972551f-214c-4244-8c3a-d3eb37456fd8",
   "metadata": {},
   "outputs": [
    {
     "data": {
      "text/plain": [
       "array([18, 22, 10, 10, 23, 35], dtype=int32)"
      ]
     },
     "execution_count": 137,
     "metadata": {},
     "output_type": "execute_result"
    }
   ],
   "source": [
    "np.random.randint(46, size = 6)\n",
    "# 46dl dmlalgksms rjtdms 0~45번째 까지의 숫자 중 무작위로 가져오겠음"
   ]
  },
  {
   "cell_type": "code",
   "execution_count": 138,
   "id": "60762651-3747-4d11-b24e-ae6fa5dd6d93",
   "metadata": {},
   "outputs": [
    {
     "data": {
      "text/plain": [
       "array([[39, 23,  2, 21],\n",
       "       [ 1, 23, 43, 29],\n",
       "       [37,  1, 20, 32]], dtype=int32)"
      ]
     },
     "execution_count": 138,
     "metadata": {},
     "output_type": "execute_result"
    }
   ],
   "source": [
    "# 배열로도 출력 가능\n",
    "np.random.randint(46, size = (3, 4))"
   ]
  },
  {
   "cell_type": "code",
   "execution_count": 139,
   "id": "545e3908-434b-49d7-8ab8-271be13b7663",
   "metadata": {},
   "outputs": [
    {
     "name": "stdout",
     "output_type": "stream",
     "text": [
      "[  0.  10.  20.  30.  40.  50.  60.  70.  80.  90. 100.]\n"
     ]
    }
   ],
   "source": [
    "x = np.linspace(0, 100 ,11) # 범위 주고, 균등하게 11개로 분할해라\n",
    "print(x)"
   ]
  },
  {
   "cell_type": "markdown",
   "id": "53765ab3-96c1-45aa-bbc0-c8a9b0c1970e",
   "metadata": {},
   "source": [
    "# pandas"
   ]
  },
  {
   "cell_type": "markdown",
   "id": "dcea5dce-1612-4b2d-96f6-9dbdd82d12bc",
   "metadata": {},
   "source": [
    "## pandas series"
   ]
  },
  {
   "cell_type": "code",
   "execution_count": 140,
   "id": "ad41d655-c51b-4c76-9d6d-b7d5c0b00a9e",
   "metadata": {},
   "outputs": [
    {
     "data": {
      "text/plain": [
       "'2.2.3'"
      ]
     },
     "execution_count": 140,
     "metadata": {},
     "output_type": "execute_result"
    }
   ],
   "source": [
    "pd.__version__"
   ]
  },
  {
   "cell_type": "code",
   "execution_count": 141,
   "id": "06815364-a5d4-4627-9216-d536a9bd0598",
   "metadata": {},
   "outputs": [
    {
     "data": {
      "text/plain": [
       "0    10\n",
       "1    20\n",
       "2    30\n",
       "dtype: int64"
      ]
     },
     "execution_count": 141,
     "metadata": {},
     "output_type": "execute_result"
    }
   ],
   "source": [
    "data = [10, 20, 30]\n",
    "s = pd.Series(data)\n",
    "s"
   ]
  },
  {
   "cell_type": "code",
   "execution_count": 142,
   "id": "98054810-d9e4-4bb3-bcda-d2eb50839db3",
   "metadata": {},
   "outputs": [
    {
     "name": "stdout",
     "output_type": "stream",
     "text": [
      "<class 'pandas.core.series.Series'>\n"
     ]
    }
   ],
   "source": [
    "print(type(s))"
   ]
  },
  {
   "cell_type": "code",
   "execution_count": null,
   "id": "a8aac1ee-6d89-4ef7-af3c-73fca52ef067",
   "metadata": {},
   "outputs": [],
   "source": [
    "# 클래스 명이 길다. pandas.core.series.Series"
   ]
  },
  {
   "cell_type": "markdown",
   "id": "9ec10b7b-e5d3-4519-b8d5-fb82c314e862",
   "metadata": {},
   "source": [
    "### pandas documentation (공식 문서)\n",
    "- https://pandas.pydata.org/\n",
    "- 굉장히 빠르게 업데이트 되니, 자주 들어가게 될 것\n",
    "- deprecations: 지원 중단되는 기능들\n",
    "- API refrence 도 자주 감"
   ]
  },
  {
   "cell_type": "code",
   "execution_count": 143,
   "id": "7d0b1362-782d-4db3-8a16-7ab358053e0d",
   "metadata": {},
   "outputs": [
    {
     "data": {
      "text/plain": [
       "0    0\n",
       "1    1\n",
       "2    2\n",
       "3    3\n",
       "4    4\n",
       "dtype: int64"
      ]
     },
     "execution_count": 143,
     "metadata": {},
     "output_type": "execute_result"
    }
   ],
   "source": [
    "data = np.arange(5)\n",
    "s = pd.Series(data)\n",
    "s"
   ]
  },
  {
   "cell_type": "code",
   "execution_count": 146,
   "id": "1691b279-c686-4b2b-8cf7-49651597de81",
   "metadata": {},
   "outputs": [
    {
     "data": {
      "text/html": [
       "<div>\n",
       "<style scoped>\n",
       "    .dataframe tbody tr th:only-of-type {\n",
       "        vertical-align: middle;\n",
       "    }\n",
       "\n",
       "    .dataframe tbody tr th {\n",
       "        vertical-align: top;\n",
       "    }\n",
       "\n",
       "    .dataframe thead th {\n",
       "        text-align: right;\n",
       "    }\n",
       "</style>\n",
       "<table border=\"1\" class=\"dataframe\">\n",
       "  <thead>\n",
       "    <tr style=\"text-align: right;\">\n",
       "      <th></th>\n",
       "      <th>0</th>\n",
       "    </tr>\n",
       "  </thead>\n",
       "  <tbody>\n",
       "    <tr>\n",
       "      <th>0</th>\n",
       "      <td>0</td>\n",
       "    </tr>\n",
       "    <tr>\n",
       "      <th>1</th>\n",
       "      <td>1</td>\n",
       "    </tr>\n",
       "    <tr>\n",
       "      <th>2</th>\n",
       "      <td>2</td>\n",
       "    </tr>\n",
       "    <tr>\n",
       "      <th>3</th>\n",
       "      <td>3</td>\n",
       "    </tr>\n",
       "    <tr>\n",
       "      <th>4</th>\n",
       "      <td>4</td>\n",
       "    </tr>\n",
       "  </tbody>\n",
       "</table>\n",
       "</div>"
      ],
      "text/plain": [
       "   0\n",
       "0  0\n",
       "1  1\n",
       "2  2\n",
       "3  3\n",
       "4  4"
      ]
     },
     "execution_count": 146,
     "metadata": {},
     "output_type": "execute_result"
    }
   ],
   "source": [
    "# Series 말고 Dataframe이라는 클래스 적용해보자\n",
    "data = np.arange(5)\n",
    "s = pd.DataFrame(data)\n",
    "s"
   ]
  },
  {
   "cell_type": "code",
   "execution_count": 147,
   "id": "a73ec14c-8d82-4c17-ac85-110de08b000d",
   "metadata": {},
   "outputs": [],
   "source": [
    "# 문자로도 해보자"
   ]
  },
  {
   "cell_type": "code",
   "execution_count": 149,
   "id": "8b618e3e-7d2c-40ea-83df-c0fb5ff62085",
   "metadata": {},
   "outputs": [
    {
     "data": {
      "text/plain": [
       "0    시가\n",
       "1    고가\n",
       "dtype: object"
      ]
     },
     "execution_count": 149,
     "metadata": {},
     "output_type": "execute_result"
    }
   ],
   "source": [
    "data = [\"시가\", \"고가\"]\n",
    "s = pd.Series(data)\n",
    "s"
   ]
  },
  {
   "cell_type": "code",
   "execution_count": 150,
   "id": "c09dfebd-d671-4f6b-a289-b10e51f45bec",
   "metadata": {},
   "outputs": [
    {
     "data": {
      "text/html": [
       "<div>\n",
       "<style scoped>\n",
       "    .dataframe tbody tr th:only-of-type {\n",
       "        vertical-align: middle;\n",
       "    }\n",
       "\n",
       "    .dataframe tbody tr th {\n",
       "        vertical-align: top;\n",
       "    }\n",
       "\n",
       "    .dataframe thead th {\n",
       "        text-align: right;\n",
       "    }\n",
       "</style>\n",
       "<table border=\"1\" class=\"dataframe\">\n",
       "  <thead>\n",
       "    <tr style=\"text-align: right;\">\n",
       "      <th></th>\n",
       "      <th>0</th>\n",
       "    </tr>\n",
       "  </thead>\n",
       "  <tbody>\n",
       "    <tr>\n",
       "      <th>0</th>\n",
       "      <td>시가</td>\n",
       "    </tr>\n",
       "    <tr>\n",
       "      <th>1</th>\n",
       "      <td>고가</td>\n",
       "    </tr>\n",
       "  </tbody>\n",
       "</table>\n",
       "</div>"
      ],
      "text/plain": [
       "    0\n",
       "0  시가\n",
       "1  고가"
      ]
     },
     "execution_count": 150,
     "metadata": {},
     "output_type": "execute_result"
    }
   ],
   "source": [
    "data = [\"시가\", \"고가\"]\n",
    "s = pd.DataFrame(data)\n",
    "s"
   ]
  },
  {
   "cell_type": "code",
   "execution_count": 151,
   "id": "f2f6515b-37a4-462d-ba71-12b78880f804",
   "metadata": {},
   "outputs": [
    {
     "data": {
      "text/plain": [
       "0    8000\n",
       "1    9000\n",
       "dtype: object"
      ]
     },
     "execution_count": 151,
     "metadata": {},
     "output_type": "execute_result"
    }
   ],
   "source": [
    "data = [8000, \"9000\"]\n",
    "s = pd.Series(data)\n",
    "s"
   ]
  },
  {
   "cell_type": "code",
   "execution_count": 153,
   "id": "04d4b1d2-59b1-4abf-939d-54f1db9da952",
   "metadata": {},
   "outputs": [],
   "source": [
    "# dtype: object\n",
    "# 이게 머징\n",
    "# object란 : int ,float, bool, datetime, category로 들어가기 그런, 형식이 정해지지 않은 상태 (흔히 문자열 이라 한다.) -> 변경(처리) 필요"
   ]
  },
  {
   "cell_type": "markdown",
   "id": "50894ef5-60cd-4180-8f2a-13a8984fe032",
   "metadata": {},
   "source": [
    "## Series Index"
   ]
  },
  {
   "cell_type": "code",
   "execution_count": 156,
   "id": "a14da8ad-6568-4ec9-9e3e-550be3306017",
   "metadata": {},
   "outputs": [
    {
     "data": {
      "text/plain": [
       "0    1000\n",
       "1    2000\n",
       "2    3000\n",
       "dtype: int64"
      ]
     },
     "execution_count": 156,
     "metadata": {},
     "output_type": "execute_result"
    }
   ],
   "source": [
    "data = [1000, 2000, 3000]\n",
    "s = pd.Series(data)\n",
    "s"
   ]
  },
  {
   "cell_type": "code",
   "execution_count": 157,
   "id": "1ca3730d-6558-4734-bcde-71be3f871c77",
   "metadata": {},
   "outputs": [
    {
     "data": {
      "text/plain": [
       "RangeIndex(start=0, stop=3, step=1)"
      ]
     },
     "execution_count": 157,
     "metadata": {},
     "output_type": "execute_result"
    }
   ],
   "source": [
    "s.index"
   ]
  },
  {
   "cell_type": "code",
   "execution_count": 159,
   "id": "7e34f2da-9a0c-42fb-b5cd-72b4e8de713a",
   "metadata": {},
   "outputs": [
    {
     "name": "stdout",
     "output_type": "stream",
     "text": [
      "RangeIndex(start=0, stop=3, step=1)\n"
     ]
    }
   ],
   "source": [
    "print(s.index) # s.index의 클래스명. 하나의 객체다. -> RangeIndex도 들어가면 속성과 메서드 있을 것."
   ]
  },
  {
   "cell_type": "code",
   "execution_count": 160,
   "id": "70e87ca7-0015-49d3-a043-af3a517216bf",
   "metadata": {},
   "outputs": [],
   "source": [
    "# RangeIndex : s.index의 클래스명. 하나의 객체다. -> RangeIndex도 들어가면 속성과 메서드 있을 것."
   ]
  },
  {
   "cell_type": "code",
   "execution_count": 161,
   "id": "fc167a59-f5e1-4fdc-85d4-d81db0fefce1",
   "metadata": {},
   "outputs": [],
   "source": [
    "# 저게 아니라 리스트 형태로 만들고 싶다"
   ]
  },
  {
   "cell_type": "code",
   "execution_count": 162,
   "id": "26edb120-d063-4f63-b6e7-65979c4ef0f7",
   "metadata": {},
   "outputs": [
    {
     "data": {
      "text/plain": [
       "[0, 1, 2]"
      ]
     },
     "execution_count": 162,
     "metadata": {},
     "output_type": "execute_result"
    }
   ],
   "source": [
    "# sol1/ 형 변환\n",
    "list(s.index)"
   ]
  },
  {
   "cell_type": "code",
   "execution_count": 163,
   "id": "08eb9d0a-9f08-4628-97c2-b2415d701e1e",
   "metadata": {},
   "outputs": [
    {
     "data": {
      "text/plain": [
       "[0, 1, 2]"
      ]
     },
     "execution_count": 163,
     "metadata": {},
     "output_type": "execute_result"
    }
   ],
   "source": [
    "# sol2/ 내부에서 처리\n",
    "s.index.to_list()"
   ]
  },
  {
   "cell_type": "code",
   "execution_count": 165,
   "id": "8f248720-d75d-46bb-aea8-e658b08a01ad",
   "metadata": {},
   "outputs": [],
   "source": [
    "# 클래스에는 항상 속성과 메서드가 있다. 메서드를 찾아 내부에서 처리 할 수 있다. 그게 sol 2. \n",
    "# 메서드 어케 찾냐? 공식 문서 확인 ! \n",
    "# 상속 받아서 쓰는 거일 수도 있으니, RangeIndex 보다 상위 클래스도 확인 해야함. 이를테면 Series\n",
    "# Series 들어가서 list 검색하면 나옴 (.to_list)"
   ]
  },
  {
   "cell_type": "markdown",
   "id": "a3d11c22-c0ed-44de-bd4e-318233332e82",
   "metadata": {},
   "source": [
    "## Series 생성하면서 Index도 같이 생성"
   ]
  },
  {
   "cell_type": "code",
   "execution_count": 167,
   "id": "b9055dbb-552e-443d-8718-2461f463d9f2",
   "metadata": {},
   "outputs": [
    {
     "data": {
      "text/plain": [
       "A    1000\n",
       "B    2000\n",
       "C    3000\n",
       "dtype: int64"
      ]
     },
     "execution_count": 167,
     "metadata": {},
     "output_type": "execute_result"
    }
   ],
   "source": [
    "data =[1000, 2000, 3000]\n",
    "index = [\"A\",\"B\",\"C\"]\n",
    "\n",
    "s=pd.Series(data, index)\n",
    "s"
   ]
  },
  {
   "cell_type": "code",
   "execution_count": 168,
   "id": "e89639fd-05db-4fc7-ab3f-e38e7431d149",
   "metadata": {},
   "outputs": [
    {
     "data": {
      "text/plain": [
       "A    1000\n",
       "B    2000\n",
       "C    3000\n",
       "dtype: int64"
      ]
     },
     "execution_count": 168,
     "metadata": {},
     "output_type": "execute_result"
    }
   ],
   "source": [
    "data =[1000, 2000, 3000]\n",
    "index = [\"A\",\"B\",\"C\"]\n",
    "\n",
    "s=pd.Series(data=data, index=index)\n",
    "s"
   ]
  },
  {
   "cell_type": "code",
   "execution_count": 169,
   "id": "ce1d87b2-7159-4607-acb8-1eb09e0e1b22",
   "metadata": {},
   "outputs": [],
   "source": [
    "#??"
   ]
  },
  {
   "cell_type": "markdown",
   "id": "9bbe49ba-95a9-4c80-99e1-cf9da0c3f0cc",
   "metadata": {},
   "source": [
    "### .values"
   ]
  },
  {
   "cell_type": "code",
   "execution_count": 170,
   "id": "3dc7ca86-9f6b-4496-8ffc-084fbdf572d7",
   "metadata": {},
   "outputs": [
    {
     "data": {
      "text/plain": [
       "array([1000, 2000, 3000])"
      ]
     },
     "execution_count": 170,
     "metadata": {},
     "output_type": "execute_result"
    }
   ],
   "source": [
    "s. values"
   ]
  },
  {
   "cell_type": "code",
   "execution_count": 171,
   "id": "661aa03c-2df9-462b-bf80-cd259a8da452",
   "metadata": {},
   "outputs": [
    {
     "name": "stdout",
     "output_type": "stream",
     "text": [
      "<class 'numpy.ndarray'>\n"
     ]
    }
   ],
   "source": [
    "print(type(s.values))"
   ]
  },
  {
   "cell_type": "code",
   "execution_count": 172,
   "id": "b8c1c277-d29c-4295-97c2-ae4683014c41",
   "metadata": {},
   "outputs": [],
   "source": [
    "# type 확인해보면 numpy 배열이다."
   ]
  },
  {
   "cell_type": "markdown",
   "id": "5e128944-ef34-419a-9888-2cdd2e8db734",
   "metadata": {},
   "source": [
    "## Series - Indexing (iloc, loc)"
   ]
  },
  {
   "cell_type": "code",
   "execution_count": 174,
   "id": "1b54f3f0-bcae-4deb-b08a-5ae5a8f62020",
   "metadata": {},
   "outputs": [
    {
     "data": {
      "text/plain": [
       "A    1000\n",
       "B    2000\n",
       "C    3000\n",
       "dtype: int64"
      ]
     },
     "execution_count": 174,
     "metadata": {},
     "output_type": "execute_result"
    }
   ],
   "source": [
    "s"
   ]
  },
  {
   "cell_type": "code",
   "execution_count": 173,
   "id": "f64f3a56-6c0b-4c37-b451-22e302c050c3",
   "metadata": {},
   "outputs": [
    {
     "name": "stdout",
     "output_type": "stream",
     "text": [
      "1000\n"
     ]
    }
   ],
   "source": [
    "print(s.iloc[0])"
   ]
  },
  {
   "cell_type": "code",
   "execution_count": 175,
   "id": "7276cc52-3ec8-467f-81d6-8da4df196d96",
   "metadata": {},
   "outputs": [
    {
     "name": "stdout",
     "output_type": "stream",
     "text": [
      "2000\n"
     ]
    }
   ],
   "source": [
    "print(s.iloc[1])"
   ]
  },
  {
   "cell_type": "code",
   "execution_count": 176,
   "id": "6d7b2113-30f6-4add-97a7-48479e57e61d",
   "metadata": {},
   "outputs": [
    {
     "ename": "KeyError",
     "evalue": "0",
     "output_type": "error",
     "traceback": [
      "\u001b[1;31m---------------------------------------------------------------------------\u001b[0m",
      "\u001b[1;31mKeyError\u001b[0m                                  Traceback (most recent call last)",
      "File \u001b[1;32mC:\\imda\\venv\\Lib\\site-packages\\pandas\\core\\indexes\\base.py:3805\u001b[0m, in \u001b[0;36mIndex.get_loc\u001b[1;34m(self, key)\u001b[0m\n\u001b[0;32m   3804\u001b[0m \u001b[38;5;28;01mtry\u001b[39;00m:\n\u001b[1;32m-> 3805\u001b[0m     \u001b[38;5;28;01mreturn\u001b[39;00m \u001b[38;5;28;43mself\u001b[39;49m\u001b[38;5;241;43m.\u001b[39;49m\u001b[43m_engine\u001b[49m\u001b[38;5;241;43m.\u001b[39;49m\u001b[43mget_loc\u001b[49m\u001b[43m(\u001b[49m\u001b[43mcasted_key\u001b[49m\u001b[43m)\u001b[49m\n\u001b[0;32m   3806\u001b[0m \u001b[38;5;28;01mexcept\u001b[39;00m \u001b[38;5;167;01mKeyError\u001b[39;00m \u001b[38;5;28;01mas\u001b[39;00m err:\n",
      "File \u001b[1;32mindex.pyx:167\u001b[0m, in \u001b[0;36mpandas._libs.index.IndexEngine.get_loc\u001b[1;34m()\u001b[0m\n",
      "File \u001b[1;32mindex.pyx:196\u001b[0m, in \u001b[0;36mpandas._libs.index.IndexEngine.get_loc\u001b[1;34m()\u001b[0m\n",
      "File \u001b[1;32mpandas\\\\_libs\\\\hashtable_class_helper.pxi:7081\u001b[0m, in \u001b[0;36mpandas._libs.hashtable.PyObjectHashTable.get_item\u001b[1;34m()\u001b[0m\n",
      "File \u001b[1;32mpandas\\\\_libs\\\\hashtable_class_helper.pxi:7089\u001b[0m, in \u001b[0;36mpandas._libs.hashtable.PyObjectHashTable.get_item\u001b[1;34m()\u001b[0m\n",
      "\u001b[1;31mKeyError\u001b[0m: 0",
      "\nThe above exception was the direct cause of the following exception:\n",
      "\u001b[1;31mKeyError\u001b[0m                                  Traceback (most recent call last)",
      "Cell \u001b[1;32mIn[176], line 1\u001b[0m\n\u001b[1;32m----> 1\u001b[0m \u001b[38;5;28mprint\u001b[39m(\u001b[43ms\u001b[49m\u001b[38;5;241;43m.\u001b[39;49m\u001b[43mloc\u001b[49m\u001b[43m[\u001b[49m\u001b[38;5;241;43m0\u001b[39;49m\u001b[43m]\u001b[49m)\n",
      "File \u001b[1;32mC:\\imda\\venv\\Lib\\site-packages\\pandas\\core\\indexing.py:1191\u001b[0m, in \u001b[0;36m_LocationIndexer.__getitem__\u001b[1;34m(self, key)\u001b[0m\n\u001b[0;32m   1189\u001b[0m maybe_callable \u001b[38;5;241m=\u001b[39m com\u001b[38;5;241m.\u001b[39mapply_if_callable(key, \u001b[38;5;28mself\u001b[39m\u001b[38;5;241m.\u001b[39mobj)\n\u001b[0;32m   1190\u001b[0m maybe_callable \u001b[38;5;241m=\u001b[39m \u001b[38;5;28mself\u001b[39m\u001b[38;5;241m.\u001b[39m_check_deprecated_callable_usage(key, maybe_callable)\n\u001b[1;32m-> 1191\u001b[0m \u001b[38;5;28;01mreturn\u001b[39;00m \u001b[38;5;28;43mself\u001b[39;49m\u001b[38;5;241;43m.\u001b[39;49m\u001b[43m_getitem_axis\u001b[49m\u001b[43m(\u001b[49m\u001b[43mmaybe_callable\u001b[49m\u001b[43m,\u001b[49m\u001b[43m \u001b[49m\u001b[43maxis\u001b[49m\u001b[38;5;241;43m=\u001b[39;49m\u001b[43maxis\u001b[49m\u001b[43m)\u001b[49m\n",
      "File \u001b[1;32mC:\\imda\\venv\\Lib\\site-packages\\pandas\\core\\indexing.py:1431\u001b[0m, in \u001b[0;36m_LocIndexer._getitem_axis\u001b[1;34m(self, key, axis)\u001b[0m\n\u001b[0;32m   1429\u001b[0m \u001b[38;5;66;03m# fall thru to straight lookup\u001b[39;00m\n\u001b[0;32m   1430\u001b[0m \u001b[38;5;28mself\u001b[39m\u001b[38;5;241m.\u001b[39m_validate_key(key, axis)\n\u001b[1;32m-> 1431\u001b[0m \u001b[38;5;28;01mreturn\u001b[39;00m \u001b[38;5;28;43mself\u001b[39;49m\u001b[38;5;241;43m.\u001b[39;49m\u001b[43m_get_label\u001b[49m\u001b[43m(\u001b[49m\u001b[43mkey\u001b[49m\u001b[43m,\u001b[49m\u001b[43m \u001b[49m\u001b[43maxis\u001b[49m\u001b[38;5;241;43m=\u001b[39;49m\u001b[43maxis\u001b[49m\u001b[43m)\u001b[49m\n",
      "File \u001b[1;32mC:\\imda\\venv\\Lib\\site-packages\\pandas\\core\\indexing.py:1381\u001b[0m, in \u001b[0;36m_LocIndexer._get_label\u001b[1;34m(self, label, axis)\u001b[0m\n\u001b[0;32m   1379\u001b[0m \u001b[38;5;28;01mdef\u001b[39;00m \u001b[38;5;21m_get_label\u001b[39m(\u001b[38;5;28mself\u001b[39m, label, axis: AxisInt):\n\u001b[0;32m   1380\u001b[0m     \u001b[38;5;66;03m# GH#5567 this will fail if the label is not present in the axis.\u001b[39;00m\n\u001b[1;32m-> 1381\u001b[0m     \u001b[38;5;28;01mreturn\u001b[39;00m \u001b[38;5;28;43mself\u001b[39;49m\u001b[38;5;241;43m.\u001b[39;49m\u001b[43mobj\u001b[49m\u001b[38;5;241;43m.\u001b[39;49m\u001b[43mxs\u001b[49m\u001b[43m(\u001b[49m\u001b[43mlabel\u001b[49m\u001b[43m,\u001b[49m\u001b[43m \u001b[49m\u001b[43maxis\u001b[49m\u001b[38;5;241;43m=\u001b[39;49m\u001b[43maxis\u001b[49m\u001b[43m)\u001b[49m\n",
      "File \u001b[1;32mC:\\imda\\venv\\Lib\\site-packages\\pandas\\core\\generic.py:4301\u001b[0m, in \u001b[0;36mNDFrame.xs\u001b[1;34m(self, key, axis, level, drop_level)\u001b[0m\n\u001b[0;32m   4299\u001b[0m             new_index \u001b[38;5;241m=\u001b[39m index[loc]\n\u001b[0;32m   4300\u001b[0m \u001b[38;5;28;01melse\u001b[39;00m:\n\u001b[1;32m-> 4301\u001b[0m     loc \u001b[38;5;241m=\u001b[39m \u001b[43mindex\u001b[49m\u001b[38;5;241;43m.\u001b[39;49m\u001b[43mget_loc\u001b[49m\u001b[43m(\u001b[49m\u001b[43mkey\u001b[49m\u001b[43m)\u001b[49m\n\u001b[0;32m   4303\u001b[0m     \u001b[38;5;28;01mif\u001b[39;00m \u001b[38;5;28misinstance\u001b[39m(loc, np\u001b[38;5;241m.\u001b[39mndarray):\n\u001b[0;32m   4304\u001b[0m         \u001b[38;5;28;01mif\u001b[39;00m loc\u001b[38;5;241m.\u001b[39mdtype \u001b[38;5;241m==\u001b[39m np\u001b[38;5;241m.\u001b[39mbool_:\n",
      "File \u001b[1;32mC:\\imda\\venv\\Lib\\site-packages\\pandas\\core\\indexes\\base.py:3812\u001b[0m, in \u001b[0;36mIndex.get_loc\u001b[1;34m(self, key)\u001b[0m\n\u001b[0;32m   3807\u001b[0m     \u001b[38;5;28;01mif\u001b[39;00m \u001b[38;5;28misinstance\u001b[39m(casted_key, \u001b[38;5;28mslice\u001b[39m) \u001b[38;5;129;01mor\u001b[39;00m (\n\u001b[0;32m   3808\u001b[0m         \u001b[38;5;28misinstance\u001b[39m(casted_key, abc\u001b[38;5;241m.\u001b[39mIterable)\n\u001b[0;32m   3809\u001b[0m         \u001b[38;5;129;01mand\u001b[39;00m \u001b[38;5;28many\u001b[39m(\u001b[38;5;28misinstance\u001b[39m(x, \u001b[38;5;28mslice\u001b[39m) \u001b[38;5;28;01mfor\u001b[39;00m x \u001b[38;5;129;01min\u001b[39;00m casted_key)\n\u001b[0;32m   3810\u001b[0m     ):\n\u001b[0;32m   3811\u001b[0m         \u001b[38;5;28;01mraise\u001b[39;00m InvalidIndexError(key)\n\u001b[1;32m-> 3812\u001b[0m     \u001b[38;5;28;01mraise\u001b[39;00m \u001b[38;5;167;01mKeyError\u001b[39;00m(key) \u001b[38;5;28;01mfrom\u001b[39;00m \u001b[38;5;21;01merr\u001b[39;00m\n\u001b[0;32m   3813\u001b[0m \u001b[38;5;28;01mexcept\u001b[39;00m \u001b[38;5;167;01mTypeError\u001b[39;00m:\n\u001b[0;32m   3814\u001b[0m     \u001b[38;5;66;03m# If we have a listlike key, _check_indexing_error will raise\u001b[39;00m\n\u001b[0;32m   3815\u001b[0m     \u001b[38;5;66;03m#  InvalidIndexError. Otherwise we fall through and re-raise\u001b[39;00m\n\u001b[0;32m   3816\u001b[0m     \u001b[38;5;66;03m#  the TypeError.\u001b[39;00m\n\u001b[0;32m   3817\u001b[0m     \u001b[38;5;28mself\u001b[39m\u001b[38;5;241m.\u001b[39m_check_indexing_error(key)\n",
      "\u001b[1;31mKeyError\u001b[0m: 0"
     ]
    }
   ],
   "source": [
    "print(s.loc[0])"
   ]
  },
  {
   "cell_type": "code",
   "execution_count": 177,
   "id": "aede216c-7f6e-4632-b577-28ae31a9373d",
   "metadata": {},
   "outputs": [],
   "source": [
    "# KeyError: 0"
   ]
  },
  {
   "cell_type": "code",
   "execution_count": 178,
   "id": "12dfe331-6685-4775-94b9-dcfeff9a37c0",
   "metadata": {},
   "outputs": [
    {
     "name": "stdout",
     "output_type": "stream",
     "text": [
      "1000\n"
     ]
    }
   ],
   "source": [
    "print(s.loc[\"A\"])"
   ]
  },
  {
   "cell_type": "code",
   "execution_count": 182,
   "id": "17e4575c-0969-4aa3-9fc5-8bdb7e1a17e7",
   "metadata": {},
   "outputs": [
    {
     "name": "stdout",
     "output_type": "stream",
     "text": [
      "1000\n"
     ]
    },
    {
     "ename": "KeyError",
     "evalue": "'A'",
     "output_type": "error",
     "traceback": [
      "\u001b[1;31m---------------------------------------------------------------------------\u001b[0m",
      "\u001b[1;31mKeyError\u001b[0m                                  Traceback (most recent call last)",
      "Cell \u001b[1;32mIn[182], line 6\u001b[0m\n\u001b[0;32m      4\u001b[0m s2\u001b[38;5;241m=\u001b[39mpd\u001b[38;5;241m.\u001b[39mSeries(data\u001b[38;5;241m=\u001b[39mdata)\n\u001b[0;32m      5\u001b[0m \u001b[38;5;28mprint\u001b[39m(s2\u001b[38;5;241m.\u001b[39miloc[\u001b[38;5;241m0\u001b[39m])  \u001b[38;5;66;03m# iloc에서의 0은 위치 0을 의미\u001b[39;00m\n\u001b[1;32m----> 6\u001b[0m \u001b[38;5;28mprint\u001b[39m(\u001b[43ms2\u001b[49m\u001b[38;5;241;43m.\u001b[39;49m\u001b[43mloc\u001b[49m\u001b[43m[\u001b[49m\u001b[38;5;124;43m\"\u001b[39;49m\u001b[38;5;124;43mA\u001b[39;49m\u001b[38;5;124;43m\"\u001b[39;49m\u001b[43m]\u001b[49m) \u001b[38;5;66;03m# loc에서의 0dms fkqpf -을 의미\u001b[39;00m\n",
      "File \u001b[1;32mC:\\imda\\venv\\Lib\\site-packages\\pandas\\core\\indexing.py:1191\u001b[0m, in \u001b[0;36m_LocationIndexer.__getitem__\u001b[1;34m(self, key)\u001b[0m\n\u001b[0;32m   1189\u001b[0m maybe_callable \u001b[38;5;241m=\u001b[39m com\u001b[38;5;241m.\u001b[39mapply_if_callable(key, \u001b[38;5;28mself\u001b[39m\u001b[38;5;241m.\u001b[39mobj)\n\u001b[0;32m   1190\u001b[0m maybe_callable \u001b[38;5;241m=\u001b[39m \u001b[38;5;28mself\u001b[39m\u001b[38;5;241m.\u001b[39m_check_deprecated_callable_usage(key, maybe_callable)\n\u001b[1;32m-> 1191\u001b[0m \u001b[38;5;28;01mreturn\u001b[39;00m \u001b[38;5;28;43mself\u001b[39;49m\u001b[38;5;241;43m.\u001b[39;49m\u001b[43m_getitem_axis\u001b[49m\u001b[43m(\u001b[49m\u001b[43mmaybe_callable\u001b[49m\u001b[43m,\u001b[49m\u001b[43m \u001b[49m\u001b[43maxis\u001b[49m\u001b[38;5;241;43m=\u001b[39;49m\u001b[43maxis\u001b[49m\u001b[43m)\u001b[49m\n",
      "File \u001b[1;32mC:\\imda\\venv\\Lib\\site-packages\\pandas\\core\\indexing.py:1431\u001b[0m, in \u001b[0;36m_LocIndexer._getitem_axis\u001b[1;34m(self, key, axis)\u001b[0m\n\u001b[0;32m   1429\u001b[0m \u001b[38;5;66;03m# fall thru to straight lookup\u001b[39;00m\n\u001b[0;32m   1430\u001b[0m \u001b[38;5;28mself\u001b[39m\u001b[38;5;241m.\u001b[39m_validate_key(key, axis)\n\u001b[1;32m-> 1431\u001b[0m \u001b[38;5;28;01mreturn\u001b[39;00m \u001b[38;5;28;43mself\u001b[39;49m\u001b[38;5;241;43m.\u001b[39;49m\u001b[43m_get_label\u001b[49m\u001b[43m(\u001b[49m\u001b[43mkey\u001b[49m\u001b[43m,\u001b[49m\u001b[43m \u001b[49m\u001b[43maxis\u001b[49m\u001b[38;5;241;43m=\u001b[39;49m\u001b[43maxis\u001b[49m\u001b[43m)\u001b[49m\n",
      "File \u001b[1;32mC:\\imda\\venv\\Lib\\site-packages\\pandas\\core\\indexing.py:1381\u001b[0m, in \u001b[0;36m_LocIndexer._get_label\u001b[1;34m(self, label, axis)\u001b[0m\n\u001b[0;32m   1379\u001b[0m \u001b[38;5;28;01mdef\u001b[39;00m \u001b[38;5;21m_get_label\u001b[39m(\u001b[38;5;28mself\u001b[39m, label, axis: AxisInt):\n\u001b[0;32m   1380\u001b[0m     \u001b[38;5;66;03m# GH#5567 this will fail if the label is not present in the axis.\u001b[39;00m\n\u001b[1;32m-> 1381\u001b[0m     \u001b[38;5;28;01mreturn\u001b[39;00m \u001b[38;5;28;43mself\u001b[39;49m\u001b[38;5;241;43m.\u001b[39;49m\u001b[43mobj\u001b[49m\u001b[38;5;241;43m.\u001b[39;49m\u001b[43mxs\u001b[49m\u001b[43m(\u001b[49m\u001b[43mlabel\u001b[49m\u001b[43m,\u001b[49m\u001b[43m \u001b[49m\u001b[43maxis\u001b[49m\u001b[38;5;241;43m=\u001b[39;49m\u001b[43maxis\u001b[49m\u001b[43m)\u001b[49m\n",
      "File \u001b[1;32mC:\\imda\\venv\\Lib\\site-packages\\pandas\\core\\generic.py:4301\u001b[0m, in \u001b[0;36mNDFrame.xs\u001b[1;34m(self, key, axis, level, drop_level)\u001b[0m\n\u001b[0;32m   4299\u001b[0m             new_index \u001b[38;5;241m=\u001b[39m index[loc]\n\u001b[0;32m   4300\u001b[0m \u001b[38;5;28;01melse\u001b[39;00m:\n\u001b[1;32m-> 4301\u001b[0m     loc \u001b[38;5;241m=\u001b[39m \u001b[43mindex\u001b[49m\u001b[38;5;241;43m.\u001b[39;49m\u001b[43mget_loc\u001b[49m\u001b[43m(\u001b[49m\u001b[43mkey\u001b[49m\u001b[43m)\u001b[49m\n\u001b[0;32m   4303\u001b[0m     \u001b[38;5;28;01mif\u001b[39;00m \u001b[38;5;28misinstance\u001b[39m(loc, np\u001b[38;5;241m.\u001b[39mndarray):\n\u001b[0;32m   4304\u001b[0m         \u001b[38;5;28;01mif\u001b[39;00m loc\u001b[38;5;241m.\u001b[39mdtype \u001b[38;5;241m==\u001b[39m np\u001b[38;5;241m.\u001b[39mbool_:\n",
      "File \u001b[1;32mC:\\imda\\venv\\Lib\\site-packages\\pandas\\core\\indexes\\range.py:417\u001b[0m, in \u001b[0;36mRangeIndex.get_loc\u001b[1;34m(self, key)\u001b[0m\n\u001b[0;32m    415\u001b[0m         \u001b[38;5;28;01mraise\u001b[39;00m \u001b[38;5;167;01mKeyError\u001b[39;00m(key) \u001b[38;5;28;01mfrom\u001b[39;00m \u001b[38;5;21;01merr\u001b[39;00m\n\u001b[0;32m    416\u001b[0m \u001b[38;5;28;01mif\u001b[39;00m \u001b[38;5;28misinstance\u001b[39m(key, Hashable):\n\u001b[1;32m--> 417\u001b[0m     \u001b[38;5;28;01mraise\u001b[39;00m \u001b[38;5;167;01mKeyError\u001b[39;00m(key)\n\u001b[0;32m    418\u001b[0m \u001b[38;5;28mself\u001b[39m\u001b[38;5;241m.\u001b[39m_check_indexing_error(key)\n\u001b[0;32m    419\u001b[0m \u001b[38;5;28;01mraise\u001b[39;00m \u001b[38;5;167;01mKeyError\u001b[39;00m(key)\n",
      "\u001b[1;31mKeyError\u001b[0m: 'A'"
     ]
    }
   ],
   "source": [
    "data =[1000, 2000, 3000]\n",
    "# index가 없음\n",
    "\n",
    "s2=pd.Series(data=data)\n",
    "print(s2.iloc[0])  # iloc에서의 0은 위치 0을 의미\n",
    "print(s2.loc[\"A\"]) # loc에서의 0dms fkqpf -을 의미"
   ]
  },
  {
   "cell_type": "code",
   "execution_count": 181,
   "id": "17bf9ae0-9985-4100-9dfc-902a301f9798",
   "metadata": {},
   "outputs": [],
   "source": [
    "# 차이점은 s2에는 인덱스가 없음. \n",
    "# iloc loc 차이 중요!!!!!!"
   ]
  },
  {
   "cell_type": "markdown",
   "id": "7c84ff33-bc24-4752-ac15-69fac163c3dc",
   "metadata": {},
   "source": [
    "## Series - Slicing"
   ]
  },
  {
   "cell_type": "code",
   "execution_count": 183,
   "id": "b4c48a34-3b59-4281-8983-f88bb1084ecf",
   "metadata": {},
   "outputs": [
    {
     "data": {
      "text/plain": [
       "A    1000\n",
       "B    2000\n",
       "C    3000\n",
       "dtype: int64"
      ]
     },
     "execution_count": 183,
     "metadata": {},
     "output_type": "execute_result"
    }
   ],
   "source": [
    "s"
   ]
  },
  {
   "cell_type": "code",
   "execution_count": 184,
   "id": "8f514b04-b2da-4b83-b62b-3864cfc3382b",
   "metadata": {},
   "outputs": [
    {
     "data": {
      "text/plain": [
       "0    1000\n",
       "1    2000\n",
       "2    3000\n",
       "dtype: int64"
      ]
     },
     "execution_count": 184,
     "metadata": {},
     "output_type": "execute_result"
    }
   ],
   "source": [
    "s2"
   ]
  },
  {
   "cell_type": "markdown",
   "id": "a14618e2-8d20-49ff-a0c7-d455e851f433",
   "metadata": {},
   "source": [
    "### iloc slicing"
   ]
  },
  {
   "cell_type": "code",
   "execution_count": 185,
   "id": "e661c1f8-37fc-45c4-a298-104ae71e596c",
   "metadata": {},
   "outputs": [
    {
     "data": {
      "text/plain": [
       "A    1000\n",
       "B    2000\n",
       "dtype: int64"
      ]
     },
     "execution_count": 185,
     "metadata": {},
     "output_type": "execute_result"
    }
   ],
   "source": [
    "s.iloc[0:2]"
   ]
  },
  {
   "cell_type": "markdown",
   "id": "e0c90c6a-b059-4921-aa8f-f58254d2466f",
   "metadata": {},
   "source": [
    "### loc slicing"
   ]
  },
  {
   "cell_type": "code",
   "execution_count": 186,
   "id": "9897b56e-ec21-493f-96c3-3837d9e9ccf5",
   "metadata": {},
   "outputs": [
    {
     "data": {
      "text/plain": [
       "A    1000\n",
       "B    2000\n",
       "dtype: int64"
      ]
     },
     "execution_count": 186,
     "metadata": {},
     "output_type": "execute_result"
    }
   ],
   "source": [
    "s.loc[\"A\":\"B\"]"
   ]
  },
  {
   "cell_type": "code",
   "execution_count": 187,
   "id": "b817ae96-a74b-4738-a05d-3e5475924972",
   "metadata": {},
   "outputs": [],
   "source": [
    "# loc는 레이블 범위 만큼 딱 슬라잇이 됨"
   ]
  },
  {
   "cell_type": "code",
   "execution_count": 188,
   "id": "a9e6a1ae-ae8d-4377-b542-3482f106cb17",
   "metadata": {},
   "outputs": [
    {
     "data": {
      "text/plain": [
       "0    1000\n",
       "1    2000\n",
       "dtype: int64"
      ]
     },
     "execution_count": 188,
     "metadata": {},
     "output_type": "execute_result"
    }
   ],
   "source": [
    "s2.iloc[0:2]"
   ]
  },
  {
   "cell_type": "code",
   "execution_count": 189,
   "id": "4ee9ea50-a076-4a71-941f-46ea28648389",
   "metadata": {},
   "outputs": [
    {
     "data": {
      "text/plain": [
       "0    1000\n",
       "1    2000\n",
       "2    3000\n",
       "dtype: int64"
      ]
     },
     "execution_count": 189,
     "metadata": {},
     "output_type": "execute_result"
    }
   ],
   "source": [
    "s2.loc[0:2]"
   ]
  },
  {
   "cell_type": "markdown",
   "id": "6bedff42-83c7-4efd-9c63-5061cbdbe480",
   "metadata": {},
   "source": [
    "## 시리즈 수정/추가/삭제"
   ]
  },
  {
   "cell_type": "code",
   "execution_count": 190,
   "id": "807e4e71-097d-4b46-84ce-da27c1bf04e5",
   "metadata": {},
   "outputs": [
    {
     "data": {
      "text/plain": [
       "A    1000\n",
       "B    2000\n",
       "C    3000\n",
       "dtype: int64"
      ]
     },
     "execution_count": 190,
     "metadata": {},
     "output_type": "execute_result"
    }
   ],
   "source": [
    "s"
   ]
  },
  {
   "cell_type": "code",
   "execution_count": 191,
   "id": "d5cca8c4-b9cb-4247-95e0-a4eb048bad1d",
   "metadata": {},
   "outputs": [
    {
     "data": {
      "text/plain": [
       "np.int64(1000)"
      ]
     },
     "execution_count": 191,
     "metadata": {},
     "output_type": "execute_result"
    }
   ],
   "source": [
    "s.loc[\"A\"]"
   ]
  },
  {
   "cell_type": "code",
   "execution_count": 192,
   "id": "5023eb22-2d0c-4ea3-96ac-379e8fa60829",
   "metadata": {},
   "outputs": [
    {
     "data": {
      "text/plain": [
       "A     500\n",
       "B    2000\n",
       "C    3000\n",
       "dtype: int64"
      ]
     },
     "execution_count": 192,
     "metadata": {},
     "output_type": "execute_result"
    }
   ],
   "source": [
    "# 수정 (딕셔너리 키값 밸류값 수정과 비슷함)\n",
    "s.loc[\"A\"] = 500\n",
    "s"
   ]
  },
  {
   "cell_type": "code",
   "execution_count": 193,
   "id": "96177da4-c2a2-4730-8b09-1e547c016fc0",
   "metadata": {},
   "outputs": [
    {
     "data": {
      "text/plain": [
       "A     500\n",
       "B    2000\n",
       "C    3000\n",
       "dtype: int64"
      ]
     },
     "execution_count": 193,
     "metadata": {},
     "output_type": "execute_result"
    }
   ],
   "source": [
    "s.iloc[0] = 500\n",
    "s"
   ]
  },
  {
   "cell_type": "code",
   "execution_count": 195,
   "id": "5d08cb7a-da03-42d1-b221-af820ed9c54e",
   "metadata": {},
   "outputs": [
    {
     "data": {
      "text/plain": [
       "A     500\n",
       "B    2000\n",
       "C    3000\n",
       "dtype: int64"
      ]
     },
     "execution_count": 195,
     "metadata": {},
     "output_type": "execute_result"
    }
   ],
   "source": [
    "s[\"A\"] = 500\n",
    "s"
   ]
  },
  {
   "cell_type": "code",
   "execution_count": 196,
   "id": "b6c54bad-727c-430d-b03a-0e6eaf469a5a",
   "metadata": {},
   "outputs": [],
   "source": [
    "# loc 쓰는 것을 제일 추천"
   ]
  },
  {
   "cell_type": "markdown",
   "id": "6c44956f-f8a2-4f1c-90a2-a2923143c814",
   "metadata": {},
   "source": [
    "## 시리즈 연산"
   ]
  },
  {
   "cell_type": "code",
   "execution_count": 197,
   "id": "d2692768-0a05-492a-9506-e8477e8e2254",
   "metadata": {},
   "outputs": [
    {
     "data": {
      "text/plain": [
       "APPLE    50\n",
       "NAVER    30\n",
       "엔비디아     40\n",
       "dtype: int64"
      ]
     },
     "execution_count": 197,
     "metadata": {},
     "output_type": "execute_result"
    }
   ],
   "source": [
    "leslie = pd.Series([10, 20, 30], index=['NAVER','APPLE','엔비디아'])\n",
    "민규1 = pd.Series([10, 20, 30], index=['엔비디아', 'NAVER', 'APPLE'])\n",
    "\n",
    "# 우리 가족이 보유하고 있는 주식의 숫자를 계산\n",
    "leslie + 민규1"
   ]
  },
  {
   "cell_type": "code",
   "execution_count": 198,
   "id": "4ee6a472-e2cb-4fee-b849-87cdcf8eb028",
   "metadata": {},
   "outputs": [],
   "source": [
    "# 연산이 됨"
   ]
  },
  {
   "cell_type": "code",
   "execution_count": 199,
   "id": "d3128724-68ae-4ca6-909d-b82a4729b6da",
   "metadata": {},
   "outputs": [
    {
     "data": {
      "text/plain": [
       "NAVER    10\n",
       "APPLE    20\n",
       "엔비디아     30\n",
       "dtype: int64"
      ]
     },
     "execution_count": 199,
     "metadata": {},
     "output_type": "execute_result"
    }
   ],
   "source": [
    "leslie"
   ]
  },
  {
   "cell_type": "code",
   "execution_count": 200,
   "id": "23b33ae0-c2aa-42fc-add5-20a6a90f2136",
   "metadata": {},
   "outputs": [
    {
     "data": {
      "text/plain": [
       "엔비디아     10\n",
       "NAVER    20\n",
       "APPLE    30\n",
       "dtype: int64"
      ]
     },
     "execution_count": 200,
     "metadata": {},
     "output_type": "execute_result"
    }
   ],
   "source": [
    "민규1"
   ]
  },
  {
   "cell_type": "code",
   "execution_count": 201,
   "id": "72dd56fa-80ff-4d5a-bf4c-25413a4f1f60",
   "metadata": {},
   "outputs": [],
   "source": [
    "# 인덱스의 순서는 다르지만 알아서 잘 더해짐 ! "
   ]
  },
  {
   "cell_type": "code",
   "execution_count": 202,
   "id": "4e5866b4-c70e-4851-8513-c83c7cac0acb",
   "metadata": {},
   "outputs": [
    {
     "data": {
      "text/plain": [
       "APPLE    50.0\n",
       "NAVER    30.0\n",
       "엔비디아      NaN\n",
       "테슬라       NaN\n",
       "dtype: float64"
      ]
     },
     "execution_count": 202,
     "metadata": {},
     "output_type": "execute_result"
    }
   ],
   "source": [
    "leslie = pd.Series([10, 20, 30], index=['NAVER','APPLE','테슬라'])\n",
    "민규1 = pd.Series([10, 20, 30], index=['엔비디아', 'NAVER', 'APPLE'])\n",
    "leslie+민규1"
   ]
  },
  {
   "cell_type": "code",
   "execution_count": 203,
   "id": "5cd3a76e-3e07-48e9-8de9-1f11ffba1a8e",
   "metadata": {},
   "outputs": [],
   "source": [
    "# NaN : 뭔가 비어있는 값이 있다"
   ]
  },
  {
   "cell_type": "code",
   "execution_count": 204,
   "id": "2d678c40-d61d-4a9d-b710-cfbd2adfa02b",
   "metadata": {},
   "outputs": [],
   "source": [
    "# pandas 아니면 머 더할 떄 반복문 짜야하는데, pandas 내부적으로는 series, dataframe 쓰면서 그럴 필요 없음. "
   ]
  },
  {
   "cell_type": "code",
   "execution_count": 208,
   "id": "420ae43d-7a91-4e2a-9ab3-e3c77d2d1934",
   "metadata": {},
   "outputs": [
    {
     "name": "stdout",
     "output_type": "stream",
     "text": [
      "6/1    650\n",
      "6/2    550\n",
      "6/3    750\n",
      "6/4    800\n",
      "6/5    650\n",
      "dtype: int64\n"
     ]
    }
   ],
   "source": [
    "date = [\"6/1\", \"6/2\", \"6/3\", \"6/4\", \"6/5\"]\n",
    "high = pd.Series([42800, 42700, 42050, 42950, 43000], index=date)\n",
    "low = pd.Series([42150, 42150, 41300, 42150, 42350] , index=date)\n",
    "\n",
    "diff = high - low\n",
    "print(diff)"
   ]
  },
  {
   "cell_type": "code",
   "execution_count": 209,
   "id": "032b8488-4705-4bf0-84b6-e0ee0d5b84da",
   "metadata": {},
   "outputs": [],
   "source": [
    "# 이걸 반복문으로 짜려면 복잡하다.\n",
    "\n",
    "#idx_max = 0 \n",
    "#dd\n",
    "#d\n",
    "#d"
   ]
  },
  {
   "cell_type": "code",
   "execution_count": 210,
   "id": "ae63294c-784b-4162-9b5e-6fd47b34aa2b",
   "metadata": {},
   "outputs": [
    {
     "data": {
      "text/plain": [
       "'6/4'"
      ]
     },
     "execution_count": 210,
     "metadata": {},
     "output_type": "execute_result"
    }
   ],
   "source": [
    "diff.idxmax()"
   ]
  },
  {
   "cell_type": "code",
   "execution_count": 211,
   "id": "8da8d072-4254-4a2b-8319-17f294df835d",
   "metadata": {},
   "outputs": [],
   "source": [
    "# 나온 값중에서 6/4이 차이가 제일 크다. "
   ]
  },
  {
   "cell_type": "code",
   "execution_count": 212,
   "id": "399a8def-e20b-4f0c-8b81-6e8ad783e9e3",
   "metadata": {},
   "outputs": [
    {
     "data": {
      "text/plain": [
       "'6/2'"
      ]
     },
     "execution_count": 212,
     "metadata": {},
     "output_type": "execute_result"
    }
   ],
   "source": [
    "diff.idxmin()"
   ]
  },
  {
   "cell_type": "code",
   "execution_count": 213,
   "id": "b70e5e11-1827-475e-9ab8-2296f4355f15",
   "metadata": {},
   "outputs": [
    {
     "data": {
      "text/plain": [
       "('6/4', np.int64(800))"
      ]
     },
     "execution_count": 213,
     "metadata": {},
     "output_type": "execute_result"
    }
   ],
   "source": [
    "diff.idxmax(), diff[diff.idxmax()]"
   ]
  },
  {
   "cell_type": "code",
   "execution_count": 215,
   "id": "fb05e8d7-b8f3-47f9-8464-61273d903ce1",
   "metadata": {},
   "outputs": [
    {
     "data": {
      "text/plain": [
       "('6/2', np.int64(550))"
      ]
     },
     "execution_count": 215,
     "metadata": {},
     "output_type": "execute_result"
    }
   ],
   "source": [
    "diff.idxmin(), diff[diff.idxmin()]"
   ]
  },
  {
   "cell_type": "code",
   "execution_count": 214,
   "id": "0ed480be-2bb9-446b-8ae5-4592e4163d59",
   "metadata": {},
   "outputs": [],
   "source": [
    "# 주어진 것 중에 특정 값을 뽑을 때 쓴다."
   ]
  },
  {
   "cell_type": "code",
   "execution_count": null,
   "id": "38309de1-1d20-4162-b377-34b6f7046b3c",
   "metadata": {},
   "outputs": [],
   "source": []
  },
  {
   "cell_type": "code",
   "execution_count": null,
   "id": "b3c8c9be-0219-4fac-af8b-d92f111851dd",
   "metadata": {},
   "outputs": [],
   "source": []
  },
  {
   "cell_type": "code",
   "execution_count": null,
   "id": "4e960a95-ad2a-4d20-a9ef-7e115d85b2cb",
   "metadata": {},
   "outputs": [],
   "source": []
  },
  {
   "cell_type": "code",
   "execution_count": null,
   "id": "903ade78-e1d9-4edb-bf91-8d1419d40926",
   "metadata": {},
   "outputs": [],
   "source": []
  }
 ],
 "metadata": {
  "kernelspec": {
   "display_name": "Python 3 (ipykernel)",
   "language": "python",
   "name": "python3"
  },
  "language_info": {
   "codemirror_mode": {
    "name": "ipython",
    "version": 3
   },
   "file_extension": ".py",
   "mimetype": "text/x-python",
   "name": "python",
   "nbconvert_exporter": "python",
   "pygments_lexer": "ipython3",
   "version": "3.12.6"
  }
 },
 "nbformat": 4,
 "nbformat_minor": 5
}
