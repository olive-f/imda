{
 "cells": [
  {
   "cell_type": "code",
   "execution_count": 4,
   "id": "f7abdaf6-d0b8-4b30-be55-116a2e0a4e6e",
   "metadata": {},
   "outputs": [
    {
     "name": "stdout",
     "output_type": "stream",
     "text": [
      "Requirement already satisfied: numpy in c:\\imda\\venv\\lib\\site-packages (from -r requirements.txt (line 1)) (2.1.1)\n",
      "Requirement already satisfied: pandas==2.1.1 in c:\\imda\\venv\\lib\\site-packages (from -r requirements.txt (line 2)) (2.1.1)\n",
      "Requirement already satisfied: matplotlib in c:\\imda\\venv\\lib\\site-packages (from -r requirements.txt (line 3)) (3.9.2)\n",
      "Requirement already satisfied: seaborn in c:\\imda\\venv\\lib\\site-packages (from -r requirements.txt (line 4)) (0.13.2)\n",
      "Requirement already satisfied: scipy in c:\\imda\\venv\\lib\\site-packages (from -r requirements.txt (line 5)) (1.14.1)\n",
      "Requirement already satisfied: scikit-learn in c:\\imda\\venv\\lib\\site-packages (from -r requirements.txt (line 6)) (1.5.2)\n",
      "Requirement already satisfied: jupyterlab in c:\\imda\\venv\\lib\\site-packages (from -r requirements.txt (line 7)) (4.2.5)\n",
      "Requirement already satisfied: python-dateutil>=2.8.2 in c:\\imda\\venv\\lib\\site-packages (from pandas==2.1.1->-r requirements.txt (line 2)) (2.9.0.post0)\n",
      "Requirement already satisfied: pytz>=2020.1 in c:\\imda\\venv\\lib\\site-packages (from pandas==2.1.1->-r requirements.txt (line 2)) (2024.2)\n",
      "Requirement already satisfied: tzdata>=2022.1 in c:\\imda\\venv\\lib\\site-packages (from pandas==2.1.1->-r requirements.txt (line 2)) (2024.2)\n",
      "Requirement already satisfied: contourpy>=1.0.1 in c:\\imda\\venv\\lib\\site-packages (from matplotlib->-r requirements.txt (line 3)) (1.3.0)\n",
      "Requirement already satisfied: cycler>=0.10 in c:\\imda\\venv\\lib\\site-packages (from matplotlib->-r requirements.txt (line 3)) (0.12.1)\n",
      "Requirement already satisfied: fonttools>=4.22.0 in c:\\imda\\venv\\lib\\site-packages (from matplotlib->-r requirements.txt (line 3)) (4.54.0)\n",
      "Requirement already satisfied: kiwisolver>=1.3.1 in c:\\imda\\venv\\lib\\site-packages (from matplotlib->-r requirements.txt (line 3)) (1.4.7)\n",
      "Requirement already satisfied: packaging>=20.0 in c:\\imda\\venv\\lib\\site-packages (from matplotlib->-r requirements.txt (line 3)) (24.1)\n",
      "Requirement already satisfied: pillow>=8 in c:\\imda\\venv\\lib\\site-packages (from matplotlib->-r requirements.txt (line 3)) (10.4.0)\n",
      "Requirement already satisfied: pyparsing>=2.3.1 in c:\\imda\\venv\\lib\\site-packages (from matplotlib->-r requirements.txt (line 3)) (3.1.4)\n",
      "Requirement already satisfied: joblib>=1.2.0 in c:\\imda\\venv\\lib\\site-packages (from scikit-learn->-r requirements.txt (line 6)) (1.4.2)\n",
      "Requirement already satisfied: threadpoolctl>=3.1.0 in c:\\imda\\venv\\lib\\site-packages (from scikit-learn->-r requirements.txt (line 6)) (3.5.0)\n",
      "Requirement already satisfied: async-lru>=1.0.0 in c:\\imda\\venv\\lib\\site-packages (from jupyterlab->-r requirements.txt (line 7)) (2.0.4)\n",
      "Requirement already satisfied: httpx>=0.25.0 in c:\\imda\\venv\\lib\\site-packages (from jupyterlab->-r requirements.txt (line 7)) (0.27.2)\n",
      "Requirement already satisfied: ipykernel>=6.5.0 in c:\\imda\\venv\\lib\\site-packages (from jupyterlab->-r requirements.txt (line 7)) (6.29.5)\n",
      "Requirement already satisfied: jinja2>=3.0.3 in c:\\imda\\venv\\lib\\site-packages (from jupyterlab->-r requirements.txt (line 7)) (3.1.4)\n",
      "Requirement already satisfied: jupyter-core in c:\\imda\\venv\\lib\\site-packages (from jupyterlab->-r requirements.txt (line 7)) (5.7.2)\n",
      "Requirement already satisfied: jupyter-lsp>=2.0.0 in c:\\imda\\venv\\lib\\site-packages (from jupyterlab->-r requirements.txt (line 7)) (2.2.5)\n",
      "Requirement already satisfied: jupyter-server<3,>=2.4.0 in c:\\imda\\venv\\lib\\site-packages (from jupyterlab->-r requirements.txt (line 7)) (2.14.2)\n",
      "Requirement already satisfied: jupyterlab-server<3,>=2.27.1 in c:\\imda\\venv\\lib\\site-packages (from jupyterlab->-r requirements.txt (line 7)) (2.27.3)\n",
      "Requirement already satisfied: notebook-shim>=0.2 in c:\\imda\\venv\\lib\\site-packages (from jupyterlab->-r requirements.txt (line 7)) (0.2.4)\n",
      "Requirement already satisfied: setuptools>=40.1.0 in c:\\imda\\venv\\lib\\site-packages (from jupyterlab->-r requirements.txt (line 7)) (75.1.0)\n",
      "Requirement already satisfied: tornado>=6.2.0 in c:\\imda\\venv\\lib\\site-packages (from jupyterlab->-r requirements.txt (line 7)) (6.4.1)\n",
      "Requirement already satisfied: traitlets in c:\\imda\\venv\\lib\\site-packages (from jupyterlab->-r requirements.txt (line 7)) (5.14.3)\n",
      "Requirement already satisfied: anyio in c:\\imda\\venv\\lib\\site-packages (from httpx>=0.25.0->jupyterlab->-r requirements.txt (line 7)) (4.6.0)\n",
      "Requirement already satisfied: certifi in c:\\imda\\venv\\lib\\site-packages (from httpx>=0.25.0->jupyterlab->-r requirements.txt (line 7)) (2024.8.30)\n",
      "Requirement already satisfied: httpcore==1.* in c:\\imda\\venv\\lib\\site-packages (from httpx>=0.25.0->jupyterlab->-r requirements.txt (line 7)) (1.0.5)\n",
      "Requirement already satisfied: idna in c:\\imda\\venv\\lib\\site-packages (from httpx>=0.25.0->jupyterlab->-r requirements.txt (line 7)) (3.10)\n",
      "Requirement already satisfied: sniffio in c:\\imda\\venv\\lib\\site-packages (from httpx>=0.25.0->jupyterlab->-r requirements.txt (line 7)) (1.3.1)\n",
      "Requirement already satisfied: h11<0.15,>=0.13 in c:\\imda\\venv\\lib\\site-packages (from httpcore==1.*->httpx>=0.25.0->jupyterlab->-r requirements.txt (line 7)) (0.14.0)\n",
      "Requirement already satisfied: comm>=0.1.1 in c:\\imda\\venv\\lib\\site-packages (from ipykernel>=6.5.0->jupyterlab->-r requirements.txt (line 7)) (0.2.2)\n",
      "Requirement already satisfied: debugpy>=1.6.5 in c:\\imda\\venv\\lib\\site-packages (from ipykernel>=6.5.0->jupyterlab->-r requirements.txt (line 7)) (1.8.5)\n",
      "Requirement already satisfied: ipython>=7.23.1 in c:\\imda\\venv\\lib\\site-packages (from ipykernel>=6.5.0->jupyterlab->-r requirements.txt (line 7)) (8.27.0)\n",
      "Requirement already satisfied: jupyter-client>=6.1.12 in c:\\imda\\venv\\lib\\site-packages (from ipykernel>=6.5.0->jupyterlab->-r requirements.txt (line 7)) (8.6.3)\n",
      "Requirement already satisfied: matplotlib-inline>=0.1 in c:\\imda\\venv\\lib\\site-packages (from ipykernel>=6.5.0->jupyterlab->-r requirements.txt (line 7)) (0.1.7)\n",
      "Requirement already satisfied: nest-asyncio in c:\\imda\\venv\\lib\\site-packages (from ipykernel>=6.5.0->jupyterlab->-r requirements.txt (line 7)) (1.6.0)\n",
      "Requirement already satisfied: psutil in c:\\imda\\venv\\lib\\site-packages (from ipykernel>=6.5.0->jupyterlab->-r requirements.txt (line 7)) (6.0.0)\n",
      "Requirement already satisfied: pyzmq>=24 in c:\\imda\\venv\\lib\\site-packages (from ipykernel>=6.5.0->jupyterlab->-r requirements.txt (line 7)) (26.2.0)\n",
      "Requirement already satisfied: MarkupSafe>=2.0 in c:\\imda\\venv\\lib\\site-packages (from jinja2>=3.0.3->jupyterlab->-r requirements.txt (line 7)) (2.1.5)\n",
      "Requirement already satisfied: platformdirs>=2.5 in c:\\imda\\venv\\lib\\site-packages (from jupyter-core->jupyterlab->-r requirements.txt (line 7)) (4.3.6)\n",
      "Requirement already satisfied: pywin32>=300 in c:\\imda\\venv\\lib\\site-packages (from jupyter-core->jupyterlab->-r requirements.txt (line 7)) (306)\n",
      "Requirement already satisfied: argon2-cffi>=21.1 in c:\\imda\\venv\\lib\\site-packages (from jupyter-server<3,>=2.4.0->jupyterlab->-r requirements.txt (line 7)) (23.1.0)\n",
      "Requirement already satisfied: jupyter-events>=0.9.0 in c:\\imda\\venv\\lib\\site-packages (from jupyter-server<3,>=2.4.0->jupyterlab->-r requirements.txt (line 7)) (0.10.0)\n",
      "Requirement already satisfied: jupyter-server-terminals>=0.4.4 in c:\\imda\\venv\\lib\\site-packages (from jupyter-server<3,>=2.4.0->jupyterlab->-r requirements.txt (line 7)) (0.5.3)\n",
      "Requirement already satisfied: nbconvert>=6.4.4 in c:\\imda\\venv\\lib\\site-packages (from jupyter-server<3,>=2.4.0->jupyterlab->-r requirements.txt (line 7)) (7.16.4)\n",
      "Requirement already satisfied: nbformat>=5.3.0 in c:\\imda\\venv\\lib\\site-packages (from jupyter-server<3,>=2.4.0->jupyterlab->-r requirements.txt (line 7)) (5.10.4)\n",
      "Requirement already satisfied: overrides>=5.0 in c:\\imda\\venv\\lib\\site-packages (from jupyter-server<3,>=2.4.0->jupyterlab->-r requirements.txt (line 7)) (7.7.0)\n",
      "Requirement already satisfied: prometheus-client>=0.9 in c:\\imda\\venv\\lib\\site-packages (from jupyter-server<3,>=2.4.0->jupyterlab->-r requirements.txt (line 7)) (0.21.0)\n",
      "Requirement already satisfied: pywinpty>=2.0.1 in c:\\imda\\venv\\lib\\site-packages (from jupyter-server<3,>=2.4.0->jupyterlab->-r requirements.txt (line 7)) (2.0.13)\n",
      "Requirement already satisfied: send2trash>=1.8.2 in c:\\imda\\venv\\lib\\site-packages (from jupyter-server<3,>=2.4.0->jupyterlab->-r requirements.txt (line 7)) (1.8.3)\n",
      "Requirement already satisfied: terminado>=0.8.3 in c:\\imda\\venv\\lib\\site-packages (from jupyter-server<3,>=2.4.0->jupyterlab->-r requirements.txt (line 7)) (0.18.1)\n",
      "Requirement already satisfied: websocket-client>=1.7 in c:\\imda\\venv\\lib\\site-packages (from jupyter-server<3,>=2.4.0->jupyterlab->-r requirements.txt (line 7)) (1.8.0)\n",
      "Requirement already satisfied: babel>=2.10 in c:\\imda\\venv\\lib\\site-packages (from jupyterlab-server<3,>=2.27.1->jupyterlab->-r requirements.txt (line 7)) (2.16.0)\n",
      "Requirement already satisfied: json5>=0.9.0 in c:\\imda\\venv\\lib\\site-packages (from jupyterlab-server<3,>=2.27.1->jupyterlab->-r requirements.txt (line 7)) (0.9.25)\n",
      "Requirement already satisfied: jsonschema>=4.18.0 in c:\\imda\\venv\\lib\\site-packages (from jupyterlab-server<3,>=2.27.1->jupyterlab->-r requirements.txt (line 7)) (4.23.0)\n",
      "Requirement already satisfied: requests>=2.31 in c:\\imda\\venv\\lib\\site-packages (from jupyterlab-server<3,>=2.27.1->jupyterlab->-r requirements.txt (line 7)) (2.32.3)\n",
      "Requirement already satisfied: six>=1.5 in c:\\imda\\venv\\lib\\site-packages (from python-dateutil>=2.8.2->pandas==2.1.1->-r requirements.txt (line 2)) (1.16.0)\n",
      "Requirement already satisfied: argon2-cffi-bindings in c:\\imda\\venv\\lib\\site-packages (from argon2-cffi>=21.1->jupyter-server<3,>=2.4.0->jupyterlab->-r requirements.txt (line 7)) (21.2.0)\n",
      "Requirement already satisfied: decorator in c:\\imda\\venv\\lib\\site-packages (from ipython>=7.23.1->ipykernel>=6.5.0->jupyterlab->-r requirements.txt (line 7)) (5.1.1)\n",
      "Requirement already satisfied: jedi>=0.16 in c:\\imda\\venv\\lib\\site-packages (from ipython>=7.23.1->ipykernel>=6.5.0->jupyterlab->-r requirements.txt (line 7)) (0.19.1)\n",
      "Requirement already satisfied: prompt-toolkit<3.1.0,>=3.0.41 in c:\\imda\\venv\\lib\\site-packages (from ipython>=7.23.1->ipykernel>=6.5.0->jupyterlab->-r requirements.txt (line 7)) (3.0.47)\n",
      "Requirement already satisfied: pygments>=2.4.0 in c:\\imda\\venv\\lib\\site-packages (from ipython>=7.23.1->ipykernel>=6.5.0->jupyterlab->-r requirements.txt (line 7)) (2.18.0)\n",
      "Requirement already satisfied: stack-data in c:\\imda\\venv\\lib\\site-packages (from ipython>=7.23.1->ipykernel>=6.5.0->jupyterlab->-r requirements.txt (line 7)) (0.6.3)\n",
      "Requirement already satisfied: colorama in c:\\imda\\venv\\lib\\site-packages (from ipython>=7.23.1->ipykernel>=6.5.0->jupyterlab->-r requirements.txt (line 7)) (0.4.6)\n",
      "Requirement already satisfied: attrs>=22.2.0 in c:\\imda\\venv\\lib\\site-packages (from jsonschema>=4.18.0->jupyterlab-server<3,>=2.27.1->jupyterlab->-r requirements.txt (line 7)) (24.2.0)\n",
      "Requirement already satisfied: jsonschema-specifications>=2023.03.6 in c:\\imda\\venv\\lib\\site-packages (from jsonschema>=4.18.0->jupyterlab-server<3,>=2.27.1->jupyterlab->-r requirements.txt (line 7)) (2023.12.1)\n",
      "Requirement already satisfied: referencing>=0.28.4 in c:\\imda\\venv\\lib\\site-packages (from jsonschema>=4.18.0->jupyterlab-server<3,>=2.27.1->jupyterlab->-r requirements.txt (line 7)) (0.35.1)\n",
      "Requirement already satisfied: rpds-py>=0.7.1 in c:\\imda\\venv\\lib\\site-packages (from jsonschema>=4.18.0->jupyterlab-server<3,>=2.27.1->jupyterlab->-r requirements.txt (line 7)) (0.20.0)\n",
      "Requirement already satisfied: python-json-logger>=2.0.4 in c:\\imda\\venv\\lib\\site-packages (from jupyter-events>=0.9.0->jupyter-server<3,>=2.4.0->jupyterlab->-r requirements.txt (line 7)) (2.0.7)\n",
      "Requirement already satisfied: pyyaml>=5.3 in c:\\imda\\venv\\lib\\site-packages (from jupyter-events>=0.9.0->jupyter-server<3,>=2.4.0->jupyterlab->-r requirements.txt (line 7)) (6.0.2)\n",
      "Requirement already satisfied: rfc3339-validator in c:\\imda\\venv\\lib\\site-packages (from jupyter-events>=0.9.0->jupyter-server<3,>=2.4.0->jupyterlab->-r requirements.txt (line 7)) (0.1.4)\n",
      "Requirement already satisfied: rfc3986-validator>=0.1.1 in c:\\imda\\venv\\lib\\site-packages (from jupyter-events>=0.9.0->jupyter-server<3,>=2.4.0->jupyterlab->-r requirements.txt (line 7)) (0.1.1)\n",
      "Requirement already satisfied: beautifulsoup4 in c:\\imda\\venv\\lib\\site-packages (from nbconvert>=6.4.4->jupyter-server<3,>=2.4.0->jupyterlab->-r requirements.txt (line 7)) (4.12.3)\n",
      "Requirement already satisfied: bleach!=5.0.0 in c:\\imda\\venv\\lib\\site-packages (from nbconvert>=6.4.4->jupyter-server<3,>=2.4.0->jupyterlab->-r requirements.txt (line 7)) (6.1.0)\n",
      "Requirement already satisfied: defusedxml in c:\\imda\\venv\\lib\\site-packages (from nbconvert>=6.4.4->jupyter-server<3,>=2.4.0->jupyterlab->-r requirements.txt (line 7)) (0.7.1)\n",
      "Requirement already satisfied: jupyterlab-pygments in c:\\imda\\venv\\lib\\site-packages (from nbconvert>=6.4.4->jupyter-server<3,>=2.4.0->jupyterlab->-r requirements.txt (line 7)) (0.3.0)\n",
      "Requirement already satisfied: mistune<4,>=2.0.3 in c:\\imda\\venv\\lib\\site-packages (from nbconvert>=6.4.4->jupyter-server<3,>=2.4.0->jupyterlab->-r requirements.txt (line 7)) (3.0.2)\n",
      "Requirement already satisfied: nbclient>=0.5.0 in c:\\imda\\venv\\lib\\site-packages (from nbconvert>=6.4.4->jupyter-server<3,>=2.4.0->jupyterlab->-r requirements.txt (line 7)) (0.10.0)\n",
      "Requirement already satisfied: pandocfilters>=1.4.1 in c:\\imda\\venv\\lib\\site-packages (from nbconvert>=6.4.4->jupyter-server<3,>=2.4.0->jupyterlab->-r requirements.txt (line 7)) (1.5.1)\n",
      "Requirement already satisfied: tinycss2 in c:\\imda\\venv\\lib\\site-packages (from nbconvert>=6.4.4->jupyter-server<3,>=2.4.0->jupyterlab->-r requirements.txt (line 7)) (1.3.0)\n",
      "Requirement already satisfied: fastjsonschema>=2.15 in c:\\imda\\venv\\lib\\site-packages (from nbformat>=5.3.0->jupyter-server<3,>=2.4.0->jupyterlab->-r requirements.txt (line 7)) (2.20.0)\n",
      "Requirement already satisfied: charset-normalizer<4,>=2 in c:\\imda\\venv\\lib\\site-packages (from requests>=2.31->jupyterlab-server<3,>=2.27.1->jupyterlab->-r requirements.txt (line 7)) (3.3.2)\n",
      "Requirement already satisfied: urllib3<3,>=1.21.1 in c:\\imda\\venv\\lib\\site-packages (from requests>=2.31->jupyterlab-server<3,>=2.27.1->jupyterlab->-r requirements.txt (line 7)) (2.2.3)\n",
      "Requirement already satisfied: webencodings in c:\\imda\\venv\\lib\\site-packages (from bleach!=5.0.0->nbconvert>=6.4.4->jupyter-server<3,>=2.4.0->jupyterlab->-r requirements.txt (line 7)) (0.5.1)\n",
      "Requirement already satisfied: parso<0.9.0,>=0.8.3 in c:\\imda\\venv\\lib\\site-packages (from jedi>=0.16->ipython>=7.23.1->ipykernel>=6.5.0->jupyterlab->-r requirements.txt (line 7)) (0.8.4)\n",
      "Requirement already satisfied: fqdn in c:\\imda\\venv\\lib\\site-packages (from jsonschema[format-nongpl]>=4.18.0->jupyter-events>=0.9.0->jupyter-server<3,>=2.4.0->jupyterlab->-r requirements.txt (line 7)) (1.5.1)\n",
      "Requirement already satisfied: isoduration in c:\\imda\\venv\\lib\\site-packages (from jsonschema[format-nongpl]>=4.18.0->jupyter-events>=0.9.0->jupyter-server<3,>=2.4.0->jupyterlab->-r requirements.txt (line 7)) (20.11.0)\n",
      "Requirement already satisfied: jsonpointer>1.13 in c:\\imda\\venv\\lib\\site-packages (from jsonschema[format-nongpl]>=4.18.0->jupyter-events>=0.9.0->jupyter-server<3,>=2.4.0->jupyterlab->-r requirements.txt (line 7)) (3.0.0)\n",
      "Requirement already satisfied: uri-template in c:\\imda\\venv\\lib\\site-packages (from jsonschema[format-nongpl]>=4.18.0->jupyter-events>=0.9.0->jupyter-server<3,>=2.4.0->jupyterlab->-r requirements.txt (line 7)) (1.3.0)\n",
      "Requirement already satisfied: webcolors>=24.6.0 in c:\\imda\\venv\\lib\\site-packages (from jsonschema[format-nongpl]>=4.18.0->jupyter-events>=0.9.0->jupyter-server<3,>=2.4.0->jupyterlab->-r requirements.txt (line 7)) (24.8.0)\n",
      "Requirement already satisfied: wcwidth in c:\\imda\\venv\\lib\\site-packages (from prompt-toolkit<3.1.0,>=3.0.41->ipython>=7.23.1->ipykernel>=6.5.0->jupyterlab->-r requirements.txt (line 7)) (0.2.13)\n",
      "Requirement already satisfied: cffi>=1.0.1 in c:\\imda\\venv\\lib\\site-packages (from argon2-cffi-bindings->argon2-cffi>=21.1->jupyter-server<3,>=2.4.0->jupyterlab->-r requirements.txt (line 7)) (1.17.1)\n",
      "Requirement already satisfied: soupsieve>1.2 in c:\\imda\\venv\\lib\\site-packages (from beautifulsoup4->nbconvert>=6.4.4->jupyter-server<3,>=2.4.0->jupyterlab->-r requirements.txt (line 7)) (2.6)\n",
      "Requirement already satisfied: executing>=1.2.0 in c:\\imda\\venv\\lib\\site-packages (from stack-data->ipython>=7.23.1->ipykernel>=6.5.0->jupyterlab->-r requirements.txt (line 7)) (2.1.0)\n",
      "Requirement already satisfied: asttokens>=2.1.0 in c:\\imda\\venv\\lib\\site-packages (from stack-data->ipython>=7.23.1->ipykernel>=6.5.0->jupyterlab->-r requirements.txt (line 7)) (2.4.1)\n",
      "Requirement already satisfied: pure-eval in c:\\imda\\venv\\lib\\site-packages (from stack-data->ipython>=7.23.1->ipykernel>=6.5.0->jupyterlab->-r requirements.txt (line 7)) (0.2.3)\n",
      "Requirement already satisfied: pycparser in c:\\imda\\venv\\lib\\site-packages (from cffi>=1.0.1->argon2-cffi-bindings->argon2-cffi>=21.1->jupyter-server<3,>=2.4.0->jupyterlab->-r requirements.txt (line 7)) (2.22)\n",
      "Requirement already satisfied: arrow>=0.15.0 in c:\\imda\\venv\\lib\\site-packages (from isoduration->jsonschema[format-nongpl]>=4.18.0->jupyter-events>=0.9.0->jupyter-server<3,>=2.4.0->jupyterlab->-r requirements.txt (line 7)) (1.3.0)\n",
      "Requirement already satisfied: types-python-dateutil>=2.8.10 in c:\\imda\\venv\\lib\\site-packages (from arrow>=0.15.0->isoduration->jsonschema[format-nongpl]>=4.18.0->jupyter-events>=0.9.0->jupyter-server<3,>=2.4.0->jupyterlab->-r requirements.txt (line 7)) (2.9.0.20240906)\n",
      "Note: you may need to restart the kernel to use updated packages.\n"
     ]
    }
   ],
   "source": [
    "pip install -r requirements.txt"
   ]
  },
  {
   "cell_type": "code",
   "execution_count": 1,
   "id": "f7501ef1-fdf9-40f8-a218-293f7e79d5ce",
   "metadata": {},
   "outputs": [
    {
     "name": "stderr",
     "output_type": "stream",
     "text": [
      "Matplotlib is building the font cache; this may take a moment.\n"
     ]
    }
   ],
   "source": [
    "import numpy as np \n",
    "import pandas as pd \n",
    "import sklearn \n",
    "import matplotlib as mpl\n",
    "import seaborn as sns"
   ]
  },
  {
   "cell_type": "markdown",
   "id": "06698a3f-405b-4c35-8249-963f4bc7031c",
   "metadata": {},
   "source": [
    "# 오후 1 | 논리연산\n",
    "- True, False"
   ]
  },
  {
   "cell_type": "code",
   "execution_count": 3,
   "id": "04074655-a3cb-451b-9fc3-2761ce4e643a",
   "metadata": {},
   "outputs": [
    {
     "name": "stdout",
     "output_type": "stream",
     "text": [
      "True\n"
     ]
    }
   ],
   "source": [
    "print(True)"
   ]
  },
  {
   "cell_type": "code",
   "execution_count": 4,
   "id": "682d8f34-bc10-4454-bf8c-6536c956617d",
   "metadata": {},
   "outputs": [
    {
     "name": "stdout",
     "output_type": "stream",
     "text": [
      "True\n",
      "False\n",
      "False\n"
     ]
    }
   ],
   "source": [
    "print(True and True)\n",
    "print(False and True)\n",
    "print(False and True)"
   ]
  },
  {
   "cell_type": "code",
   "execution_count": 5,
   "id": "319455a7-16c6-40ac-bb00-1e75c7b321cb",
   "metadata": {},
   "outputs": [
    {
     "name": "stdout",
     "output_type": "stream",
     "text": [
      "True\n",
      "True\n",
      "True\n"
     ]
    }
   ],
   "source": [
    "print(True or True)\n",
    "print(False or True)\n",
    "print(False or True)"
   ]
  },
  {
   "cell_type": "code",
   "execution_count": 6,
   "id": "557c5a3b-ec58-4fa9-a600-6e29ac2f84bb",
   "metadata": {},
   "outputs": [
    {
     "data": {
      "text/plain": [
       "True"
      ]
     },
     "execution_count": 6,
     "metadata": {},
     "output_type": "execute_result"
    }
   ],
   "source": [
    "(5>3) and (6>3)"
   ]
  },
  {
   "cell_type": "code",
   "execution_count": 7,
   "id": "dfaf4616-fa01-4b1e-a412-7e7a1ccb0b08",
   "metadata": {},
   "outputs": [
    {
     "data": {
      "text/plain": [
       "True"
      ]
     },
     "execution_count": 7,
     "metadata": {},
     "output_type": "execute_result"
    }
   ],
   "source": [
    "(5>3)"
   ]
  },
  {
   "cell_type": "code",
   "execution_count": 8,
   "id": "2ec2cebe-adae-4d3d-a2fa-1b671aa6aa82",
   "metadata": {},
   "outputs": [],
   "source": [
    "# and, or 연산자를 가지고 true false 나오도록 세팅하는 게 어려움. 해봐야 암. 무슨 소리지..? 아직은 모르겠다."
   ]
  },
  {
   "cell_type": "code",
   "execution_count": 9,
   "id": "045b3a5c-d588-4b8e-a089-db5ed5bfa437",
   "metadata": {},
   "outputs": [
    {
     "data": {
      "text/plain": [
       "False"
      ]
     },
     "execution_count": 9,
     "metadata": {},
     "output_type": "execute_result"
    }
   ],
   "source": [
    "# 부등호 연산자\n",
    "5==3"
   ]
  },
  {
   "cell_type": "code",
   "execution_count": 10,
   "id": "400bebae-963b-4eb1-8980-cc40883ab62a",
   "metadata": {},
   "outputs": [
    {
     "data": {
      "text/plain": [
       "False"
      ]
     },
     "execution_count": 10,
     "metadata": {},
     "output_type": "execute_result"
    }
   ],
   "source": [
    "5<3"
   ]
  },
  {
   "cell_type": "code",
   "execution_count": 11,
   "id": "30428970-050b-49b0-9f1d-17870046d052",
   "metadata": {},
   "outputs": [
    {
     "data": {
      "text/plain": [
       "True"
      ]
     },
     "execution_count": 11,
     "metadata": {},
     "output_type": "execute_result"
    }
   ],
   "source": [
    "5>4"
   ]
  },
  {
   "cell_type": "markdown",
   "id": "1ea9245b-fb10-4df1-8211-76a5db3cbf25",
   "metadata": {},
   "source": [
    "# 오후 2 | 입력과 출력\n",
    "- 입력: input()\n",
    "- 출력:"
   ]
  },
  {
   "cell_type": "code",
   "execution_count": 12,
   "id": "dba556e0-144a-4131-b138-6a601b925491",
   "metadata": {},
   "outputs": [
    {
     "name": "stdin",
     "output_type": "stream",
     "text": [
      "임의의 값을 입력하세요 5\n"
     ]
    },
    {
     "name": "stdout",
     "output_type": "stream",
     "text": [
      "5\n"
     ]
    }
   ],
   "source": [
    "x = input(\"임의의 값을 입력하세요\")\n",
    "print(x)"
   ]
  },
  {
   "cell_type": "code",
   "execution_count": 13,
   "id": "d7bd1368-6637-4e71-adfd-e4f65f67fb99",
   "metadata": {},
   "outputs": [
    {
     "name": "stdout",
     "output_type": "stream",
     "text": [
      "2\n"
     ]
    }
   ],
   "source": [
    "x=1\n",
    "y=1\n",
    "print(x+y)"
   ]
  },
  {
   "cell_type": "code",
   "execution_count": 14,
   "id": "34232e23-2937-4a91-9f07-5e9f3b0063e8",
   "metadata": {},
   "outputs": [
    {
     "name": "stdin",
     "output_type": "stream",
     "text": [
      "임의의 숫자를 입력하세요 1\n",
      "임의의 숫자를 입력하세요 1\n"
     ]
    },
    {
     "name": "stdout",
     "output_type": "stream",
     "text": [
      "11\n"
     ]
    }
   ],
   "source": [
    "# 사칙연산을 해보자\n",
    "x=input(\"임의의 숫자를 입력하세요\")\n",
    "y=input(\"임의의 숫자를 입력하세요\")\n",
    "\n",
    "print(x+y)"
   ]
  },
  {
   "cell_type": "code",
   "execution_count": 19,
   "id": "db726c37-b2e8-4e69-9ec3-4def2207cae9",
   "metadata": {},
   "outputs": [
    {
     "name": "stdin",
     "output_type": "stream",
     "text": [
      "임의의 숫자를 입력하세요 1\n",
      "임의의 숫자를 입력하세요 1\n"
     ]
    },
    {
     "name": "stdout",
     "output_type": "stream",
     "text": [
      "<class 'str'> <class 'str'>\n",
      "11\n"
     ]
    }
   ],
   "source": [
    "# 욍?\n",
    "# type으로 x와 y의 변수 유형을 알아보자\n",
    "\n",
    "x=input(\"임의의 숫자를 입력하세요\")\n",
    "y=input(\"임의의 숫자를 입력하세요\")\n",
    "\n",
    "print(type(x),type(y))\n",
    "print(x+y)"
   ]
  },
  {
   "cell_type": "code",
   "execution_count": 20,
   "id": "f1a69b86-0e30-46c7-95be-382a15c38dc6",
   "metadata": {},
   "outputs": [],
   "source": [
    "# 모르는 게 나왔을 때\n",
    "# 1 chat gpt 한테 물어본다\n",
    "# 2 ddd documentation이라고 구글에 검색한다.\n",
    "# ex. python class str documentation"
   ]
  },
  {
   "cell_type": "code",
   "execution_count": 21,
   "id": "8b89c440-0208-459a-898a-2aebba4cf186",
   "metadata": {},
   "outputs": [],
   "source": [
    "# 여튼 위 문제를 해결하려면..."
   ]
  },
  {
   "cell_type": "markdown",
   "id": "f0837265-62f8-4b25-bbf9-0948fced73fd",
   "metadata": {},
   "source": [
    "## 자료 행변환\n",
    "- 문자를 숫자로, 숫자를 문자로, A 자료형에서 D 자료형으로\n",
    "- 대부분이 클래스 or 함수를 활용해서 행변환 한다.\n",
    "- class.dtype <-내피셜\n",
    "- int, float 이런게 class 임\n",
    "- int 정수\n",
    "- float 실수"
   ]
  },
  {
   "cell_type": "code",
   "execution_count": 22,
   "id": "8609b310-a0a7-41a3-af96-8fdd650ba09f",
   "metadata": {},
   "outputs": [
    {
     "name": "stdin",
     "output_type": "stream",
     "text": [
      "임의의 숫자를 입력하세요 2\n",
      "임의의 숫자를 입력하세요 3\n"
     ]
    },
    {
     "name": "stdout",
     "output_type": "stream",
     "text": [
      "<class 'int'> <class 'int'>\n",
      "5\n"
     ]
    }
   ],
   "source": [
    "x=int(input(\"임의의 숫자를 입력하세요\"))\n",
    "y=int(input(\"임의의 숫자를 입력하세요\"))\n",
    "\n",
    "print(type(x),type(y))\n",
    "print(x+y)"
   ]
  },
  {
   "cell_type": "code",
   "execution_count": 23,
   "id": "c7f917ae-f894-4de4-a5c5-0d724a4e29eb",
   "metadata": {},
   "outputs": [
    {
     "name": "stdin",
     "output_type": "stream",
     "text": [
      "임의의 숫자를 입력하세요 2\n",
      "임의의 숫자를 입력하세요 3\n"
     ]
    },
    {
     "name": "stdout",
     "output_type": "stream",
     "text": [
      "<class 'float'> <class 'float'>\n",
      "5.0\n"
     ]
    }
   ],
   "source": [
    "x=float(input(\"임의의 숫자를 입력하세요\"))\n",
    "y=float(input(\"임의의 숫자를 입력하세요\"))\n",
    "\n",
    "print(type(x),type(y))\n",
    "print(x+y)"
   ]
  },
  {
   "cell_type": "code",
   "execution_count": 24,
   "id": "35a4e121-3325-4e75-a634-59f3646f957c",
   "metadata": {},
   "outputs": [
    {
     "ename": "ValueError",
     "evalue": "invalid literal for int() with base 10: '3.3'",
     "output_type": "error",
     "traceback": [
      "\u001b[1;31m---------------------------------------------------------------------------\u001b[0m",
      "\u001b[1;31mValueError\u001b[0m                                Traceback (most recent call last)",
      "Cell \u001b[1;32mIn[24], line 3\u001b[0m\n\u001b[0;32m      1\u001b[0m \u001b[38;5;66;03m# 문자열 인 3.3 을 바로 float로 바꾸는 것은 가능하나, int를 했을 때 알아서 정수가 되도록 버림올림반올림 하지 않음\u001b[39;00m\n\u001b[0;32m      2\u001b[0m a\u001b[38;5;241m=\u001b[39m\u001b[38;5;124m'\u001b[39m\u001b[38;5;124m3.3\u001b[39m\u001b[38;5;124m'\u001b[39m\n\u001b[1;32m----> 3\u001b[0m \u001b[38;5;28;43mint\u001b[39;49m\u001b[43m(\u001b[49m\u001b[43ma\u001b[49m\u001b[43m)\u001b[49m\n",
      "\u001b[1;31mValueError\u001b[0m: invalid literal for int() with base 10: '3.3'"
     ]
    }
   ],
   "source": [
    "# 문자열 인 3.3 을 바로 float로 바꾸는 것은 가능하나, int를 했을 때 알아서 정수가 되도록 버림올림반올림 하지 않음\n",
    "a='3.3'\n",
    "int(a)"
   ]
  },
  {
   "cell_type": "code",
   "execution_count": 25,
   "id": "1745c370-87d7-4cf8-aa37-6511ee7bae93",
   "metadata": {},
   "outputs": [
    {
     "data": {
      "text/plain": [
       "3.3"
      ]
     },
     "execution_count": 25,
     "metadata": {},
     "output_type": "execute_result"
    }
   ],
   "source": [
    "float(a)"
   ]
  },
  {
   "cell_type": "code",
   "execution_count": 26,
   "id": "1cdb1d9b-bf4a-4c49-a5bb-de37cf3c9749",
   "metadata": {},
   "outputs": [
    {
     "data": {
      "text/plain": [
       "3"
      ]
     },
     "execution_count": 26,
     "metadata": {},
     "output_type": "execute_result"
    }
   ],
   "source": [
    "int(float(a))"
   ]
  },
  {
   "cell_type": "markdown",
   "id": "cab238a9-ddb1-4cc6-b9b3-61a5d63038b8",
   "metadata": {},
   "source": [
    "# 오후 3 | String 문자열"
   ]
  },
  {
   "cell_type": "code",
   "execution_count": 27,
   "id": "e36df394-7e28-42ce-af20-1a74cb1e6ba0",
   "metadata": {},
   "outputs": [
    {
     "name": "stdout",
     "output_type": "stream",
     "text": [
      "abcdefkga\n"
     ]
    }
   ],
   "source": [
    "a=\"abc\"\n",
    "b='def'\n",
    "c= \"kga\"\n",
    "# 양끝에 따옴표가 똑같은 종류로 되어야함\n",
    "\n",
    "result=a+b+c\n",
    "print(result)"
   ]
  },
  {
   "cell_type": "code",
   "execution_count": 28,
   "id": "eb9918ed-619c-4eb6-acfd-e0a55b4f2ce9",
   "metadata": {},
   "outputs": [
    {
     "data": {
      "text/plain": [
       "'abcdefkgaabcdefkgaabcdefkga'"
      ]
     },
     "execution_count": 28,
     "metadata": {},
     "output_type": "execute_result"
    }
   ],
   "source": [
    "result*3"
   ]
  },
  {
   "cell_type": "code",
   "execution_count": 29,
   "id": "aa615366-13fd-4cfd-89d6-47ad81d8e6c5",
   "metadata": {},
   "outputs": [
    {
     "name": "stdout",
     "output_type": "stream",
     "text": [
      "\n",
      "asdf\n",
      "asdf\n",
      "df\n",
      "f\n",
      "f\n",
      "\n"
     ]
    }
   ],
   "source": [
    "a = \"\"\"\n",
    "asdf\n",
    "asdf\n",
    "df\n",
    "f\n",
    "f\n",
    "\"\"\"\n",
    "\n",
    "print(a)\n",
    "\n",
    "# 문자열은 여러줄로도 저장할 수 있다"
   ]
  },
  {
   "cell_type": "code",
   "execution_count": 30,
   "id": "886bd514-4dec-40da-a310-cbd3b9b4fab7",
   "metadata": {},
   "outputs": [
    {
     "name": "stdout",
     "output_type": "stream",
     "text": [
      "\n",
      "ddd\n",
      "d\n",
      "dd\n",
      "d\n",
      "d\n",
      "d\n",
      "d\n",
      "\n"
     ]
    }
   ],
   "source": [
    "a = '''\n",
    "ddd\n",
    "d\n",
    "dd\n",
    "d\n",
    "d\n",
    "d\n",
    "d\n",
    "'''\n",
    "\n",
    "print(a)"
   ]
  },
  {
   "cell_type": "markdown",
   "id": "6d32f90e-1cea-40fc-94cf-023b88e6c44b",
   "metadata": {},
   "source": [
    "## 오늘의 과제! | 문자열 포맷팅\n",
    "- 슬랙 참고\n",
    "- f-string 포맷팅으로 문자열 만들기"
   ]
  },
  {
   "cell_type": "code",
   "execution_count": 34,
   "id": "802d9899-8569-46b8-b390-6f7125b50fc7",
   "metadata": {},
   "outputs": [
    {
     "name": "stdout",
     "output_type": "stream",
     "text": [
      "<class 'str'>\n"
     ]
    }
   ],
   "source": [
    "x=1\n",
    "a=f'안녕하세요, 저는 숫자 {x} 입니다.'\n",
    "print(type(a))"
   ]
  },
  {
   "cell_type": "markdown",
   "id": "a9189f6f-c515-464c-9320-ff0be8db6e6a",
   "metadata": {},
   "source": [
    "## 인덱싱 및 슬라이싱"
   ]
  },
  {
   "cell_type": "markdown",
   "id": "07ce9e2c-3190-4c78-b694-2369a97fe44e",
   "metadata": {},
   "source": [
    "### 인덱싱"
   ]
  },
  {
   "cell_type": "code",
   "execution_count": 35,
   "id": "ac8a5b5b-c2d1-4546-9981-bdb663055bae",
   "metadata": {},
   "outputs": [
    {
     "name": "stdout",
     "output_type": "stream",
     "text": [
      "21\n"
     ]
    }
   ],
   "source": [
    "a = \"할 일이 너무 많다. 언제 다하지...\"\n",
    "print(len(a))\n",
    "# 전체 문자열의 길이"
   ]
  },
  {
   "cell_type": "code",
   "execution_count": 44,
   "id": "c14b5785-fdf4-49e7-8ac0-888979916c49",
   "metadata": {},
   "outputs": [
    {
     "name": "stdout",
     "output_type": "stream",
     "text": [
      "23\n"
     ]
    }
   ],
   "source": [
    "a = \"할 일이 너무 많다. 언제 다하지..ㅇㅇ.\"\n",
    "print(len(a))\n",
    "# 전체 문자열의 길이"
   ]
  },
  {
   "cell_type": "code",
   "execution_count": 37,
   "id": "9f68a0fd-b6dc-4c65-836a-808c18c83e30",
   "metadata": {},
   "outputs": [
    {
     "data": {
      "text/plain": [
       "'할'"
      ]
     },
     "execution_count": 37,
     "metadata": {},
     "output_type": "execute_result"
    }
   ],
   "source": [
    "a[0]"
   ]
  },
  {
   "cell_type": "code",
   "execution_count": 38,
   "id": "ecf86ead-9144-4b65-a246-893b3af27966",
   "metadata": {},
   "outputs": [
    {
     "data": {
      "text/plain": [
       "' '"
      ]
     },
     "execution_count": 38,
     "metadata": {},
     "output_type": "execute_result"
    }
   ],
   "source": [
    "a[1]"
   ]
  },
  {
   "cell_type": "code",
   "execution_count": 39,
   "id": "54145a0c-66d2-4fec-9ce1-35a3004fa759",
   "metadata": {},
   "outputs": [
    {
     "data": {
      "text/plain": [
       "'일'"
      ]
     },
     "execution_count": 39,
     "metadata": {},
     "output_type": "execute_result"
    }
   ],
   "source": [
    "a[2]"
   ]
  },
  {
   "cell_type": "code",
   "execution_count": 40,
   "id": "a2eed7d1-fb78-4ca1-97b3-5e6c271b45cc",
   "metadata": {},
   "outputs": [],
   "source": [
    "# 0부터 시작한다."
   ]
  },
  {
   "cell_type": "code",
   "execution_count": 45,
   "id": "860885be-bc27-48af-9e43-245158b6917d",
   "metadata": {},
   "outputs": [
    {
     "ename": "IndexError",
     "evalue": "string index out of range",
     "output_type": "error",
     "traceback": [
      "\u001b[1;31m---------------------------------------------------------------------------\u001b[0m",
      "\u001b[1;31mIndexError\u001b[0m                                Traceback (most recent call last)",
      "Cell \u001b[1;32mIn[45], line 1\u001b[0m\n\u001b[1;32m----> 1\u001b[0m \u001b[43ma\u001b[49m\u001b[43m[\u001b[49m\u001b[38;5;241;43m23\u001b[39;49m\u001b[43m]\u001b[49m\n",
      "\u001b[1;31mIndexError\u001b[0m: string index out of range"
     ]
    }
   ],
   "source": [
    "a[23]"
   ]
  },
  {
   "cell_type": "code",
   "execution_count": 46,
   "id": "2cbc9a87-0e35-488e-8035-59729efd9d30",
   "metadata": {},
   "outputs": [
    {
     "data": {
      "text/plain": [
       "'.'"
      ]
     },
     "execution_count": 46,
     "metadata": {},
     "output_type": "execute_result"
    }
   ],
   "source": [
    "a[len(a)-1]"
   ]
  },
  {
   "cell_type": "code",
   "execution_count": 47,
   "id": "6975bcf8-fe71-45a6-8edb-42798b43f5d9",
   "metadata": {},
   "outputs": [],
   "source": [
    "# 0 부터 index 시작하기 때문"
   ]
  },
  {
   "cell_type": "code",
   "execution_count": 48,
   "id": "7d665c64-2a47-4bce-b62a-b649412195b2",
   "metadata": {},
   "outputs": [
    {
     "data": {
      "text/plain": [
       "'.'"
      ]
     },
     "execution_count": 48,
     "metadata": {},
     "output_type": "execute_result"
    }
   ],
   "source": [
    "# 혹은 -1 로 해도된다\n",
    "\n",
    "a[-1]"
   ]
  },
  {
   "cell_type": "code",
   "execution_count": 49,
   "id": "8afe5a2f-8a75-433b-b6b9-b93aeda084e3",
   "metadata": {},
   "outputs": [],
   "source": [
    "# 인덱스 에러\n",
    "# string index out of range\n",
    "# 주어진 문자열 밖의 범위에서 가져오려고 하니까 , 거기에 가져올 데이터가 없으니 에러가 난다\n",
    "# 해결: len(a)-1"
   ]
  },
  {
   "cell_type": "markdown",
   "id": "aa89d5ec-5d14-479c-95f8-3867b75a57cd",
   "metadata": {},
   "source": [
    "### 슬라이싱\n",
    "- 자르겠다는 거"
   ]
  },
  {
   "cell_type": "code",
   "execution_count": 51,
   "id": "48682fb8-3acb-46bf-b732-bf263437fb57",
   "metadata": {},
   "outputs": [
    {
     "name": "stdout",
     "output_type": "stream",
     "text": [
      "01234567\n"
     ]
    }
   ],
   "source": [
    "q = \"0123456789\"\n",
    "print(q[0:8])"
   ]
  },
  {
   "cell_type": "code",
   "execution_count": 54,
   "id": "7b040607-4388-48c9-8a74-d6b1d8d17154",
   "metadata": {},
   "outputs": [],
   "source": [
    "# slicing 할 때는 범위의 맨 끝 인덱스의-1 만큼만 가져온다!"
   ]
  },
  {
   "cell_type": "code",
   "execution_count": 55,
   "id": "05905edf-2348-4c03-85d3-6ed582f30a30",
   "metadata": {},
   "outputs": [
    {
     "name": "stdout",
     "output_type": "stream",
     "text": [
      "0246\n"
     ]
    }
   ],
   "source": [
    "q = \"0123456789\"\n",
    "print(q[0:8:2])"
   ]
  },
  {
   "cell_type": "code",
   "execution_count": 58,
   "id": "3d1435ea-e8e7-4935-bdef-ae71e013b927",
   "metadata": {},
   "outputs": [],
   "source": [
    "# 2 자리 의미: step\n",
    "# 2칸 뗘서 가져오겠다\n",
    "# 앞 두 인덱스는 전체 범위, 마지막은 step"
   ]
  },
  {
   "cell_type": "code",
   "execution_count": 59,
   "id": "7e21c4f2-52ee-4dbb-b78e-699d3caee56c",
   "metadata": {},
   "outputs": [
    {
     "name": "stdout",
     "output_type": "stream",
     "text": [
      "1357\n"
     ]
    }
   ],
   "source": [
    "q = \"0123456789\"\n",
    "print(q[1:8:2])"
   ]
  },
  {
   "cell_type": "code",
   "execution_count": 61,
   "id": "c17a707f-b11f-4503-8bd4-111517297a7d",
   "metadata": {},
   "outputs": [
    {
     "name": "stdout",
     "output_type": "stream",
     "text": [
      "0246\n",
      "6789\n",
      "012345\n"
     ]
    }
   ],
   "source": [
    "q = \"0123456789\"\n",
    "print(q[0:8:2])\n",
    "print(q[6:]) # 6번째부터 마지막\n",
    "print(q[:6]) # 처음부터시작해서 6번째 전까지"
   ]
  },
  {
   "cell_type": "code",
   "execution_count": 66,
   "id": "feb39c77-d73d-4956-9902-6cf6736af43c",
   "metadata": {},
   "outputs": [],
   "source": [
    "r = \"Aython\"\n",
    "\n",
    "# 미션! \n",
    "# A를 P로 바꿔랏"
   ]
  },
  {
   "cell_type": "code",
   "execution_count": 79,
   "id": "cb0f1bd1-afd1-4540-9876-231d38a550b0",
   "metadata": {},
   "outputs": [
    {
     "name": "stdout",
     "output_type": "stream",
     "text": [
      "Python\n"
     ]
    }
   ],
   "source": [
    "#sol 1\n",
    "s='P'\n",
    "r_1=r[1:]\n",
    "\n",
    "t=s+r_1\n",
    "\n",
    "print(t)"
   ]
  },
  {
   "cell_type": "code",
   "execution_count": 80,
   "id": "ed6a92ca-2c0c-443d-97c7-f29f917320af",
   "metadata": {},
   "outputs": [
    {
     "name": "stdout",
     "output_type": "stream",
     "text": [
      "Python\n"
     ]
    }
   ],
   "source": [
    "#sol 2\n",
    "s='P'\n",
    "r_1=r[1:len(r)]\n",
    "\n",
    "t=s+r_1\n",
    "\n",
    "print(t)"
   ]
  },
  {
   "cell_type": "code",
   "execution_count": 81,
   "id": "c9dfc265-3180-4234-bd99-cd308c2d2e2d",
   "metadata": {},
   "outputs": [
    {
     "data": {
      "text/plain": [
       "'Python'"
      ]
     },
     "execution_count": 81,
     "metadata": {},
     "output_type": "execute_result"
    }
   ],
   "source": [
    "#sol 3\n",
    "\"P\" + r[1:]"
   ]
  },
  {
   "cell_type": "code",
   "execution_count": 82,
   "id": "98f5aee0-3bab-44b2-be73-a949c565d54c",
   "metadata": {},
   "outputs": [
    {
     "ename": "TypeError",
     "evalue": "'str' object does not support item assignment",
     "output_type": "error",
     "traceback": [
      "\u001b[1;31m---------------------------------------------------------------------------\u001b[0m",
      "\u001b[1;31mTypeError\u001b[0m                                 Traceback (most recent call last)",
      "Cell \u001b[1;32mIn[82], line 1\u001b[0m\n\u001b[1;32m----> 1\u001b[0m \u001b[43mr\u001b[49m\u001b[43m[\u001b[49m\u001b[38;5;241;43m0\u001b[39;49m\u001b[43m]\u001b[49m\u001b[38;5;241m=\u001b[39m\u001b[38;5;124m'\u001b[39m\u001b[38;5;124mP\u001b[39m\u001b[38;5;124m'\u001b[39m\n\u001b[0;32m      2\u001b[0m \u001b[38;5;28mprint\u001b[39m(r)\n",
      "\u001b[1;31mTypeError\u001b[0m: 'str' object does not support item assignment"
     ]
    }
   ],
   "source": [
    "r[0]='P'\n",
    "print(r)"
   ]
  },
  {
   "cell_type": "code",
   "execution_count": 85,
   "id": "c3ddf59e-6ea2-488e-9512-ad80bd015ba6",
   "metadata": {},
   "outputs": [],
   "source": [
    "# 이런 에러가 난다\n",
    "# 'str' object does not support item assignment\n",
    "# does not support item assignment 뜻: 해결하려면, 다른 방식으로 우회해라\n",
    "# 그래서 위에서 indexing slicing 한 것임"
   ]
  },
  {
   "cell_type": "code",
   "execution_count": 87,
   "id": "c4ba8e61-14fb-42c4-8b45-99fa3c00f211",
   "metadata": {},
   "outputs": [
    {
     "name": "stdout",
     "output_type": "stream",
     "text": [
      "Python\n"
     ]
    }
   ],
   "source": [
    "a = \"Aython\"\n",
    "\n",
    "result=a.replace(\"A\",\"P\")\n",
    "print(result)"
   ]
  },
  {
   "cell_type": "markdown",
   "id": "94ea7723-c356-454c-a549-4907ae9b8e33",
   "metadata": {},
   "source": [
    "# 오후 4 | 문자열 메서드\n",
    "- 클래스와 클래스 메서드에 대한 이해"
   ]
  },
  {
   "cell_type": "markdown",
   "id": "ad55ea60-8d56-4234-a710-8ca89825e996",
   "metadata": {},
   "source": [
    "### replace"
   ]
  },
  {
   "cell_type": "code",
   "execution_count": 89,
   "id": "25b226f7-0fcb-470e-8c53-36a36d6eb94c",
   "metadata": {},
   "outputs": [
    {
     "ename": "AttributeError",
     "evalue": "'str' object has no attribute 'Replace'",
     "output_type": "error",
     "traceback": [
      "\u001b[1;31m---------------------------------------------------------------------------\u001b[0m",
      "\u001b[1;31mAttributeError\u001b[0m                            Traceback (most recent call last)",
      "Cell \u001b[1;32mIn[89], line 3\u001b[0m\n\u001b[0;32m      1\u001b[0m a \u001b[38;5;241m=\u001b[39m \u001b[38;5;124m\"\u001b[39m\u001b[38;5;124mAython\u001b[39m\u001b[38;5;124m\"\u001b[39m\n\u001b[1;32m----> 3\u001b[0m result\u001b[38;5;241m=\u001b[39m\u001b[43ma\u001b[49m\u001b[38;5;241;43m.\u001b[39;49m\u001b[43mReplace\u001b[49m(\u001b[38;5;124m\"\u001b[39m\u001b[38;5;124mA\u001b[39m\u001b[38;5;124m\"\u001b[39m,\u001b[38;5;124m\"\u001b[39m\u001b[38;5;124mP\u001b[39m\u001b[38;5;124m\"\u001b[39m)\n\u001b[0;32m      4\u001b[0m \u001b[38;5;28mprint\u001b[39m(result)\n",
      "\u001b[1;31mAttributeError\u001b[0m: 'str' object has no attribute 'Replace'"
     ]
    }
   ],
   "source": [
    "a = \"Aython\"\n",
    "\n",
    "result=a.Replace(\"A\",\"P\")\n",
    "print(result)"
   ]
  },
  {
   "cell_type": "code",
   "execution_count": 91,
   "id": "70206740-c81f-4a70-ac5e-5dad5196dfd3",
   "metadata": {},
   "outputs": [],
   "source": [
    "# AttributeError: 'str' object has no attribute 'Replace'\n",
    "# 위의 'str' objcet는 객체 같은것\n",
    "# 대소문자 구분!!\n",
    "# 즉 오타가 났을 때 AttributeError 나옴\n",
    "# 그러면 documentaiton 찾아보기"
   ]
  },
  {
   "cell_type": "code",
   "execution_count": 93,
   "id": "fe6320fe-2ae5-4e27-8a11-15f8cf0b3105",
   "metadata": {},
   "outputs": [],
   "source": [
    "# a 활용해서 뭔가 하고 싶음 ==> 관련 메서드가 있을 거 같은데 ?\n",
    "\n",
    "# 예시\n",
    "b=\"python\"\n",
    "# 대문자로 만들고 싶어! -> 관련한 함수 찾아보기 \n",
    "# ==> 서칭할 때 중요한 건\n",
    "# string object b = \"python\" ==> 대문자로 바꾸고 싶음\n",
    "# 이런 식으로 chat gpt 물어봐야함\n",
    "# 답변 후 실제로 있는 지 공식 문서 체크! / 안돌아가면 공식 문서.. 메서드 찾아보기 ! \n",
    "# 공식 문서를 봐도 잘 모르겠는 메서드 (설명이 적거나...) -> 챗지피티에게 샘플코드를 달라하던지... "
   ]
  },
  {
   "cell_type": "markdown",
   "id": "b4d416bf-ea02-4514-9ce3-a8d25512632e",
   "metadata": {},
   "source": [
    "### upper, lower"
   ]
  },
  {
   "cell_type": "code",
   "execution_count": 95,
   "id": "ec0212a0-c9b8-4a40-9f1b-562b55a6680d",
   "metadata": {},
   "outputs": [
    {
     "data": {
      "text/plain": [
       "'HELLO, STREAMLIT'"
      ]
     },
     "execution_count": 95,
     "metadata": {},
     "output_type": "execute_result"
    }
   ],
   "source": [
    "sampleText = \"hello, streamlit\"\n",
    "sampleText = sampleText.upper()\n",
    "sampleText"
   ]
  },
  {
   "cell_type": "code",
   "execution_count": 96,
   "id": "5fbd5923-0d88-46e3-aad2-95c636acda40",
   "metadata": {},
   "outputs": [
    {
     "data": {
      "text/plain": [
       "'hello, streamlit'"
      ]
     },
     "execution_count": 96,
     "metadata": {},
     "output_type": "execute_result"
    }
   ],
   "source": [
    "sampleText.lower()"
   ]
  },
  {
   "cell_type": "markdown",
   "id": "4bf40344-0399-425f-b623-82219284fddb",
   "metadata": {},
   "source": [
    "### capitalize"
   ]
  },
  {
   "cell_type": "code",
   "execution_count": 99,
   "id": "51f3f091-ca7f-482e-bfd4-446d357dfb25",
   "metadata": {},
   "outputs": [
    {
     "data": {
      "text/plain": [
       "'Hello, streamlit'"
      ]
     },
     "execution_count": 99,
     "metadata": {},
     "output_type": "execute_result"
    }
   ],
   "source": [
    "# 문자의 첫번째 글자만 대문자로 가져옴\n",
    "\n",
    "sampleText = \"hello, streamlit\"\n",
    "sampleText.capitalize()"
   ]
  },
  {
   "cell_type": "markdown",
   "id": "af8030b1-bcf6-4728-93ac-901d1da065f9",
   "metadata": {},
   "source": [
    "### Title"
   ]
  },
  {
   "cell_type": "code",
   "execution_count": 100,
   "id": "669f569a-245a-4bc5-b1ca-a408622fe0d9",
   "metadata": {},
   "outputs": [
    {
     "data": {
      "text/plain": [
       "'Hello, Streamlit'"
      ]
     },
     "execution_count": 100,
     "metadata": {},
     "output_type": "execute_result"
    }
   ],
   "source": [
    "sampleText = \"hello, streamlit\"\n",
    "sampleText.title()"
   ]
  },
  {
   "cell_type": "markdown",
   "id": "63f7c815-4894-400b-a948-f40fd5d52170",
   "metadata": {},
   "source": [
    "### Split\n",
    "- 기본값은 공백 = 공백이 있으면 분리한다\n",
    "- 괄호 안에 분리할 기준인 구분자를 명시한다"
   ]
  },
  {
   "cell_type": "code",
   "execution_count": 105,
   "id": "dd0caed4-b72f-40c5-8384-d968cadf57f9",
   "metadata": {},
   "outputs": [
    {
     "data": {
      "text/plain": [
       "['hello', ' streamlit']"
      ]
     },
     "execution_count": 105,
     "metadata": {},
     "output_type": "execute_result"
    }
   ],
   "source": [
    "sampleText = \"hello, streamlit\"\n",
    "words = sampleText.split(sep=\",\") # 구분자: 쉼표 ,\n",
    "words"
   ]
  },
  {
   "cell_type": "code",
   "execution_count": 108,
   "id": "6ebe5401-c923-4af2-b560-222fab9bc04d",
   "metadata": {},
   "outputs": [],
   "source": [
    "# sampleText.title() 얘는 괄호 안에 없고\n",
    "# words = sampleText.split(sep=\",\") 괄호 안에 문자 있음\n",
    "# 왜 그렇지? ==? 공식문서 확인해보기...그렇게 하라고 정해놓음\n",
    "\n",
    "# 괄호안에 들어간 애 이름 = 매개변수"
   ]
  },
  {
   "cell_type": "code",
   "execution_count": 104,
   "id": "ced09cfa-2015-458c-876c-4568f25aeaff",
   "metadata": {},
   "outputs": [
    {
     "data": {
      "text/plain": [
       "['hello,', 'streamlit']"
      ]
     },
     "execution_count": 104,
     "metadata": {},
     "output_type": "execute_result"
    }
   ],
   "source": [
    "sampleText = \"hello, streamlit\"\n",
    "words = sampleText.split() # 공식문서 찾아보면 , 괄호 안 공백이면 분리한다는게 기본 값으로 정해져 있음\n",
    "words"
   ]
  },
  {
   "cell_type": "code",
   "execution_count": 107,
   "id": "d7d7cd78-28f3-487f-b55a-5f8d425aaf6c",
   "metadata": {},
   "outputs": [
    {
     "data": {
      "text/plain": [
       "['hello,streamlit']"
      ]
     },
     "execution_count": 107,
     "metadata": {},
     "output_type": "execute_result"
    }
   ],
   "source": [
    "sampleText = \"hello,streamlit\"\n",
    "words = sampleText.split()\n",
    "words"
   ]
  },
  {
   "cell_type": "code",
   "execution_count": 109,
   "id": "2970e9a9-df22-4c05-aafa-1e5ea9007b9c",
   "metadata": {},
   "outputs": [
    {
     "data": {
      "text/plain": [
       "list"
      ]
     },
     "execution_count": 109,
     "metadata": {},
     "output_type": "execute_result"
    }
   ],
   "source": [
    "sampleText=\"hello,stream,lit\" # 인풋은 문자열\n",
    "words=sampleText.split(sep=\",\")\n",
    "type(words) # return 은 list"
   ]
  },
  {
   "cell_type": "markdown",
   "id": "9b863c55-9746-4329-8128-ff9375aa25ac",
   "metadata": {},
   "source": [
    "# 오후 5| 자료형 list\n",
    "- 숫자형, 문자열 자료형, dataframe 등 을 하나의 집합으로 구성 ㄱㄴ\n",
    "- 다 들어감...\n",
    "\n",
    "## tuple 자료형\n",
    "- 리스트와 비슷\n",
    "- 대괄호가 아닌 소괄호 사용\n",
    "> 리스트와 튜플 차이점\n",
    ">- 리스트: 요소의 생성, 삭제, 수정 가능\n",
    ">- 튜플: 요소 변경 불가능"
   ]
  },
  {
   "cell_type": "code",
   "execution_count": 111,
   "id": "298e4f48-0dfd-409f-ab95-a9a30a588e56",
   "metadata": {},
   "outputs": [
    {
     "data": {
      "text/plain": [
       "'hello,streamlit'"
      ]
     },
     "execution_count": 111,
     "metadata": {},
     "output_type": "execute_result"
    }
   ],
   "source": [
    "sampleList=[\"hello\",\"streamlit\"]\n",
    "text=\",\".join(sampleList) #join 이라는 문자열 메서드를 사용하면 list를 한 줄의 문자(string)로 반환됨  \n",
    "text"
   ]
  },
  {
   "cell_type": "code",
   "execution_count": 112,
   "id": "6666c0b6-775c-4955-9e06-018d10e96631",
   "metadata": {},
   "outputs": [
    {
     "name": "stdout",
     "output_type": "stream",
     "text": [
      "1\n"
     ]
    }
   ],
   "source": [
    "# 중첩된 리스트 인덱싱 및 슬라이싱\n",
    "\n",
    "a=[1,2,3,[\"a\",\"b\",\"c\",\"d\"]]\n",
    "print(a[0])"
   ]
  },
  {
   "cell_type": "code",
   "execution_count": 113,
   "id": "fb0a0053-646f-4661-8a0b-4ec4f4729ddf",
   "metadata": {},
   "outputs": [
    {
     "data": {
      "text/plain": [
       "2"
      ]
     },
     "execution_count": 113,
     "metadata": {},
     "output_type": "execute_result"
    }
   ],
   "source": [
    "a[1]"
   ]
  },
  {
   "cell_type": "code",
   "execution_count": 114,
   "id": "89384ea2-219d-4932-ab8a-e6f8bd56015f",
   "metadata": {},
   "outputs": [
    {
     "data": {
      "text/plain": [
       "3"
      ]
     },
     "execution_count": 114,
     "metadata": {},
     "output_type": "execute_result"
    }
   ],
   "source": [
    "a[2]"
   ]
  },
  {
   "cell_type": "code",
   "execution_count": 115,
   "id": "f2c28124-bfce-4efe-b510-8c9633f7c8b4",
   "metadata": {},
   "outputs": [
    {
     "data": {
      "text/plain": [
       "4"
      ]
     },
     "execution_count": 115,
     "metadata": {},
     "output_type": "execute_result"
    }
   ],
   "source": [
    "len(a)"
   ]
  },
  {
   "cell_type": "markdown",
   "id": "345709d7-d630-47fd-a81d-0cdc7cafe3b4",
   "metadata": {},
   "source": [
    "# 오후 6| 시퀀스 자료형 확인\n",
    "- 슬라이싱, 인덱싱이 가능하다는 건 , 여러가지 값이 존재한는 데이터가 있다는 거...\n",
    "- 이런 자료형을 반복문에 쓴다\n",
    "- int, float는 시퀀스 자료형이 아니라서 반복문에 쓸 수 없음\n",
    "- 문자형, 튜플은 시퀀스 자료형에 들어간다\n",
    "\n",
    "> - 인덱싱과 슬라이싱이 가능함\n",
    "> - 반복문 사용할 때 기초자료형 활용 "
   ]
  },
  {
   "cell_type": "code",
   "execution_count": 116,
   "id": "cf799c2d-59a2-4410-8385-0208c42020ea",
   "metadata": {},
   "outputs": [
    {
     "name": "stdout",
     "output_type": "stream",
     "text": [
      "False\n",
      "True\n",
      "True\n"
     ]
    }
   ],
   "source": [
    "from collections.abc import Sequence\n",
    "\n",
    "my_num = 100\n",
    "my_list = [1, 2, 3]\n",
    "my_string = \"hello\"\n",
    "\n",
    "is_num = isinstance(my_num, Sequence)\n",
    "is_list = isinstance(my_list, Sequence)\n",
    "is_string = isinstance(my_string, Sequence)\n",
    "\n",
    "print(is_num)\n",
    "print(is_list)\n",
    "print(is_string)"
   ]
  },
  {
   "cell_type": "code",
   "execution_count": 119,
   "id": "cccd433f-326c-4df7-b867-aad020231edf",
   "metadata": {},
   "outputs": [],
   "source": [
    "# 이걸 가지고 리스트를 만든다? ㅇㅇ\n",
    "# 다시 list"
   ]
  },
  {
   "cell_type": "markdown",
   "id": "060f400a-1eed-4af9-ae5b-bab5527e50e5",
   "metadata": {},
   "source": [
    "## 오후 5 | list 메서드"
   ]
  },
  {
   "cell_type": "code",
   "execution_count": 120,
   "id": "6a39d0c6-8410-4649-b89b-4d95950e3da0",
   "metadata": {},
   "outputs": [
    {
     "name": "stdout",
     "output_type": "stream",
     "text": [
      "1\n",
      "[0, 1, 2, 3, 4, 5, 6, 7]\n"
     ]
    }
   ],
   "source": [
    "a = [0,1,2,3,4,5,6,7,8]\n",
    "print(a[1])\n",
    "print(a[0:8])"
   ]
  },
  {
   "cell_type": "code",
   "execution_count": 121,
   "id": "15c5dc8d-191c-4ffe-b77a-fede9ad8cfe0",
   "metadata": {},
   "outputs": [
    {
     "data": {
      "text/plain": [
       "[0, 1, 2, ['Python', 'Hello'], 3, 4, 5]"
      ]
     },
     "execution_count": 121,
     "metadata": {},
     "output_type": "execute_result"
    }
   ],
   "source": [
    "a = [0,1,2,[\"Python\",\"Hello\"],3,4,5]\n",
    "a"
   ]
  },
  {
   "cell_type": "code",
   "execution_count": 122,
   "id": "0a91a736-94fd-4d31-a88f-5e7f5af0699c",
   "metadata": {},
   "outputs": [
    {
     "data": {
      "text/plain": [
       "['Python', 'Hello']"
      ]
     },
     "execution_count": 122,
     "metadata": {},
     "output_type": "execute_result"
    }
   ],
   "source": [
    "# e를 가져오자\n",
    "\n",
    "a[3]"
   ]
  },
  {
   "cell_type": "code",
   "execution_count": 123,
   "id": "468bbbf5-908d-48db-95f0-de4d11b78991",
   "metadata": {},
   "outputs": [
    {
     "data": {
      "text/plain": [
       "'Hello'"
      ]
     },
     "execution_count": 123,
     "metadata": {},
     "output_type": "execute_result"
    }
   ],
   "source": [
    "a[3][1]"
   ]
  },
  {
   "cell_type": "code",
   "execution_count": 125,
   "id": "6e2d71f9-78b8-4072-bb05-fd1c1c01f6af",
   "metadata": {},
   "outputs": [
    {
     "data": {
      "text/plain": [
       "'e'"
      ]
     },
     "execution_count": 125,
     "metadata": {},
     "output_type": "execute_result"
    }
   ],
   "source": [
    "a[3][1][1]"
   ]
  },
  {
   "cell_type": "markdown",
   "id": "cef7bc78-2d83-464b-b92a-aa21004f3c1f",
   "metadata": {},
   "source": [
    "### append"
   ]
  },
  {
   "cell_type": "code",
   "execution_count": 126,
   "id": "d45eec3d-671b-453a-8420-10511cb43582",
   "metadata": {},
   "outputs": [
    {
     "data": {
      "text/plain": [
       "['iM', '뱅크', '아카데미']"
      ]
     },
     "execution_count": 126,
     "metadata": {},
     "output_type": "execute_result"
    }
   ],
   "source": [
    "a = [\"iM\",\"뱅크\"]\n",
    "a.append(\"아카데미\")\n",
    "a"
   ]
  },
  {
   "cell_type": "code",
   "execution_count": 127,
   "id": "45e1b284-6cb0-461e-8b23-0ae8b29c9aae",
   "metadata": {},
   "outputs": [],
   "source": [
    "# list 는 a.append(dd) 만 하면 내부적으로 반영은 되었지만 출력은 안됨, a 다시 출력해야함"
   ]
  },
  {
   "cell_type": "code",
   "execution_count": 128,
   "id": "68024e4b-f3d8-4785-9fb8-75eaad8deb4f",
   "metadata": {},
   "outputs": [
    {
     "name": "stdout",
     "output_type": "stream",
     "text": [
      "None\n"
     ]
    }
   ],
   "source": [
    "a = [\"iM\",\"뱅크\"]\n",
    "result=a.append(\"아카데미\")\n",
    "print(result)"
   ]
  },
  {
   "cell_type": "code",
   "execution_count": 129,
   "id": "d13e2ff7-79b5-485e-8df9-ff5ca8dfb4b9",
   "metadata": {},
   "outputs": [],
   "source": [
    "# a. append(ㅇㅇ) : 자체는 이미 변화됐지만 출력은 안되었길래 저 자체에 result 하고 print 해도 안나옴"
   ]
  },
  {
   "cell_type": "code",
   "execution_count": 130,
   "id": "f4920b28-871c-4dd7-9de8-e8af9ab92344",
   "metadata": {},
   "outputs": [
    {
     "data": {
      "text/plain": [
       "['iM', '뱅크', '아카데미']"
      ]
     },
     "execution_count": 130,
     "metadata": {},
     "output_type": "execute_result"
    }
   ],
   "source": [
    "a"
   ]
  },
  {
   "cell_type": "code",
   "execution_count": 131,
   "id": "16b61c86-08af-45a0-a894-f9671d82b6a8",
   "metadata": {},
   "outputs": [
    {
     "ename": "TypeError",
     "evalue": "list.append() takes exactly one argument (2 given)",
     "output_type": "error",
     "traceback": [
      "\u001b[1;31m---------------------------------------------------------------------------\u001b[0m",
      "\u001b[1;31mTypeError\u001b[0m                                 Traceback (most recent call last)",
      "Cell \u001b[1;32mIn[131], line 2\u001b[0m\n\u001b[0;32m      1\u001b[0m a \u001b[38;5;241m=\u001b[39m [\u001b[38;5;241m100\u001b[39m,\u001b[38;5;241m200\u001b[39m]\n\u001b[1;32m----> 2\u001b[0m \u001b[43ma\u001b[49m\u001b[38;5;241;43m.\u001b[39;49m\u001b[43mappend\u001b[49m\u001b[43m(\u001b[49m\u001b[38;5;241;43m300\u001b[39;49m\u001b[43m,\u001b[49m\u001b[43m \u001b[49m\u001b[38;5;241;43m400\u001b[39;49m\u001b[43m)\u001b[49m\n\u001b[0;32m      3\u001b[0m a\n",
      "\u001b[1;31mTypeError\u001b[0m: list.append() takes exactly one argument (2 given)"
     ]
    }
   ],
   "source": [
    "a = [100,200]\n",
    "a.append(300, 400)\n",
    "a"
   ]
  },
  {
   "cell_type": "code",
   "execution_count": 132,
   "id": "033b66e7-68b7-4236-a3e4-ff6f6f5ff429",
   "metadata": {},
   "outputs": [],
   "source": [
    "# TypeError: list.append() takes exactly one argument (2 given)\n",
    "# 안됨"
   ]
  },
  {
   "cell_type": "code",
   "execution_count": 133,
   "id": "099e6297-bd1d-4b99-876a-53950c7ee332",
   "metadata": {},
   "outputs": [
    {
     "data": {
      "text/plain": [
       "[100, 200, [300, 400]]"
      ]
     },
     "execution_count": 133,
     "metadata": {},
     "output_type": "execute_result"
    }
   ],
   "source": [
    "a = [100,200]\n",
    "a.append([300, 400])\n",
    "a"
   ]
  },
  {
   "cell_type": "code",
   "execution_count": 136,
   "id": "a2e9cf88-e5e4-42a5-8495-69469fe29042",
   "metadata": {},
   "outputs": [],
   "source": [
    "# 하려던건 이게 아님 \n",
    "# 다른 메서드 쓰면 됨 : extend"
   ]
  },
  {
   "cell_type": "markdown",
   "id": "6ace2488-382f-4fe9-861b-2a229685b5d5",
   "metadata": {},
   "source": [
    "### extend"
   ]
  },
  {
   "cell_type": "code",
   "execution_count": 138,
   "id": "2482929f-2717-45c0-8c97-907a274a647a",
   "metadata": {},
   "outputs": [
    {
     "data": {
      "text/plain": [
       "[100, 200, 300, 400]"
      ]
     },
     "execution_count": 138,
     "metadata": {},
     "output_type": "execute_result"
    }
   ],
   "source": [
    "a = [100,200]\n",
    "a.extend([300, 400])\n",
    "a"
   ]
  },
  {
   "cell_type": "code",
   "execution_count": 139,
   "id": "90290f1f-284a-4217-87c4-2aff516bb7c0",
   "metadata": {},
   "outputs": [],
   "source": [
    "# 반복문에서 특히 append 많이 씀"
   ]
  },
  {
   "cell_type": "markdown",
   "id": "2784596f-cc4f-41b2-abb4-f5d3d8b60d6c",
   "metadata": {},
   "source": [
    "## 오후 7 | list 값 변경 및 삭제"
   ]
  },
  {
   "cell_type": "code",
   "execution_count": 142,
   "id": "69523eeb-6b56-4367-b79b-2267bb1c1e16",
   "metadata": {},
   "outputs": [
    {
     "data": {
      "text/plain": [
       "[1302, 401, 418, 430, 529]"
      ]
     },
     "execution_count": 142,
     "metadata": {},
     "output_type": "execute_result"
    }
   ],
   "source": [
    "numbers=[302,401,418,430,529]\n",
    "numbers[0]= 1302\n",
    "numbers"
   ]
  },
  {
   "cell_type": "code",
   "execution_count": 143,
   "id": "0995abb0-8576-4bf2-8745-0e4f12b1d62b",
   "metadata": {},
   "outputs": [
    {
     "data": {
      "text/plain": [
       "(302, 401, 418)"
      ]
     },
     "execution_count": 143,
     "metadata": {},
     "output_type": "execute_result"
    }
   ],
   "source": [
    "# 튜플\n",
    "numbers = (302,401,418,430,529)\n",
    "numbers[0:3]"
   ]
  },
  {
   "cell_type": "code",
   "execution_count": 145,
   "id": "22fdc2eb-d5a3-4a9d-b107-ab71af006f0c",
   "metadata": {},
   "outputs": [
    {
     "ename": "TypeError",
     "evalue": "'tuple' object does not support item assignment",
     "output_type": "error",
     "traceback": [
      "\u001b[1;31m---------------------------------------------------------------------------\u001b[0m",
      "\u001b[1;31mTypeError\u001b[0m                                 Traceback (most recent call last)",
      "Cell \u001b[1;32mIn[145], line 3\u001b[0m\n\u001b[0;32m      1\u001b[0m \u001b[38;5;66;03m# 이건 안됨 : list와 tuple의 차이\u001b[39;00m\n\u001b[0;32m      2\u001b[0m numbers \u001b[38;5;241m=\u001b[39m (\u001b[38;5;241m302\u001b[39m,\u001b[38;5;241m401\u001b[39m,\u001b[38;5;241m418\u001b[39m,\u001b[38;5;241m430\u001b[39m,\u001b[38;5;241m529\u001b[39m)\n\u001b[1;32m----> 3\u001b[0m \u001b[43mnumbers\u001b[49m\u001b[43m[\u001b[49m\u001b[38;5;241;43m0\u001b[39;49m\u001b[43m]\u001b[49m\u001b[38;5;241m=\u001b[39m\u001b[38;5;241m1302\u001b[39m\n\u001b[0;32m      4\u001b[0m numbers\n",
      "\u001b[1;31mTypeError\u001b[0m: 'tuple' object does not support item assignment"
     ]
    }
   ],
   "source": [
    "# 이건 안됨 : list와 tuple의 차이\n",
    "numbers = (302,401,418,430,529)\n",
    "numbers[0]=1302\n",
    "numbers"
   ]
  },
  {
   "cell_type": "markdown",
   "id": "0b416aac-9752-4d99-8e8b-6915c291615a",
   "metadata": {},
   "source": [
    "### 리스트 삭제"
   ]
  },
  {
   "cell_type": "code",
   "execution_count": 146,
   "id": "811ed362-19da-433b-86a8-6b512ed65b43",
   "metadata": {},
   "outputs": [
    {
     "ename": "ValueError",
     "evalue": "list.remove(x): x not in list",
     "output_type": "error",
     "traceback": [
      "\u001b[1;31m---------------------------------------------------------------------------\u001b[0m",
      "\u001b[1;31mValueError\u001b[0m                                Traceback (most recent call last)",
      "Cell \u001b[1;32mIn[146], line 5\u001b[0m\n\u001b[0;32m      2\u001b[0m numbers\u001b[38;5;241m=\u001b[39m[\u001b[38;5;241m302\u001b[39m,\u001b[38;5;241m401\u001b[39m,\u001b[38;5;241m418\u001b[39m,\u001b[38;5;241m430\u001b[39m,\u001b[38;5;241m529\u001b[39m]\n\u001b[0;32m      4\u001b[0m \u001b[38;5;66;03m# 401을 제거한다\u001b[39;00m\n\u001b[1;32m----> 5\u001b[0m \u001b[43mnumbers\u001b[49m\u001b[38;5;241;43m.\u001b[39;49m\u001b[43mremove\u001b[49m\u001b[43m(\u001b[49m\u001b[38;5;241;43m1\u001b[39;49m\u001b[43m)\u001b[49m\n",
      "\u001b[1;31mValueError\u001b[0m: list.remove(x): x not in list"
     ]
    }
   ],
   "source": [
    "# 리스트 삭제\n",
    "numbers=[302,401,418,430,529]\n",
    "\n",
    "# 401을 제거한다\n",
    "numbers.remove(1)"
   ]
  },
  {
   "cell_type": "code",
   "execution_count": 147,
   "id": "a767fb25-7ca7-4dd6-8456-e33001486c79",
   "metadata": {},
   "outputs": [],
   "source": [
    "# ValueError: list.remove(x): x not in list : 값이 없다는 뜻"
   ]
  },
  {
   "cell_type": "code",
   "execution_count": 150,
   "id": "4ded47ee-4b9d-454a-a48f-4ce907167fd8",
   "metadata": {},
   "outputs": [
    {
     "data": {
      "text/plain": [
       "[302, 418, 430, 529]"
      ]
     },
     "execution_count": 150,
     "metadata": {},
     "output_type": "execute_result"
    }
   ],
   "source": [
    "#sol1\n",
    "# 리스트 삭제\n",
    "numbers=[302,401,418,430,529]\n",
    "\n",
    "# 401을 제거한다\n",
    "numbers.remove(401)\n",
    "numbers"
   ]
  },
  {
   "cell_type": "code",
   "execution_count": 149,
   "id": "12711c09-c16f-4758-a09e-a38a5eae9138",
   "metadata": {},
   "outputs": [
    {
     "data": {
      "text/plain": [
       "[302, 418, 430, 529]"
      ]
     },
     "execution_count": 149,
     "metadata": {},
     "output_type": "execute_result"
    }
   ],
   "source": [
    "#sol2\n",
    "# 리스트 삭제\n",
    "numbers=[302,401,418,430,529]\n",
    "\n",
    "# 401을 제거한다\n",
    "del numbers[1]\n",
    "numbers"
   ]
  },
  {
   "cell_type": "code",
   "execution_count": 151,
   "id": "fa1337f4-9610-47d4-9ec9-92c073a5f0cf",
   "metadata": {},
   "outputs": [
    {
     "ename": "AttributeError",
     "evalue": "'tuple' object has no attribute 'remove'",
     "output_type": "error",
     "traceback": [
      "\u001b[1;31m---------------------------------------------------------------------------\u001b[0m",
      "\u001b[1;31mAttributeError\u001b[0m                            Traceback (most recent call last)",
      "Cell \u001b[1;32mIn[151], line 6\u001b[0m\n\u001b[0;32m      3\u001b[0m numbers\u001b[38;5;241m=\u001b[39m(\u001b[38;5;241m302\u001b[39m,\u001b[38;5;241m401\u001b[39m,\u001b[38;5;241m418\u001b[39m,\u001b[38;5;241m430\u001b[39m,\u001b[38;5;241m529\u001b[39m)\n\u001b[0;32m      5\u001b[0m \u001b[38;5;66;03m# 401을 제거한다\u001b[39;00m\n\u001b[1;32m----> 6\u001b[0m \u001b[43mnumbers\u001b[49m\u001b[38;5;241;43m.\u001b[39;49m\u001b[43mremove\u001b[49m(\u001b[38;5;241m1\u001b[39m)\n",
      "\u001b[1;31mAttributeError\u001b[0m: 'tuple' object has no attribute 'remove'"
     ]
    }
   ],
   "source": [
    "# 튜플은 안됨\n",
    "\n",
    "numbers=(302,401,418,430,529)\n",
    "\n",
    "# 401을 제거한다\n",
    "numbers.remove(1)"
   ]
  },
  {
   "cell_type": "code",
   "execution_count": 152,
   "id": "93c3627d-f4b2-4fca-81a0-a3dabf311924",
   "metadata": {},
   "outputs": [],
   "source": [
    "# 튜플은 변경 안됨!!! 재확인."
   ]
  },
  {
   "cell_type": "code",
   "execution_count": 153,
   "id": "a2452885-983b-41a4-b996-072f17cca742",
   "metadata": {},
   "outputs": [],
   "source": [
    "# 튜플을 그럼 언제 씀? \n",
    "# 찾아보셈. 책이ㅏㄴ. 챗지피티나..."
   ]
  },
  {
   "cell_type": "markdown",
   "id": "10ef7d41-0196-46c8-aefa-402624a0f566",
   "metadata": {},
   "source": [
    "# 오후 8| 딕셔너리\n",
    "- 집합으로 자료 담는 자료형"
   ]
  },
  {
   "cell_type": "code",
   "execution_count": 154,
   "id": "20bce8f0-473a-49e1-98fc-b457e19c8569",
   "metadata": {},
   "outputs": [
    {
     "ename": "SyntaxError",
     "evalue": "invalid syntax (244510701.py, line 3)",
     "output_type": "error",
     "traceback": [
      "\u001b[1;36m  Cell \u001b[1;32mIn[154], line 3\u001b[1;36m\u001b[0m\n\u001b[1;33m    'key2' : '모든 기초 자료형'\u001b[0m\n\u001b[1;37m           ^\u001b[0m\n\u001b[1;31mSyntaxError\u001b[0m\u001b[1;31m:\u001b[0m invalid syntax\n"
     ]
    }
   ],
   "source": [
    "my_dic={\n",
    "    'key1' : 'value' # value 안에는 모든 기초자료형이 들어간다\n",
    "    'key2' : '모든 기초 자료형'\n",
    "}"
   ]
  },
  {
   "cell_type": "code",
   "execution_count": 166,
   "id": "b2080a81-3362-4330-a95f-1719f4bec147",
   "metadata": {},
   "outputs": [
    {
     "ename": "SyntaxError",
     "evalue": "invalid syntax (934352062.py, line 3)",
     "output_type": "error",
     "traceback": [
      "\u001b[1;36m  Cell \u001b[1;32mIn[166], line 3\u001b[1;36m\u001b[0m\n\u001b[1;33m    \"age\" : 20,\u001b[0m\n\u001b[1;37m          ^\u001b[0m\n\u001b[1;31mSyntaxError\u001b[0m\u001b[1;31m:\u001b[0m invalid syntax\n"
     ]
    }
   ],
   "source": [
    "my_dic={\n",
    "    \"name\" : \"evan\"\n",
    "    \"age\" : 20,\n",
    "    \"job\" : \"강사\",\n",
    "    \"쇼핑목록\" : [1,2,3,4],\n",
    "    \"그외\" : (1,2,3),\n",
    "    \"그외2\" : {\"key\":\"value\"} # 이것도 딕셔너리\n",
    "}\n",
    "\n",
    "my_dic"
   ]
  },
  {
   "cell_type": "code",
   "execution_count": 158,
   "id": "af6797c7-98b4-4d02-893c-eaf5471835af",
   "metadata": {},
   "outputs": [
    {
     "data": {
      "text/plain": [
       "{'name': 'evan',\n",
       " 'age': 20,\n",
       " 'job': '강사',\n",
       " '쇼핑목록': [1, 2, 3, 4],\n",
       " '그외': (1, 2, 3),\n",
       " '그외2': {'key': 'value'}}"
      ]
     },
     "execution_count": 158,
     "metadata": {},
     "output_type": "execute_result"
    }
   ],
   "source": [
    "my_dic = {\n",
    "    \"name\" : \"evan\", \n",
    "    \"age\" : 20, \n",
    "    \"job\" : \"강사\", \n",
    "    \"쇼핑목록\" : [1, 2, 3, 4], \n",
    "    \"그외\" : (1, 2, 3), \n",
    "    \"그외2\" : {\"key\" : \"value\"}\n",
    "}\n",
    "\n",
    "my_dic"
   ]
  },
  {
   "cell_type": "code",
   "execution_count": 159,
   "id": "74f1d851-4c89-4e35-b72d-2e8612c1b88f",
   "metadata": {},
   "outputs": [
    {
     "ename": "KeyError",
     "evalue": "0",
     "output_type": "error",
     "traceback": [
      "\u001b[1;31m---------------------------------------------------------------------------\u001b[0m",
      "\u001b[1;31mKeyError\u001b[0m                                  Traceback (most recent call last)",
      "Cell \u001b[1;32mIn[159], line 3\u001b[0m\n\u001b[0;32m      1\u001b[0m \u001b[38;5;66;03m# 키 value통해서 여기서 값을 뽑아내야함\u001b[39;00m\n\u001b[0;32m      2\u001b[0m \u001b[38;5;66;03m# 여긴 인덱스 번호가 없음\u001b[39;00m\n\u001b[1;32m----> 3\u001b[0m \u001b[43mmy_dic\u001b[49m\u001b[43m[\u001b[49m\u001b[38;5;241;43m0\u001b[39;49m\u001b[43m]\u001b[49m\n",
      "\u001b[1;31mKeyError\u001b[0m: 0"
     ]
    }
   ],
   "source": [
    "# 키 value통해서 여기서 값을 뽑아내야함\n",
    "# 여긴 인덱스 번호가 없음\n",
    "my_dic[0]"
   ]
  },
  {
   "cell_type": "code",
   "execution_count": 160,
   "id": "2fafa90a-51dc-4d35-9e23-7339d3db79c8",
   "metadata": {},
   "outputs": [],
   "source": [
    "# KeyError: 0 : 키값을 입력 안했다는 뜻\n",
    "# 해당되는 키값을 보고 입력하면됨"
   ]
  },
  {
   "cell_type": "code",
   "execution_count": 161,
   "id": "69970924-5c4e-4048-9643-60c71e70d335",
   "metadata": {},
   "outputs": [
    {
     "data": {
      "text/plain": [
       "{'name': 'evan',\n",
       " 'age': 20,\n",
       " 'job': '강사',\n",
       " '쇼핑목록': [0, 1, 2, ['Python', 'Hello'], 3, 4, 5],\n",
       " '그외': (1, 2, 3),\n",
       " '그외2': {'key': 'value'}}"
      ]
     },
     "execution_count": 161,
     "metadata": {},
     "output_type": "execute_result"
    }
   ],
   "source": [
    "my_dic = {\n",
    "    \"name\" : \"evan\", \n",
    "    \"age\" : 20, \n",
    "    \"job\" : \"강사\", \n",
    "    \"쇼핑목록\" : [0, 1, 2, [\"Python\", \"Hello\"], 3, 4, 5], \n",
    "    \"그외\" : (1, 2, 3), \n",
    "    \"그외2\" : {\"key\" : \"value\"}\n",
    "}\n",
    "\n",
    "my_dic"
   ]
  },
  {
   "cell_type": "code",
   "execution_count": 162,
   "id": "117028f7-91a2-46a1-8e36-a3cc1bb1857d",
   "metadata": {},
   "outputs": [
    {
     "data": {
      "text/plain": [
       "[0, 1, 2, ['Python', 'Hello'], 3, 4, 5]"
      ]
     },
     "execution_count": 162,
     "metadata": {},
     "output_type": "execute_result"
    }
   ],
   "source": [
    "my_dic['쇼핑목록']"
   ]
  },
  {
   "cell_type": "code",
   "execution_count": 163,
   "id": "e00d9bcf-5f2f-41a2-87d2-da724a65a98e",
   "metadata": {},
   "outputs": [
    {
     "data": {
      "text/plain": [
       "['Python', 'Hello']"
      ]
     },
     "execution_count": 163,
     "metadata": {},
     "output_type": "execute_result"
    }
   ],
   "source": [
    "my_dic['쇼핑목록'][3]"
   ]
  },
  {
   "cell_type": "code",
   "execution_count": 164,
   "id": "792e0d7c-4a98-4c53-a5c3-4a8f4a1c2b45",
   "metadata": {},
   "outputs": [
    {
     "data": {
      "text/plain": [
       "'o'"
      ]
     },
     "execution_count": 164,
     "metadata": {},
     "output_type": "execute_result"
    }
   ],
   "source": [
    "my_dic['쇼핑목록'][3][1][4]"
   ]
  },
  {
   "cell_type": "code",
   "execution_count": 165,
   "id": "35b7275c-89be-4fe7-ad2a-32674f96ed14",
   "metadata": {},
   "outputs": [
    {
     "data": {
      "text/plain": [
       "'o'"
      ]
     },
     "execution_count": 165,
     "metadata": {},
     "output_type": "execute_result"
    }
   ],
   "source": [
    "my_dic['쇼핑목록'][3][1][-1]"
   ]
  },
  {
   "cell_type": "markdown",
   "id": "976065e3-1812-482b-80d0-acc4c04612cb",
   "metadata": {},
   "source": [
    "## 딕셔너리 추가하기"
   ]
  },
  {
   "cell_type": "code",
   "execution_count": 167,
   "id": "13ae7422-3bd8-44eb-b17a-cdf3805abc00",
   "metadata": {},
   "outputs": [
    {
     "data": {
      "text/plain": [
       "{'name': 'evan',\n",
       " 'age': 20,\n",
       " 'job': '강사',\n",
       " '쇼핑목록': [0, 1, 2, ['Python', 'Hello'], 3, 4, 5],\n",
       " '그외': (1, 2, 3),\n",
       " '그외2': {'key': 'value'},\n",
       " '기타': '아무거나'}"
      ]
     },
     "execution_count": 167,
     "metadata": {},
     "output_type": "execute_result"
    }
   ],
   "source": [
    "my_dic['기타']=\"아무거나\"\n",
    "my_dic"
   ]
  },
  {
   "cell_type": "markdown",
   "id": "40f9b263-eb62-4f4a-9293-6df1d2d7b18c",
   "metadata": {},
   "source": [
    "## 딕셔너리 바꾸기"
   ]
  },
  {
   "cell_type": "code",
   "execution_count": 168,
   "id": "d3a4fa66-68f4-4358-9dad-1be689b47334",
   "metadata": {},
   "outputs": [
    {
     "data": {
      "text/plain": [
       "{'name': 'evan',\n",
       " 'age': 20,\n",
       " 'job': '강사',\n",
       " '쇼핑목록': ['맥북', '씽크패드'],\n",
       " '그외': (1, 2, 3),\n",
       " '그외2': {'key': 'value'},\n",
       " '기타': '아무거나'}"
      ]
     },
     "execution_count": 168,
     "metadata": {},
     "output_type": "execute_result"
    }
   ],
   "source": [
    "my_dic['쇼핑목록']=[\"맥북\",\"씽크패드\"]\n",
    "my_dic"
   ]
  },
  {
   "cell_type": "markdown",
   "id": "13322a90-fa87-49cd-81e9-e7441afcec98",
   "metadata": {},
   "source": [
    "## 딕셔너리 메서드"
   ]
  },
  {
   "cell_type": "code",
   "execution_count": 170,
   "id": "1d24721b-6f03-4dfb-9362-da9e516673aa",
   "metadata": {},
   "outputs": [
    {
     "data": {
      "text/plain": [
       "dict_keys(['name', 'age', 'job', '쇼핑목록', '그외', '그외2', '기타'])"
      ]
     },
     "execution_count": 170,
     "metadata": {},
     "output_type": "execute_result"
    }
   ],
   "source": [
    "# 키값만 가져오기\n",
    "my_dic.keys()"
   ]
  },
  {
   "cell_type": "code",
   "execution_count": 171,
   "id": "1c364750-c151-4696-9ba2-8c0192f42fa4",
   "metadata": {},
   "outputs": [
    {
     "data": {
      "text/plain": [
       "dict_values(['evan', 20, '강사', ['맥북', '씽크패드'], (1, 2, 3), {'key': 'value'}, '아무거나'])"
      ]
     },
     "execution_count": 171,
     "metadata": {},
     "output_type": "execute_result"
    }
   ],
   "source": [
    "# 밸류 값 가져오기\n",
    "my_dic.values()"
   ]
  },
  {
   "cell_type": "code",
   "execution_count": 172,
   "id": "0303e875-62c8-4496-b9aa-5a1d5826e3df",
   "metadata": {},
   "outputs": [
    {
     "data": {
      "text/plain": [
       "dict_items([('name', 'evan'), ('age', 20), ('job', '강사'), ('쇼핑목록', ['맥북', '씽크패드']), ('그외', (1, 2, 3)), ('그외2', {'key': 'value'}), ('기타', '아무거나')])"
      ]
     },
     "execution_count": 172,
     "metadata": {},
     "output_type": "execute_result"
    }
   ],
   "source": [
    "# 키, 밸류 동시에 가져오기\n",
    "my_dic.items()"
   ]
  },
  {
   "cell_type": "code",
   "execution_count": 179,
   "id": "0072a312-1ca1-4c06-8da7-f7b647051d33",
   "metadata": {},
   "outputs": [],
   "source": [
    "# 위에 보면 굉장히 자료형 이 복잡해짐 \n",
    "# 튜플 -> 리스트 -> 튜플"
   ]
  },
  {
   "cell_type": "code",
   "execution_count": 174,
   "id": "7d8e4425-f450-43a9-96b8-7a1df25c2ce1",
   "metadata": {},
   "outputs": [
    {
     "data": {
      "text/plain": [
       "dict_values"
      ]
     },
     "execution_count": 174,
     "metadata": {},
     "output_type": "execute_result"
    }
   ],
   "source": [
    "type(my_dic.values())"
   ]
  },
  {
   "cell_type": "code",
   "execution_count": 176,
   "id": "2339690f-f81f-48db-ac9c-5f063a3625e0",
   "metadata": {},
   "outputs": [],
   "source": [
    "# 리스트 아님 위에 결과들"
   ]
  },
  {
   "cell_type": "code",
   "execution_count": 178,
   "id": "75264edd-7d60-429b-bc7d-422c0993ef4d",
   "metadata": {},
   "outputs": [
    {
     "data": {
      "text/plain": [
       "[('name', 'evan'),\n",
       " ('age', 20),\n",
       " ('job', '강사'),\n",
       " ('쇼핑목록', ['맥북', '씽크패드']),\n",
       " ('그외', (1, 2, 3)),\n",
       " ('그외2', {'key': 'value'}),\n",
       " ('기타', '아무거나')]"
      ]
     },
     "execution_count": 178,
     "metadata": {},
     "output_type": "execute_result"
    }
   ],
   "source": [
    "# list 로 행변환\n",
    "list(my_dic.items())"
   ]
  },
  {
   "cell_type": "markdown",
   "id": "dd705a3a-3f87-4c91-874b-dc7677234bdc",
   "metadata": {},
   "source": [
    "# 오늘의 과제 해보기 | f string formatting\n",
    "- 점프 투 파이썬 2장-2 참고"
   ]
  },
  {
   "cell_type": "markdown",
   "id": "ddeb519a-08f3-41aa-b1a5-c639cb37c1e4",
   "metadata": {},
   "source": [
    "## 문자열 포맷 코드\n",
    "- 정수형, 문자열, 외에도 다양한 것 대입 가능\n",
    "> 문자열 포맷 코드 종류\n",
    "> - %s 문자열 string\n",
    "> - %c 문자 1개 character\n",
    "> - %d 정수 integer\n",
    "> - %f 부동소수\n",
    "> - %o 8진수\n",
    "> - %x 16진수\n",
    "> - %% literally , %\n",
    "\n",
    "> %s 가 중요!\n",
    "> - 어떤 형태 값이든 변환해 넣을 수 있음\n",
    "> - 아래 예제 보기"
   ]
  },
  {
   "cell_type": "code",
   "execution_count": 181,
   "id": "74652afc-6a70-4418-8a30-ce137e82a78c",
   "metadata": {},
   "outputs": [
    {
     "data": {
      "text/plain": [
       "'I have 3 apples'"
      ]
     },
     "execution_count": 181,
     "metadata": {},
     "output_type": "execute_result"
    }
   ],
   "source": [
    "\"I have %s apples\" % 3"
   ]
  },
  {
   "cell_type": "code",
   "execution_count": 182,
   "id": "14be0ea2-37ee-4060-9994-d25827d9bc4d",
   "metadata": {},
   "outputs": [
    {
     "data": {
      "text/plain": [
       "'rate is 3.234'"
      ]
     },
     "execution_count": 182,
     "metadata": {},
     "output_type": "execute_result"
    }
   ],
   "source": [
    "\"rate is %s\" % 3.234"
   ]
  },
  {
   "cell_type": "code",
   "execution_count": 185,
   "id": "0f1f9538-b1a8-497f-bb8b-efed4544715e",
   "metadata": {},
   "outputs": [
    {
     "ename": "ValueError",
     "evalue": "unsupported format character '?' (0xac1c) at index 6",
     "output_type": "error",
     "traceback": [
      "\u001b[1;31m---------------------------------------------------------------------------\u001b[0m",
      "\u001b[1;31mValueError\u001b[0m                                Traceback (most recent call last)",
      "Cell \u001b[1;32mIn[185], line 1\u001b[0m\n\u001b[1;32m----> 1\u001b[0m \u001b[38;5;124;43m\"\u001b[39;49m\u001b[38;5;124;43m할 일이 \u001b[39;49m\u001b[38;5;124;43m%\u001b[39;49m\u001b[38;5;124;43m개야\u001b[39;49m\u001b[38;5;124;43m\"\u001b[39;49m\u001b[43m \u001b[49m\u001b[38;5;241;43m%\u001b[39;49m\u001b[43m \u001b[49m\u001b[38;5;124;43m'\u001b[39;49m\u001b[38;5;124;43m수십\u001b[39;49m\u001b[38;5;124;43m'\u001b[39;49m\n",
      "\u001b[1;31mValueError\u001b[0m: unsupported format character '?' (0xac1c) at index 6"
     ]
    }
   ],
   "source": [
    "\"할 일이 %개야\" % '수십'\n",
    "# 뭐지?"
   ]
  },
  {
   "cell_type": "code",
   "execution_count": 186,
   "id": "79043c96-1641-4caf-ac67-f663f5f9417b",
   "metadata": {},
   "outputs": [
    {
     "ename": "ValueError",
     "evalue": "incomplete format",
     "output_type": "error",
     "traceback": [
      "\u001b[1;31m---------------------------------------------------------------------------\u001b[0m",
      "\u001b[1;31mValueError\u001b[0m                                Traceback (most recent call last)",
      "Cell \u001b[1;32mIn[186], line 1\u001b[0m\n\u001b[1;32m----> 1\u001b[0m \u001b[38;5;124;43m\"\u001b[39;49m\u001b[38;5;124;43mError is \u001b[39;49m\u001b[38;5;132;43;01m%d\u001b[39;49;00m\u001b[38;5;124;43m%\u001b[39;49m\u001b[38;5;124;43m.\u001b[39;49m\u001b[38;5;124;43m\"\u001b[39;49m\u001b[43m \u001b[49m\u001b[38;5;241;43m%\u001b[39;49m\u001b[43m \u001b[49m\u001b[38;5;241;43m98\u001b[39;49m\n",
      "\u001b[1;31mValueError\u001b[0m: incomplete format"
     ]
    }
   ],
   "source": [
    "\"Error is %d%.\" % 98"
   ]
  },
  {
   "cell_type": "code",
   "execution_count": 187,
   "id": "79047e11-7aaa-49cf-b84e-523a8f036b74",
   "metadata": {},
   "outputs": [
    {
     "data": {
      "text/plain": [
       "'Error is 98%.'"
      ]
     },
     "execution_count": 187,
     "metadata": {},
     "output_type": "execute_result"
    }
   ],
   "source": [
    "\"Error is %d%%.\" % 98"
   ]
  },
  {
   "cell_type": "code",
   "execution_count": 189,
   "id": "c1e945b4-2352-420b-b601-6cbaff7df6a0",
   "metadata": {},
   "outputs": [
    {
     "data": {
      "text/plain": [
       "'        hi'"
      ]
     },
     "execution_count": 189,
     "metadata": {},
     "output_type": "execute_result"
    }
   ],
   "source": [
    "\"%10s\" % \"hi\" # 오른쪽 정렬"
   ]
  },
  {
   "cell_type": "code",
   "execution_count": 191,
   "id": "3510a6f2-6093-42b1-a7ac-37549aff5f53",
   "metadata": {},
   "outputs": [
    {
     "data": {
      "text/plain": [
       "'hi        jane.'"
      ]
     },
     "execution_count": 191,
     "metadata": {},
     "output_type": "execute_result"
    }
   ],
   "source": [
    "\"%-10sjane.\" % 'hi' # 왼쪽 정렬"
   ]
  },
  {
   "cell_type": "code",
   "execution_count": 192,
   "id": "b2c0c4e7-3168-4a51-abbe-b17007935e8b",
   "metadata": {},
   "outputs": [
    {
     "data": {
      "text/plain": [
       "'3.4214'"
      ]
     },
     "execution_count": 192,
     "metadata": {},
     "output_type": "execute_result"
    }
   ],
   "source": [
    "\"%0.4f\" % 3.4214234"
   ]
  },
  {
   "cell_type": "code",
   "execution_count": 193,
   "id": "0f29c861-66bd-46e3-97a8-4de749f68970",
   "metadata": {},
   "outputs": [
    {
     "data": {
      "text/plain": [
       "'    3.4214'"
      ]
     },
     "execution_count": 193,
     "metadata": {},
     "output_type": "execute_result"
    }
   ],
   "source": [
    "\"%10.4f\" % 3.4214234"
   ]
  },
  {
   "cell_type": "code",
   "execution_count": 194,
   "id": "3f1933cb-4b00-42e8-828f-d34145be71f9",
   "metadata": {},
   "outputs": [
    {
     "data": {
      "text/plain": [
       "'3.4214    '"
      ]
     },
     "execution_count": 194,
     "metadata": {},
     "output_type": "execute_result"
    }
   ],
   "source": [
    "\"%-10.4f\" % 3.4214234"
   ]
  },
  {
   "cell_type": "code",
   "execution_count": 195,
   "id": "ca1234a0-eee7-44e5-a42d-c1328bfcc45e",
   "metadata": {},
   "outputs": [
    {
     "data": {
      "text/plain": [
       "'I eat 3 apples'"
      ]
     },
     "execution_count": 195,
     "metadata": {},
     "output_type": "execute_result"
    }
   ],
   "source": [
    "\"I eat {0} apples\".format(3)"
   ]
  },
  {
   "cell_type": "code",
   "execution_count": 196,
   "id": "9ca794b7-929a-4e5c-84cd-715e64e626df",
   "metadata": {},
   "outputs": [
    {
     "data": {
      "text/plain": [
       "'I eat five apples'"
      ]
     },
     "execution_count": 196,
     "metadata": {},
     "output_type": "execute_result"
    }
   ],
   "source": [
    "\"I eat {0} apples\".format(\"five\")"
   ]
  },
  {
   "cell_type": "code",
   "execution_count": 197,
   "id": "3dcbede7-6c82-4cdf-8e59-93b008482fbd",
   "metadata": {},
   "outputs": [
    {
     "data": {
      "text/plain": [
       "'I eat 3 apples'"
      ]
     },
     "execution_count": 197,
     "metadata": {},
     "output_type": "execute_result"
    }
   ],
   "source": [
    "number=3\n",
    "\"I eat {0} apples\".format(number)"
   ]
  },
  {
   "cell_type": "code",
   "execution_count": 198,
   "id": "e5891d0d-a62e-4fb1-879e-bc82b77d6b7e",
   "metadata": {},
   "outputs": [
    {
     "data": {
      "text/plain": [
       "'I eat 삼 apples'"
      ]
     },
     "execution_count": 198,
     "metadata": {},
     "output_type": "execute_result"
    }
   ],
   "source": [
    "text=\"삼\"\n",
    "\"I eat {0} apples\".format(text)"
   ]
  },
  {
   "cell_type": "code",
   "execution_count": 199,
   "id": "1716e344-d8aa-41b0-bd0a-0974d14f943e",
   "metadata": {},
   "outputs": [
    {
     "data": {
      "text/plain": [
       "'I ate 10 apples. So I was sick for three days.'"
      ]
     },
     "execution_count": 199,
     "metadata": {},
     "output_type": "execute_result"
    }
   ],
   "source": [
    "number=10\n",
    "day=\"three\"\n",
    "\"I ate {0} apples. So I was sick for {1} days.\".format(number, day)"
   ]
  },
  {
   "cell_type": "code",
   "execution_count": 200,
   "id": "16593012-1fba-45f5-9b39-90f537a4519c",
   "metadata": {},
   "outputs": [
    {
     "data": {
      "text/plain": [
       "'I ate 1 apples. so I was sick for 3 days'"
      ]
     },
     "execution_count": 200,
     "metadata": {},
     "output_type": "execute_result"
    }
   ],
   "source": [
    "\"I ate {number} apples. so I was sick for {day} days\".format(number=1, day=\"3\")"
   ]
  },
  {
   "cell_type": "code",
   "execution_count": 207,
   "id": "36dfaf19-6f46-487f-8efd-60e47ef53e5e",
   "metadata": {},
   "outputs": [
    {
     "ename": "SyntaxError",
     "evalue": "positional argument follows keyword argument (4008179655.py, line 1)",
     "output_type": "error",
     "traceback": [
      "\u001b[1;36m  Cell \u001b[1;32mIn[207], line 1\u001b[1;36m\u001b[0m\n\u001b[1;33m    \"I ate {number} apples. so I was sick for {1} days.\".format(number=10,3)\u001b[0m\n\u001b[1;37m                                                                           ^\u001b[0m\n\u001b[1;31mSyntaxError\u001b[0m\u001b[1;31m:\u001b[0m positional argument follows keyword argument\n"
     ]
    }
   ],
   "source": [
    "\"I ate {number} apples. so I was sick for {1} days.\".format(number=10,3)"
   ]
  },
  {
   "cell_type": "code",
   "execution_count": 206,
   "id": "6c31d74b-a644-46a1-9f27-43c98007580a",
   "metadata": {},
   "outputs": [
    {
     "data": {
      "text/plain": [
       "'I ate 10 apples. so I was sick for 3 days.'"
      ]
     },
     "execution_count": 206,
     "metadata": {},
     "output_type": "execute_result"
    }
   ],
   "source": [
    "\"I ate {number} apples. so I was sick for {0} days.\".format(3,number=10)"
   ]
  },
  {
   "cell_type": "code",
   "execution_count": 204,
   "id": "22386302-7360-43f4-afcb-6f46724b8208",
   "metadata": {},
   "outputs": [
    {
     "data": {
      "text/plain": [
       "'I ate 10 apples. so I was sick for 3 days.'"
      ]
     },
     "execution_count": 204,
     "metadata": {},
     "output_type": "execute_result"
    }
   ],
   "source": [
    "\"I ate {0} apples. so I was sick for {1} days.\".format(10,3)"
   ]
  },
  {
   "cell_type": "code",
   "execution_count": 209,
   "id": "f1c7ae5f-3fbc-4f49-9e0f-22ee95ca5482",
   "metadata": {},
   "outputs": [
    {
     "data": {
      "text/plain": [
       "'hi        '"
      ]
     },
     "execution_count": 209,
     "metadata": {},
     "output_type": "execute_result"
    }
   ],
   "source": [
    "# 왼쪽 정렬, 문자열 총 자릿수 는 10\n",
    "\"{0:<10}\".format(\"hi\")"
   ]
  },
  {
   "cell_type": "code",
   "execution_count": 210,
   "id": "263ad14a-7e47-4997-a416-47544ecda963",
   "metadata": {},
   "outputs": [
    {
     "data": {
      "text/plain": [
       "'        hi'"
      ]
     },
     "execution_count": 210,
     "metadata": {},
     "output_type": "execute_result"
    }
   ],
   "source": [
    "\"{0:>10}\".format(\"hi\")"
   ]
  },
  {
   "cell_type": "code",
   "execution_count": 211,
   "id": "f776436e-6b5f-460d-a2bd-f1f1621885ce",
   "metadata": {},
   "outputs": [
    {
     "data": {
      "text/plain": [
       "'    hi    '"
      ]
     },
     "execution_count": 211,
     "metadata": {},
     "output_type": "execute_result"
    }
   ],
   "source": [
    "\"{0:^10}\".format(\"hi\")"
   ]
  },
  {
   "cell_type": "code",
   "execution_count": 212,
   "id": "9974a17b-9de3-4021-8af5-8b14d592149c",
   "metadata": {},
   "outputs": [
    {
     "data": {
      "text/plain": [
       "'====hi===='"
      ]
     },
     "execution_count": 212,
     "metadata": {},
     "output_type": "execute_result"
    }
   ],
   "source": [
    "\"{0:=^10}\".format(\"hi\")"
   ]
  },
  {
   "cell_type": "code",
   "execution_count": 217,
   "id": "dbdda948-ad2a-4c14-aaee-d1c11489221f",
   "metadata": {},
   "outputs": [
    {
     "data": {
      "text/plain": [
       "'hi========'"
      ]
     },
     "execution_count": 217,
     "metadata": {},
     "output_type": "execute_result"
    }
   ],
   "source": [
    "\"{0:=<10}\".format(\"hi\")"
   ]
  },
  {
   "cell_type": "code",
   "execution_count": 218,
   "id": "139be345-1c09-4478-80d2-fe928ab53ed2",
   "metadata": {},
   "outputs": [
    {
     "data": {
      "text/plain": [
       "'========hi'"
      ]
     },
     "execution_count": 218,
     "metadata": {},
     "output_type": "execute_result"
    }
   ],
   "source": [
    "\"{0:=>10}\".format(\"hi\")"
   ]
  },
  {
   "cell_type": "code",
   "execution_count": null,
   "id": "77fedd63-3232-4422-8cad-c0c791a6349a",
   "metadata": {},
   "outputs": [],
   "source": []
  },
  {
   "cell_type": "code",
   "execution_count": null,
   "id": "b7c947c9-759f-4a94-ae0e-3543e8272255",
   "metadata": {},
   "outputs": [],
   "source": []
  },
  {
   "cell_type": "code",
   "execution_count": null,
   "id": "5cd569e5-a9d6-49e6-b60e-5c31906103db",
   "metadata": {},
   "outputs": [],
   "source": []
  },
  {
   "cell_type": "code",
   "execution_count": null,
   "id": "b19e39b0-b27d-442d-a08f-110608804f44",
   "metadata": {},
   "outputs": [],
   "source": []
  },
  {
   "cell_type": "code",
   "execution_count": null,
   "id": "a94a005d-750e-420a-a462-b07ef8038328",
   "metadata": {},
   "outputs": [],
   "source": []
  },
  {
   "cell_type": "code",
   "execution_count": null,
   "id": "4c917f3c-e68c-4eb0-a60f-5fd3a3be49fd",
   "metadata": {},
   "outputs": [],
   "source": []
  },
  {
   "cell_type": "code",
   "execution_count": null,
   "id": "cd3399ff-5ad7-455b-af9f-4028afe0a865",
   "metadata": {},
   "outputs": [],
   "source": []
  },
  {
   "cell_type": "code",
   "execution_count": null,
   "id": "e3d06911-f930-4a31-b137-282138aed950",
   "metadata": {},
   "outputs": [],
   "source": []
  },
  {
   "cell_type": "code",
   "execution_count": null,
   "id": "1f5a8005-37ad-4034-8b66-6656d11b34be",
   "metadata": {},
   "outputs": [],
   "source": []
  },
  {
   "cell_type": "code",
   "execution_count": null,
   "id": "245e465f-a047-46ff-a5df-cdf61c64d3bf",
   "metadata": {},
   "outputs": [],
   "source": []
  },
  {
   "cell_type": "code",
   "execution_count": null,
   "id": "6bd231bd-7790-4ce6-8469-1a6c89f80355",
   "metadata": {},
   "outputs": [],
   "source": []
  },
  {
   "cell_type": "code",
   "execution_count": null,
   "id": "09b5a23a-420f-495c-a317-3cf0df743ae3",
   "metadata": {},
   "outputs": [],
   "source": []
  },
  {
   "cell_type": "code",
   "execution_count": null,
   "id": "f1d1f7e8-96d6-46b8-9fab-5d0db90d6b27",
   "metadata": {},
   "outputs": [],
   "source": []
  },
  {
   "cell_type": "code",
   "execution_count": null,
   "id": "923ed9dc-c0fe-46e4-8302-ead9aec6c63a",
   "metadata": {},
   "outputs": [],
   "source": []
  },
  {
   "cell_type": "code",
   "execution_count": null,
   "id": "cc2ece74-3666-4733-9488-87526b6e83ca",
   "metadata": {},
   "outputs": [],
   "source": []
  },
  {
   "cell_type": "code",
   "execution_count": null,
   "id": "12ecba7b-7f86-418b-91d3-781b7f2fb436",
   "metadata": {},
   "outputs": [],
   "source": []
  },
  {
   "cell_type": "code",
   "execution_count": null,
   "id": "b94d41c7-14bf-452d-bb91-492f6dbfc478",
   "metadata": {},
   "outputs": [],
   "source": []
  },
  {
   "cell_type": "markdown",
   "id": "bd4f68d3-16dc-4a57-a1b6-899b3f6b84a0",
   "metadata": {},
   "source": [
    "Google Colab ==> Github에 파일 복사\n",
    "그 다음 항상 뭘 해야하냐...\n",
    "1. In my local pc\n",
    "==> git pull (파일 다운로드)\n",
    "==> my local pc 와 github repo 동기화 확인\n",
    "==> git add / commit / push\n",
    "\n",
    "--> 그그 블로그 정리!"
   ]
  },
  {
   "cell_type": "code",
   "execution_count": null,
   "id": "8194dd4b-2555-4428-b329-173d61efb737",
   "metadata": {},
   "outputs": [],
   "source": []
  },
  {
   "cell_type": "code",
   "execution_count": null,
   "id": "d1535b87-73a3-417d-971c-0ee375c52fa3",
   "metadata": {},
   "outputs": [],
   "source": []
  }
 ],
 "metadata": {
  "kernelspec": {
   "display_name": "Python 3 (ipykernel)",
   "language": "python",
   "name": "python3"
  },
  "language_info": {
   "codemirror_mode": {
    "name": "ipython",
    "version": 3
   },
   "file_extension": ".py",
   "mimetype": "text/x-python",
   "name": "python",
   "nbconvert_exporter": "python",
   "pygments_lexer": "ipython3",
   "version": "3.12.6"
  }
 },
 "nbformat": 4,
 "nbformat_minor": 5
}
