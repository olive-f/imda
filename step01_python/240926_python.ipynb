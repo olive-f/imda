{
 "cells": [
  {
   "cell_type": "code",
   "execution_count": 1,
   "id": "ed3185df-dcd0-4878-94f2-8d793acdadf0",
   "metadata": {},
   "outputs": [
    {
     "name": "stdout",
     "output_type": "stream",
     "text": [
      "Note: you may need to restart the kernel to use updated packages.\n"
     ]
    },
    {
     "name": "stderr",
     "output_type": "stream",
     "text": [
      "ERROR: Could not open requirements file: [Errno 2] No such file or directory: 'requirements.txt'\n"
     ]
    }
   ],
   "source": [
    "pip install -r requirements.txt"
   ]
  },
  {
   "cell_type": "code",
   "execution_count": 2,
   "id": "6c579b58-c87d-47b7-899d-76ef7aefa82d",
   "metadata": {},
   "outputs": [],
   "source": [
    "import pandas as pd\n",
    "import numpy as np"
   ]
  },
  {
   "cell_type": "markdown",
   "id": "18fcc02f-ae48-4bc7-9038-3ccd3cfbedac",
   "metadata": {},
   "source": [
    "# 클래스 선언"
   ]
  },
  {
   "cell_type": "code",
   "execution_count": 3,
   "id": "a7377673-c524-403f-a1aa-16e6f5d082cc",
   "metadata": {},
   "outputs": [],
   "source": [
    "class Bicycle():\n",
    "    pass # 클래스 선언 기초 도입. "
   ]
  },
  {
   "cell_type": "code",
   "execution_count": 4,
   "id": "05c6fb63-3e20-4155-a3fe-86da89a49c62",
   "metadata": {},
   "outputs": [],
   "source": [
    "# 클래스 선언 했으니, 객체 생성 해야함"
   ]
  },
  {
   "cell_type": "markdown",
   "id": "ea9dbaea-1142-4342-8744-c95202e28132",
   "metadata": {},
   "source": [
    "## 객체 생성"
   ]
  },
  {
   "cell_type": "code",
   "execution_count": 5,
   "id": "92b79846-cf47-403e-aebf-b9ef678b2fa7",
   "metadata": {},
   "outputs": [
    {
     "data": {
      "text/plain": [
       "<__main__.Bicycle at 0x189ad611940>"
      ]
     },
     "execution_count": 5,
     "metadata": {},
     "output_type": "execute_result"
    }
   ],
   "source": [
    "my_bicycle= Bicycle() #객체 생성 된 것\n",
    "my_bicycle"
   ]
  },
  {
   "cell_type": "markdown",
   "id": "a40b6f65-92cd-4aec-b342-622b38a7b17a",
   "metadata": {},
   "source": [
    "## 클래스 변수 정의"
   ]
  },
  {
   "cell_type": "code",
   "execution_count": 7,
   "id": "d6b05232-c840-4373-a5a6-dafb1ca38ae5",
   "metadata": {},
   "outputs": [],
   "source": [
    "# 클래스 변수 정의해보자\n",
    "my_bicycle.wheel_size=26\n",
    "my_bicycle.color = 'black'"
   ]
  },
  {
   "cell_type": "code",
   "execution_count": 8,
   "id": "bc570e7d-1fad-4d71-a76f-1d1c89cd96d5",
   "metadata": {},
   "outputs": [
    {
     "name": "stdout",
     "output_type": "stream",
     "text": [
      "26\n"
     ]
    }
   ],
   "source": [
    "print(my_bicycle.wheel_size)"
   ]
  },
  {
   "cell_type": "code",
   "execution_count": 10,
   "id": "5f291b04-b1f4-49f7-994d-ee7a8c6f0c34",
   "metadata": {},
   "outputs": [],
   "source": [
    "# 이렇게 하진 않는다. 좋지 않은 코드"
   ]
  },
  {
   "cell_type": "code",
   "execution_count": 11,
   "id": "ebd938a0-0637-445e-8d20-6805af02009a",
   "metadata": {},
   "outputs": [
    {
     "name": "stdout",
     "output_type": "stream",
     "text": [
      "책 01호\n",
      "title Streamlit author Evan pages 560 price 40000 discount 10\n",
      "책 02호\n",
      "title pandas author 성신 pages 400 price 30000 discount 20\n"
     ]
    }
   ],
   "source": [
    "class 책:\n",
    "    title = None\n",
    "    author = None\n",
    "    pages = 0\n",
    "    price = 0\n",
    "    discount = 0\n",
    "\n",
    "책01호 = 책()\n",
    "책01호.title = \"Streamlit\"\n",
    "책01호.author = \"Evan\"\n",
    "책01호.pages = 560\n",
    "책01호.price = 40000\n",
    "책01호.discount = 10\n",
    "\n",
    "print('책 01호')\n",
    "print('title', 책01호.title, 'author', 책01호.author, 'pages', 책01호.pages, 'price', 책01호.price, 'discount', 책01호.discount)\n",
    "\n",
    "책02호 = 책()\n",
    "책02호.title = \"pandas\"\n",
    "책02호.author = \"성신\"\n",
    "책02호.pages = 400\n",
    "책02호.price = 30000\n",
    "책02호.discount = 20\n",
    "#이 처럼 두개의 인스턴스만 생성해도 귀찮아 짐을 알 수 있음\n",
    "\n",
    "print('책 02호')\n",
    "print('title', 책02호.title, 'author', 책02호.author, 'pages', 책02호.pages, 'price', 책02호.price, 'discount', 책02호.discount)\n"
   ]
  },
  {
   "cell_type": "markdown",
   "id": "d503f4a8-6772-4f90-bdbe-27b0688726cb",
   "metadata": {},
   "source": [
    "- 위의 방버은 활용도가 떨어짐\n",
    "- 그래서 init 함수 사용해서 클래스 만듦"
   ]
  },
  {
   "cell_type": "markdown",
   "id": "2027b4de-3e98-4e98-a23a-92e2aee8f5a7",
   "metadata": {},
   "source": [
    "## init 함수 활용"
   ]
  },
  {
   "cell_type": "code",
   "execution_count": 12,
   "id": "e2360677-af0d-40d6-8ce0-35327669438f",
   "metadata": {},
   "outputs": [
    {
     "name": "stdout",
     "output_type": "stream",
     "text": [
      "26 black\n"
     ]
    }
   ],
   "source": [
    "class Bicycle():\n",
    "    def __init__(self,wheel_size,color):\n",
    "        self.wheel_size=wheel_size\n",
    "        self.color=color\n",
    "\n",
    "my_bicycle=Bicycle(26, 'black') # 객체 생성과 동시에 속성값을 가짐.ㅅ\n",
    "print(my_bicycle.wheel_size,my_bicycle.color)"
   ]
  },
  {
   "cell_type": "code",
   "execution_count": 13,
   "id": "4710a841-ccd8-444c-8fca-227a773fd365",
   "metadata": {},
   "outputs": [
    {
     "name": "stdout",
     "output_type": "stream",
     "text": [
      "26 black\n",
      "자전거 : 시속60 킬로미터로 전진\n"
     ]
    }
   ],
   "source": [
    "class Bicycle():\n",
    "    def __init__(self,wheel_size,color):\n",
    "        self.wheel_size=wheel_size\n",
    "        self.color=color\n",
    "\n",
    "    #메서드\n",
    "    def move(self, speed): # self가 들어가는 이유: self=자신, 여기서 자신은 my_bicycle 인스턴스를 의미한다. \n",
    "        print(f\"자전거 : 시속{speed} 킬로미터로 전진\")\n",
    "\n",
    "\n",
    "my_bicycle=Bicycle(26, 'black') # 객체 생성과 동시에 속성값을 가짐.\n",
    "print(my_bicycle.wheel_size,my_bicycle.color)\n",
    "\n",
    "my_bicycle.move(60)"
   ]
  },
  {
   "cell_type": "markdown",
   "id": "dfca4e23-3c40-41dc-b788-a4af04f65b2a",
   "metadata": {},
   "source": [
    "## 문제 \n",
    "- Person 클래스 만드세요.\n",
    "- 속성 : 이름(name), 나이(age)\n",
    "- greet() 메서드\n",
    "- "
   ]
  },
  {
   "cell_type": "code",
   "execution_count": 14,
   "id": "2888434d-d5a1-414a-8445-c0998b4ce1f4",
   "metadata": {},
   "outputs": [
    {
     "name": "stdout",
     "output_type": "stream",
     "text": [
      "Olive 25\n"
     ]
    }
   ],
   "source": [
    "class Person():\n",
    "    def __init__(self,name,age):\n",
    "        self.name=name\n",
    "        self.age=age\n",
    "\n",
    "    #메서드\n",
    "    #def greet(self, speed):\n",
    "     #   print(f\"자전거 : 시속{speed} 킬로미터로 전진\")\n",
    "\n",
    "\n",
    "profile=Person('Olive', 25) # 객체 생성과 동시에 속성값을 가짐.\n",
    "print(profile.name, profile.age)\n",
    "\n",
    "#my_bicycle.move(60)"
   ]
  },
  {
   "cell_type": "code",
   "execution_count": 15,
   "id": "9924c44a-8001-456d-b275-64104557114f",
   "metadata": {},
   "outputs": [
    {
     "ename": "AttributeError",
     "evalue": "'Person' object has no attribute 'greet'",
     "output_type": "error",
     "traceback": [
      "\u001b[1;31m---------------------------------------------------------------------------\u001b[0m",
      "\u001b[1;31mAttributeError\u001b[0m                            Traceback (most recent call last)",
      "Cell \u001b[1;32mIn[15], line 13\u001b[0m\n\u001b[0;32m      8\u001b[0m         \u001b[38;5;28mprint\u001b[39m(\u001b[38;5;124mf\u001b[39m\u001b[38;5;124m\"\u001b[39m\u001b[38;5;124m안녕하세요. 제 이름은 \u001b[39m\u001b[38;5;132;01m{\u001b[39;00mname\u001b[38;5;132;01m}\u001b[39;00m\u001b[38;5;124m 입니다. 저는 \u001b[39m\u001b[38;5;132;01m{\u001b[39;00mage\u001b[38;5;132;01m}\u001b[39;00m\u001b[38;5;124m살입니다. \u001b[39m\u001b[38;5;132;01m{\u001b[39;00mhi\u001b[38;5;132;01m}\u001b[39;00m\u001b[38;5;124m \u001b[39m\u001b[38;5;124m\"\u001b[39m)\n\u001b[0;32m     11\u001b[0m \u001b[38;5;66;03m#profile=Person('Olive', 25) # 객체 생성과 동시에 속성값을 가짐.\u001b[39;00m\n\u001b[0;32m     12\u001b[0m \u001b[38;5;66;03m#print(profile.name, profile.age)\u001b[39;00m\n\u001b[1;32m---> 13\u001b[0m \u001b[43mprofile\u001b[49m\u001b[38;5;241;43m.\u001b[39;49m\u001b[43mgreet\u001b[49m(\u001b[38;5;241m12\u001b[39m)\n",
      "\u001b[1;31mAttributeError\u001b[0m: 'Person' object has no attribute 'greet'"
     ]
    }
   ],
   "source": [
    "class Person():\n",
    "    def __init__(self,name,age):\n",
    "        self.name = name\n",
    "        self.age = age\n",
    "\n",
    "    #메서드\n",
    "    def greet(self, hi):\n",
    "        print(f\"안녕하세요. 제 이름은 {name} 입니다. 저는 {age}살입니다. {hi} \")\n",
    "\n",
    "\n",
    "#profile=Person('Olive', 25) # 객체 생성과 동시에 속성값을 가짐.\n",
    "#print(profile.name, profile.age)\n",
    "profile.greet(12)"
   ]
  },
  {
   "cell_type": "code",
   "execution_count": 16,
   "id": "df49f633-39af-4796-9113-454fc144c73e",
   "metadata": {},
   "outputs": [],
   "source": [
    "# 모징?"
   ]
  },
  {
   "cell_type": "code",
   "execution_count": 23,
   "id": "281d88ce-1972-45da-8156-976f5e19eddc",
   "metadata": {},
   "outputs": [
    {
     "name": "stdout",
     "output_type": "stream",
     "text": [
      "안녕하세요. 제 이름은 Olive 입니다. 저는 25살입니다. \n"
     ]
    }
   ],
   "source": [
    "# 수정\n",
    "class Person():\n",
    "    def __init__(self,name,age):\n",
    "        self.name = name # 이름 속성\n",
    "        self.age = age # 나이속성\n",
    "\n",
    "    #메서드\n",
    "    def greet(self): # greet에 인수 안줬을 땐, 그냥 self만 쓰라는 것임\n",
    "        print(f\"안녕하세요. 제 이름은 {self.name} 입니다. 저는 {self.age}살입니다. \")\n",
    "\n",
    "Olive = Person(\"Olive\", 25)\n",
    "Olive.greet()"
   ]
  },
  {
   "cell_type": "code",
   "execution_count": 24,
   "id": "265ed1fa-a51a-4e08-8fd5-9ed6e8cccb1b",
   "metadata": {},
   "outputs": [
    {
     "name": "stdout",
     "output_type": "stream",
     "text": [
      "안녕하세요. 제 이름은 Minkyu 입니다. 저는 25살입니다. \n"
     ]
    }
   ],
   "source": [
    "Minkyu = Person(\"Minkyu\", 25)\n",
    "Minkyu.greet()"
   ]
  },
  {
   "cell_type": "code",
   "execution_count": 27,
   "id": "10b46cb5-c310-4783-a1b3-8eef4c07204c",
   "metadata": {},
   "outputs": [
    {
     "name": "stdout",
     "output_type": "stream",
     "text": [
      "안녕하세요. Minkyu님. 제 이름은 Olive 입니다. 저는 25살입니다. \n"
     ]
    }
   ],
   "source": [
    "# 더 나아가기\n",
    "\n",
    "class Person():\n",
    "    def __init__(self,name,age): # self 객체 생성할 때 쓴 변수\n",
    "        self.name = name\n",
    "        self.age = age\n",
    "\n",
    "    #메서드\n",
    "    def greet(self, other_name): # other_name 은 greet 에서만 쓰는 매개변수니까 앞에 self. 안들어감\n",
    "        print(f\"안녕하세요. {other_name}님. 제 이름은 {self.name} 입니다. 저는 {self.age}살입니다. \")\n",
    "\n",
    "Olive = Person(\"Olive\", 25)\n",
    "Olive.greet(other_name=\"Minkyu\")"
   ]
  },
  {
   "cell_type": "code",
   "execution_count": 29,
   "id": "24b8c6d8-35e3-4d17-bf8b-96b8e59ce162",
   "metadata": {},
   "outputs": [
    {
     "name": "stdout",
     "output_type": "stream",
     "text": [
      "안녕하세요. 친구님. 제 이름은 Olive 입니다. 저는 25살입니다. \n"
     ]
    }
   ],
   "source": [
    "# 더 나아가기 2\n",
    "\n",
    "class Person():\n",
    "    def __init__(self,name,age): # self 객체 생성할 때 쓴 변수\n",
    "        self.name = name\n",
    "        self.age = age\n",
    "\n",
    "    #메서드\n",
    "    def greet(self, other_name=\"친구\"): # other_name 에 기본값 넣은 것임. \n",
    "        print(f\"안녕하세요. {other_name}님. 제 이름은 {self.name} 입니다. 저는 {self.age}살입니다. \")\n",
    "\n",
    "Olive = Person(\"Olive\", 25)\n",
    "Olive.greet() # 그러면 저 디폴트 값 덕분에 여기에 입력 안해도 에러안나고 실행됨"
   ]
  },
  {
   "cell_type": "markdown",
   "id": "e176b67a-f255-42f9-9a48-6f3d3413febb",
   "metadata": {},
   "source": [
    "## 다양한 메서드 추가"
   ]
  },
  {
   "cell_type": "code",
   "execution_count": 30,
   "id": "f707a6e1-8251-4873-a62d-5c6274a14548",
   "metadata": {},
   "outputs": [
    {
     "name": "stdout",
     "output_type": "stream",
     "text": [
      "자전거 : 시속60 킬로미터로 전진\n",
      "26,black의 특성을 가진 자전거님 정지하세요\n"
     ]
    }
   ],
   "source": [
    "class Bicycle():\n",
    "    def __init__(self,wheel_size,color):\n",
    "        self.wheel_size=wheel_size\n",
    "        self.color=color\n",
    "\n",
    "    #메서드\n",
    "    def move(self, speed):\n",
    "        print(f\"자전거 : 시속{speed} 킬로미터로 전진\")\n",
    "\n",
    "    def stop(self):\n",
    "        print(f\"{self.wheel_size},{self.color}의 특성을 가진 자전거님 정지하세요\")\n",
    "\n",
    "my_bicycle=Bicycle(26, 'black') # 객체 생성과 동시에 속성값을 가짐.\n",
    "my_bicycle.move(60)\n",
    "my_bicycle.stop()"
   ]
  },
  {
   "cell_type": "code",
   "execution_count": 31,
   "id": "f06619a3-975e-4b8a-9f0a-ada2b726bf3d",
   "metadata": {},
   "outputs": [],
   "source": [
    "# 클래스는 일종의 대상임"
   ]
  },
  {
   "cell_type": "markdown",
   "id": "749fe645-3430-422d-9646-7124e64368db",
   "metadata": {},
   "source": [
    "- 클래스 만든다고 할 때, 클래스명 특성과 행동을 정의하는 것이 핵심 포인트\n",
    "- 자전거 != 자동차: 자전거랑 자동차는 다름."
   ]
  },
  {
   "cell_type": "markdown",
   "id": "dd476fbe-52aa-4c86-b340-7b119be6a328",
   "metadata": {},
   "source": [
    "### 왜 라이브러리가 다양하게 존재하는 지\n",
    "\n",
    "- 시각화를 그리려고 함 -> 여러 클래스 필요\n",
    "  + 도면 클래스 : 다양한 속성과 함수들이 존재할 것\n",
    "  + 그리기도구 클래스 : 다양한 속성과 함수 존재\n",
    "  + 막대그래프 클래스\n",
    "  + 파이차트 클래스\n",
    "\n",
    "- 클래스는 코딩이 어려운게 아니라, 클래스를 잘 분할 하는게 어려움"
   ]
  },
  {
   "cell_type": "markdown",
   "id": "b190f14b-c874-40ac-ac46-6d3f00d5c6d9",
   "metadata": {},
   "source": [
    "## 클래스에서 사용하는 변수"
   ]
  },
  {
   "cell_type": "code",
   "execution_count": 43,
   "id": "75bc0285-0659-4604-b0c7-ff36955cc71e",
   "metadata": {},
   "outputs": [],
   "source": [
    "class Car():\n",
    "\n",
    "    # 클래스 변수\n",
    "    instance_count = 0 # 클래스 변수 생성 및 초기화\n",
    "\n",
    "    def __init__(self, size, color):\n",
    "        self.size = size # 인스턴스 변수 생성 및 초기화\n",
    "        self.color = color # 인스턴스 변수 생성 및 초기화\n",
    "        # 인스턴스 변수 업데이트\n",
    "        Car.instance_count = Car.instance_count + 1 # 클래스 변수를 이용하는 방법 (클래스. 클래스변수명)\n",
    "        # 클래스 몇 번 사용했는 지 카운트 하는 것 -> 이게 되는 건 클래스 변수를 사용 했ㄱ ㅣ때문 .\n",
    "        # 초기화가 안됨\n",
    "        # 이렇게 인스턴스 ㅐㅇ성하면 안됨\n",
    "        # 나중에 값이 중복이 되어 다른 거랑 섞일 수 있다. \n",
    "        # 클래스 변수는 지곤의 값을 이어서 받아서 업데이트가 됨. 다른 클래스와 연결 될 수 있는 포인트.\n",
    "        # 여튼 그게 문제를 일으킬 수 있으니, init 안에서 변수 생성해서 하는게 좋다. \n",
    "        print(f\"자동차 객체의 수: {Car.instance_count}\")\n",
    "\n",
    "    #메서드\n",
    "    def move(self, speed):\n",
    "        print(f\"자동차 {self.size}, {self.color}가 움직입니다.\")"
   ]
  },
  {
   "cell_type": "code",
   "execution_count": 52,
   "id": "fdd35679-35a1-4aeb-8bc6-63908f106d18",
   "metadata": {},
   "outputs": [
    {
     "name": "stdout",
     "output_type": "stream",
     "text": [
      "자동차 객체의 수: 25\n",
      "자동차 객체의 수: 26\n",
      "자동차 객체의 수: 27\n"
     ]
    }
   ],
   "source": [
    "car1 = Car('small', 'white')\n",
    "car2 = Car('big', 'black')\n",
    "car3 = Car('medium', 'yellow')"
   ]
  },
  {
   "cell_type": "markdown",
   "id": "37c16f8c-cec4-40f9-a98e-4468d6717dae",
   "metadata": {},
   "source": [
    "# 상속의 기본형태"
   ]
  },
  {
   "cell_type": "code",
   "execution_count": 53,
   "id": "5f87d930-69dd-4202-99af-e2aefd97ac7b",
   "metadata": {},
   "outputs": [],
   "source": [
    "# 기본형태\n",
    "\n",
    "class 상위클래스:\n",
    "    pass\n",
    "\n",
    "class 하위클래스(상위클래스):\n",
    "    pass\n",
    "    "
   ]
  },
  {
   "cell_type": "code",
   "execution_count": 54,
   "id": "6c227e6a-46ff-496d-b581-effcb535f1c5",
   "metadata": {},
   "outputs": [],
   "source": [
    "class 동물:\n",
    "\n",
    "    name = \"\"\n",
    "\n",
    "    def 음식먹기(self):\n",
    "        print(\"저는 음식을 먹습니다\")"
   ]
  },
  {
   "cell_type": "code",
   "execution_count": 55,
   "id": "6fecef6e-63f8-48c4-893f-34eedc3893cc",
   "metadata": {},
   "outputs": [
    {
     "name": "stdout",
     "output_type": "stream",
     "text": [
      "저는 음식을 먹습니다\n"
     ]
    }
   ],
   "source": [
    "동물1 = 동물()\n",
    "동물1.음식먹기()"
   ]
  },
  {
   "cell_type": "code",
   "execution_count": 58,
   "id": "33cb1870-0b6b-4152-a4dc-0bb1138b9426",
   "metadata": {},
   "outputs": [],
   "source": [
    "# 상속받아서 처리하기\n",
    "# 동물 클래스가 갖고있는 걸 쓰기 위해 불러옴 : 상속\n",
    "class 강아지(동물):\n",
    "\n",
    "    def 자기소개(self):\n",
    "        print(f\"내 이름은 {self.name}\")"
   ]
  },
  {
   "cell_type": "code",
   "execution_count": 61,
   "id": "9995c75c-308b-4d9a-b94f-2cf8575cd3c1",
   "metadata": {},
   "outputs": [
    {
     "name": "stdout",
     "output_type": "stream",
     "text": [
      "저는 음식을 먹습니다\n",
      "내 이름은 사과\n"
     ]
    }
   ],
   "source": [
    "강아지1 = 강아지()\n",
    "강아지1.name=\"사과\" # 여기서 name 쓸 수 있는 이유: 상위클래스 전체를 받기 때문에, 상위 클래스인 동물에 name 속성을 받아서 쓴 것\n",
    "강아지1.음식먹기()\n",
    "강아지1.자기소개()"
   ]
  },
  {
   "cell_type": "markdown",
   "id": "13468494-e4dd-4033-8df2-26d90e60a244",
   "metadata": {},
   "source": [
    "> 상속은 is-a 관계\n",
    "> - Car is a ehicle ==> 상위 클래스: vehicle, 하위 클래스: Car\n",
    "> - Apple is a Fruit ==> 상위 클래스: Apple, 하위 클래스: Fruit\n",
    "> + 문법(chatgpt로 해결 가능)보다, 이 구조를 짜는게 제일 중요"
   ]
  },
  {
   "cell_type": "markdown",
   "id": "9fc1b53d-4900-407e-be10-f3f729ea5add",
   "metadata": {},
   "source": [
    "## 다중 상속"
   ]
  },
  {
   "cell_type": "code",
   "execution_count": 62,
   "id": "099875c3-1646-461c-a8cd-c39795888f04",
   "metadata": {},
   "outputs": [],
   "source": [
    "# 문법\n",
    "\n",
    "class 상위클래스1:\n",
    "    pass\n",
    "class 상위클래스2:\n",
    "    pass\n",
    "class 하위클래스(상위클래스1, 상위클래스2):\n",
    "    pass"
   ]
  },
  {
   "cell_type": "code",
   "execution_count": 63,
   "id": "445ae7ab-39be-4dbc-a01a-536241491a63",
   "metadata": {},
   "outputs": [],
   "source": [
    "# 다중상속 예시"
   ]
  },
  {
   "cell_type": "code",
   "execution_count": 64,
   "id": "a98ac8a0-6733-4e45-b95c-59f033326914",
   "metadata": {},
   "outputs": [],
   "source": [
    "class 포유류:\n",
    "    def 포유류_정보(self):\n",
    "        print(\"포유류의 특징은 새끼를 낳는다.\")\n",
    "\n",
    "class 날개동물:\n",
    "    def 날개동물_정보(self):\n",
    "        print(\"날개를 가진 동물은 날 수 있다.\")\n",
    "\n",
    "class 박쥐(포유류, 날개동물):\n",
    "    pass"
   ]
  },
  {
   "cell_type": "code",
   "execution_count": 65,
   "id": "5c1cff3f-f980-4f5f-a4f4-5da35655bdd4",
   "metadata": {},
   "outputs": [
    {
     "name": "stdout",
     "output_type": "stream",
     "text": [
      "포유류의 특징은 새끼를 낳는다.\n",
      "날개를 가진 동물은 날 수 있다.\n"
     ]
    }
   ],
   "source": [
    "b1 = 박쥐()\n",
    "b1.포유류_정보()\n",
    "b1.날개동물_정보()"
   ]
  },
  {
   "cell_type": "markdown",
   "id": "d45e11de-a132-4b81-aa83-801d6d9160fb",
   "metadata": {},
   "source": [
    "## 클래스 설계 하다보면 부딪히는 흔한 문제\n",
    "### 문제 1 | 메서드 명이 같을 때\n",
    "- 회사에는 클래스 굉~장히 많을 것\n",
    "- 본의아니게 클래스명 같게 정의 할 때 있음\n",
    "- 상속을 하다보면 겪게 됨\n",
    "- 오버라이딩, 다형성 "
   ]
  },
  {
   "cell_type": "code",
   "execution_count": null,
   "id": "c8bbb748-92af-4902-9e22-b50192b6dbd9",
   "metadata": {},
   "outputs": [],
   "source": []
  },
  {
   "cell_type": "code",
   "execution_count": null,
   "id": "f910e26b-2626-4ea4-83f4-8c45258b3295",
   "metadata": {},
   "outputs": [],
   "source": []
  },
  {
   "cell_type": "code",
   "execution_count": null,
   "id": "8fe6165d-1ecf-415c-a61c-6b49a9175914",
   "metadata": {},
   "outputs": [],
   "source": []
  },
  {
   "cell_type": "code",
   "execution_count": null,
   "id": "ac847f15-32b3-4d2f-82d3-47a9d014e418",
   "metadata": {},
   "outputs": [],
   "source": []
  },
  {
   "cell_type": "code",
   "execution_count": null,
   "id": "1a0135c2-8c65-49d7-a61f-27a1a948f2a7",
   "metadata": {},
   "outputs": [],
   "source": []
  },
  {
   "cell_type": "code",
   "execution_count": null,
   "id": "6bedc63a-ac79-4e22-9c6c-d38beb93ea32",
   "metadata": {},
   "outputs": [],
   "source": []
  },
  {
   "cell_type": "code",
   "execution_count": null,
   "id": "b9aa7954-d043-4e6d-9948-dd1c452cf6e7",
   "metadata": {},
   "outputs": [],
   "source": []
  },
  {
   "cell_type": "code",
   "execution_count": null,
   "id": "0b0827fb-d81d-4c1e-aa37-27053c4f4ddd",
   "metadata": {},
   "outputs": [],
   "source": []
  },
  {
   "cell_type": "code",
   "execution_count": null,
   "id": "3dc8a547-8fe0-4e62-abcf-80e7e4776c7c",
   "metadata": {},
   "outputs": [],
   "source": []
  },
  {
   "cell_type": "code",
   "execution_count": null,
   "id": "5092680a-83fe-49a4-81a1-afc0762de064",
   "metadata": {},
   "outputs": [],
   "source": []
  },
  {
   "cell_type": "code",
   "execution_count": null,
   "id": "0b76b1e2-d97c-4fc7-9bb1-95bdb6cab5e2",
   "metadata": {},
   "outputs": [],
   "source": []
  },
  {
   "cell_type": "code",
   "execution_count": null,
   "id": "bf58ac0d-df45-4dab-9257-7ba748ec1056",
   "metadata": {},
   "outputs": [],
   "source": []
  },
  {
   "cell_type": "code",
   "execution_count": null,
   "id": "791229c0-e36a-4ebe-b776-3faa4ab3a610",
   "metadata": {},
   "outputs": [],
   "source": []
  },
  {
   "cell_type": "code",
   "execution_count": null,
   "id": "df91fff0-1d47-41ab-adb6-71755e880825",
   "metadata": {},
   "outputs": [],
   "source": []
  },
  {
   "cell_type": "code",
   "execution_count": null,
   "id": "3edb4746-c0b2-45b8-a54f-e02c04db02b8",
   "metadata": {},
   "outputs": [],
   "source": []
  },
  {
   "cell_type": "code",
   "execution_count": null,
   "id": "b14ccc25-f8cb-471b-838d-73793d817e76",
   "metadata": {},
   "outputs": [],
   "source": []
  },
  {
   "cell_type": "code",
   "execution_count": null,
   "id": "096124a5-2e1d-4bdf-88be-fc2822049fbf",
   "metadata": {},
   "outputs": [],
   "source": []
  },
  {
   "cell_type": "code",
   "execution_count": null,
   "id": "274aa10d-e70c-49af-b90a-60f3d9526aa6",
   "metadata": {},
   "outputs": [],
   "source": []
  }
 ],
 "metadata": {
  "kernelspec": {
   "display_name": "Python 3 (ipykernel)",
   "language": "python",
   "name": "python3"
  },
  "language_info": {
   "codemirror_mode": {
    "name": "ipython",
    "version": 3
   },
   "file_extension": ".py",
   "mimetype": "text/x-python",
   "name": "python",
   "nbconvert_exporter": "python",
   "pygments_lexer": "ipython3",
   "version": "3.12.6"
  }
 },
 "nbformat": 4,
 "nbformat_minor": 5
}
