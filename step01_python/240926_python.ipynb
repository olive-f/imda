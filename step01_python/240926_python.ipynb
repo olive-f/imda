{
 "cells": [
  {
   "cell_type": "code",
   "execution_count": 1,
   "id": "ed3185df-dcd0-4878-94f2-8d793acdadf0",
   "metadata": {},
   "outputs": [
    {
     "name": "stdout",
     "output_type": "stream",
     "text": [
      "Note: you may need to restart the kernel to use updated packages.\n"
     ]
    },
    {
     "name": "stderr",
     "output_type": "stream",
     "text": [
      "ERROR: Could not open requirements file: [Errno 2] No such file or directory: 'requirements.txt'\n"
     ]
    }
   ],
   "source": [
    "pip install -r requirements.txt"
   ]
  },
  {
   "cell_type": "code",
   "execution_count": 2,
   "id": "6c579b58-c87d-47b7-899d-76ef7aefa82d",
   "metadata": {},
   "outputs": [],
   "source": [
    "import pandas as pd\n",
    "import numpy as np"
   ]
  },
  {
   "cell_type": "markdown",
   "id": "18fcc02f-ae48-4bc7-9038-3ccd3cfbedac",
   "metadata": {},
   "source": [
    "# 클래스 선언"
   ]
  },
  {
   "cell_type": "code",
   "execution_count": 3,
   "id": "a7377673-c524-403f-a1aa-16e6f5d082cc",
   "metadata": {},
   "outputs": [],
   "source": [
    "class Bicycle():\n",
    "    pass # 클래스 선언 기초 도입. "
   ]
  },
  {
   "cell_type": "code",
   "execution_count": 4,
   "id": "05c6fb63-3e20-4155-a3fe-86da89a49c62",
   "metadata": {},
   "outputs": [],
   "source": [
    "# 클래스 선언 했으니, 객체 생성 해야함"
   ]
  },
  {
   "cell_type": "markdown",
   "id": "ea9dbaea-1142-4342-8744-c95202e28132",
   "metadata": {},
   "source": [
    "## 객체 생성"
   ]
  },
  {
   "cell_type": "code",
   "execution_count": 5,
   "id": "92b79846-cf47-403e-aebf-b9ef678b2fa7",
   "metadata": {},
   "outputs": [
    {
     "data": {
      "text/plain": [
       "<__main__.Bicycle at 0x189ad611940>"
      ]
     },
     "execution_count": 5,
     "metadata": {},
     "output_type": "execute_result"
    }
   ],
   "source": [
    "my_bicycle= Bicycle() #객체 생성 된 것\n",
    "my_bicycle"
   ]
  },
  {
   "cell_type": "markdown",
   "id": "a40b6f65-92cd-4aec-b342-622b38a7b17a",
   "metadata": {},
   "source": [
    "## 클래스 변수 정의"
   ]
  },
  {
   "cell_type": "code",
   "execution_count": 7,
   "id": "d6b05232-c840-4373-a5a6-dafb1ca38ae5",
   "metadata": {},
   "outputs": [],
   "source": [
    "# 클래스 변수 정의해보자\n",
    "my_bicycle.wheel_size=26\n",
    "my_bicycle.color = 'black'"
   ]
  },
  {
   "cell_type": "code",
   "execution_count": 8,
   "id": "bc570e7d-1fad-4d71-a76f-1d1c89cd96d5",
   "metadata": {},
   "outputs": [
    {
     "name": "stdout",
     "output_type": "stream",
     "text": [
      "26\n"
     ]
    }
   ],
   "source": [
    "print(my_bicycle.wheel_size)"
   ]
  },
  {
   "cell_type": "code",
   "execution_count": 10,
   "id": "5f291b04-b1f4-49f7-994d-ee7a8c6f0c34",
   "metadata": {},
   "outputs": [],
   "source": [
    "# 이렇게 하진 않는다. 좋지 않은 코드"
   ]
  },
  {
   "cell_type": "code",
   "execution_count": 11,
   "id": "ebd938a0-0637-445e-8d20-6805af02009a",
   "metadata": {},
   "outputs": [
    {
     "name": "stdout",
     "output_type": "stream",
     "text": [
      "책 01호\n",
      "title Streamlit author Evan pages 560 price 40000 discount 10\n",
      "책 02호\n",
      "title pandas author 성신 pages 400 price 30000 discount 20\n"
     ]
    }
   ],
   "source": [
    "class 책:\n",
    "    title = None\n",
    "    author = None\n",
    "    pages = 0\n",
    "    price = 0\n",
    "    discount = 0\n",
    "\n",
    "책01호 = 책()\n",
    "책01호.title = \"Streamlit\"\n",
    "책01호.author = \"Evan\"\n",
    "책01호.pages = 560\n",
    "책01호.price = 40000\n",
    "책01호.discount = 10\n",
    "\n",
    "print('책 01호')\n",
    "print('title', 책01호.title, 'author', 책01호.author, 'pages', 책01호.pages, 'price', 책01호.price, 'discount', 책01호.discount)\n",
    "\n",
    "책02호 = 책()\n",
    "책02호.title = \"pandas\"\n",
    "책02호.author = \"성신\"\n",
    "책02호.pages = 400\n",
    "책02호.price = 30000\n",
    "책02호.discount = 20\n",
    "#이 처럼 두개의 인스턴스만 생성해도 귀찮아 짐을 알 수 있음\n",
    "\n",
    "print('책 02호')\n",
    "print('title', 책02호.title, 'author', 책02호.author, 'pages', 책02호.pages, 'price', 책02호.price, 'discount', 책02호.discount)\n"
   ]
  },
  {
   "cell_type": "markdown",
   "id": "d503f4a8-6772-4f90-bdbe-27b0688726cb",
   "metadata": {},
   "source": [
    "- 위의 방버은 활용도가 떨어짐\n",
    "- 그래서 init 함수 사용해서 클래스 만듦"
   ]
  },
  {
   "cell_type": "markdown",
   "id": "2027b4de-3e98-4e98-a23a-92e2aee8f5a7",
   "metadata": {},
   "source": [
    "## init 함수 활용"
   ]
  },
  {
   "cell_type": "code",
   "execution_count": 12,
   "id": "e2360677-af0d-40d6-8ce0-35327669438f",
   "metadata": {},
   "outputs": [
    {
     "name": "stdout",
     "output_type": "stream",
     "text": [
      "26 black\n"
     ]
    }
   ],
   "source": [
    "class Bicycle():\n",
    "    def __init__(self,wheel_size,color):\n",
    "        self.wheel_size=wheel_size\n",
    "        self.color=color\n",
    "\n",
    "my_bicycle=Bicycle(26, 'black') # 객체 생성과 동시에 속성값을 가짐.ㅅ\n",
    "print(my_bicycle.wheel_size,my_bicycle.color)"
   ]
  },
  {
   "cell_type": "code",
   "execution_count": 13,
   "id": "4710a841-ccd8-444c-8fca-227a773fd365",
   "metadata": {},
   "outputs": [
    {
     "name": "stdout",
     "output_type": "stream",
     "text": [
      "26 black\n",
      "자전거 : 시속60 킬로미터로 전진\n"
     ]
    }
   ],
   "source": [
    "class Bicycle():\n",
    "    def __init__(self,wheel_size,color):\n",
    "        self.wheel_size=wheel_size\n",
    "        self.color=color\n",
    "\n",
    "    #메서드\n",
    "    def move(self, speed): # self가 들어가는 이유: self=자신, 여기서 자신은 my_bicycle 인스턴스를 의미한다. \n",
    "        print(f\"자전거 : 시속{speed} 킬로미터로 전진\")\n",
    "\n",
    "\n",
    "my_bicycle=Bicycle(26, 'black') # 객체 생성과 동시에 속성값을 가짐.\n",
    "print(my_bicycle.wheel_size,my_bicycle.color)\n",
    "\n",
    "my_bicycle.move(60)"
   ]
  },
  {
   "cell_type": "markdown",
   "id": "dfca4e23-3c40-41dc-b788-a4af04f65b2a",
   "metadata": {},
   "source": [
    "## 문제 \n",
    "- Person 클래스 만드세요.\n",
    "- 속성 : 이름(name), 나이(age)\n",
    "- greet() 메서드\n",
    "- "
   ]
  },
  {
   "cell_type": "code",
   "execution_count": 14,
   "id": "2888434d-d5a1-414a-8445-c0998b4ce1f4",
   "metadata": {},
   "outputs": [
    {
     "name": "stdout",
     "output_type": "stream",
     "text": [
      "Olive 25\n"
     ]
    }
   ],
   "source": [
    "class Person():\n",
    "    def __init__(self,name,age):\n",
    "        self.name=name\n",
    "        self.age=age\n",
    "\n",
    "    #메서드\n",
    "    #def greet(self, speed):\n",
    "     #   print(f\"자전거 : 시속{speed} 킬로미터로 전진\")\n",
    "\n",
    "\n",
    "profile=Person('Olive', 25) # 객체 생성과 동시에 속성값을 가짐.\n",
    "print(profile.name, profile.age)\n",
    "\n",
    "#my_bicycle.move(60)"
   ]
  },
  {
   "cell_type": "code",
   "execution_count": 15,
   "id": "9924c44a-8001-456d-b275-64104557114f",
   "metadata": {},
   "outputs": [
    {
     "ename": "AttributeError",
     "evalue": "'Person' object has no attribute 'greet'",
     "output_type": "error",
     "traceback": [
      "\u001b[1;31m---------------------------------------------------------------------------\u001b[0m",
      "\u001b[1;31mAttributeError\u001b[0m                            Traceback (most recent call last)",
      "Cell \u001b[1;32mIn[15], line 13\u001b[0m\n\u001b[0;32m      8\u001b[0m         \u001b[38;5;28mprint\u001b[39m(\u001b[38;5;124mf\u001b[39m\u001b[38;5;124m\"\u001b[39m\u001b[38;5;124m안녕하세요. 제 이름은 \u001b[39m\u001b[38;5;132;01m{\u001b[39;00mname\u001b[38;5;132;01m}\u001b[39;00m\u001b[38;5;124m 입니다. 저는 \u001b[39m\u001b[38;5;132;01m{\u001b[39;00mage\u001b[38;5;132;01m}\u001b[39;00m\u001b[38;5;124m살입니다. \u001b[39m\u001b[38;5;132;01m{\u001b[39;00mhi\u001b[38;5;132;01m}\u001b[39;00m\u001b[38;5;124m \u001b[39m\u001b[38;5;124m\"\u001b[39m)\n\u001b[0;32m     11\u001b[0m \u001b[38;5;66;03m#profile=Person('Olive', 25) # 객체 생성과 동시에 속성값을 가짐.\u001b[39;00m\n\u001b[0;32m     12\u001b[0m \u001b[38;5;66;03m#print(profile.name, profile.age)\u001b[39;00m\n\u001b[1;32m---> 13\u001b[0m \u001b[43mprofile\u001b[49m\u001b[38;5;241;43m.\u001b[39;49m\u001b[43mgreet\u001b[49m(\u001b[38;5;241m12\u001b[39m)\n",
      "\u001b[1;31mAttributeError\u001b[0m: 'Person' object has no attribute 'greet'"
     ]
    }
   ],
   "source": [
    "class Person():\n",
    "    def __init__(self,name,age):\n",
    "        self.name = name\n",
    "        self.age = age\n",
    "\n",
    "    #메서드\n",
    "    def greet(self, hi):\n",
    "        print(f\"안녕하세요. 제 이름은 {name} 입니다. 저는 {age}살입니다. {hi} \")\n",
    "\n",
    "\n",
    "#profile=Person('Olive', 25) # 객체 생성과 동시에 속성값을 가짐.\n",
    "#print(profile.name, profile.age)\n",
    "profile.greet(12)"
   ]
  },
  {
   "cell_type": "code",
   "execution_count": 16,
   "id": "df49f633-39af-4796-9113-454fc144c73e",
   "metadata": {},
   "outputs": [],
   "source": [
    "# 모징?"
   ]
  },
  {
   "cell_type": "code",
   "execution_count": 23,
   "id": "281d88ce-1972-45da-8156-976f5e19eddc",
   "metadata": {},
   "outputs": [
    {
     "name": "stdout",
     "output_type": "stream",
     "text": [
      "안녕하세요. 제 이름은 Olive 입니다. 저는 25살입니다. \n"
     ]
    }
   ],
   "source": [
    "# 수정\n",
    "class Person():\n",
    "    def __init__(self,name,age):\n",
    "        self.name = name # 이름 속성\n",
    "        self.age = age # 나이속성\n",
    "\n",
    "    #메서드\n",
    "    def greet(self): # greet에 인수 안줬을 땐, 그냥 self만 쓰라는 것임\n",
    "        print(f\"안녕하세요. 제 이름은 {self.name} 입니다. 저는 {self.age}살입니다. \")\n",
    "\n",
    "Olive = Person(\"Olive\", 25)\n",
    "Olive.greet()"
   ]
  },
  {
   "cell_type": "code",
   "execution_count": 24,
   "id": "265ed1fa-a51a-4e08-8fd5-9ed6e8cccb1b",
   "metadata": {},
   "outputs": [
    {
     "name": "stdout",
     "output_type": "stream",
     "text": [
      "안녕하세요. 제 이름은 Minkyu 입니다. 저는 25살입니다. \n"
     ]
    }
   ],
   "source": [
    "Minkyu = Person(\"Minkyu\", 25)\n",
    "Minkyu.greet()"
   ]
  },
  {
   "cell_type": "code",
   "execution_count": 27,
   "id": "10b46cb5-c310-4783-a1b3-8eef4c07204c",
   "metadata": {},
   "outputs": [
    {
     "name": "stdout",
     "output_type": "stream",
     "text": [
      "안녕하세요. Minkyu님. 제 이름은 Olive 입니다. 저는 25살입니다. \n"
     ]
    }
   ],
   "source": [
    "# 더 나아가기\n",
    "\n",
    "class Person():\n",
    "    def __init__(self,name,age): # self 객체 생성할 때 쓴 변수\n",
    "        self.name = name\n",
    "        self.age = age\n",
    "\n",
    "    #메서드\n",
    "    def greet(self, other_name): # other_name 은 greet 에서만 쓰는 매개변수니까 앞에 self. 안들어감\n",
    "        print(f\"안녕하세요. {other_name}님. 제 이름은 {self.name} 입니다. 저는 {self.age}살입니다. \")\n",
    "\n",
    "Olive = Person(\"Olive\", 25)\n",
    "Olive.greet(other_name=\"Minkyu\")"
   ]
  },
  {
   "cell_type": "code",
   "execution_count": 29,
   "id": "24b8c6d8-35e3-4d17-bf8b-96b8e59ce162",
   "metadata": {},
   "outputs": [
    {
     "name": "stdout",
     "output_type": "stream",
     "text": [
      "안녕하세요. 친구님. 제 이름은 Olive 입니다. 저는 25살입니다. \n"
     ]
    }
   ],
   "source": [
    "# 더 나아가기 2\n",
    "\n",
    "class Person():\n",
    "    def __init__(self,name,age): # self 객체 생성할 때 쓴 변수\n",
    "        self.name = name\n",
    "        self.age = age\n",
    "\n",
    "    #메서드\n",
    "    def greet(self, other_name=\"친구\"): # other_name 에 기본값 넣은 것임. \n",
    "        print(f\"안녕하세요. {other_name}님. 제 이름은 {self.name} 입니다. 저는 {self.age}살입니다. \")\n",
    "\n",
    "Olive = Person(\"Olive\", 25)\n",
    "Olive.greet() # 그러면 저 디폴트 값 덕분에 여기에 입력 안해도 에러안나고 실행됨"
   ]
  },
  {
   "cell_type": "markdown",
   "id": "e176b67a-f255-42f9-9a48-6f3d3413febb",
   "metadata": {},
   "source": [
    "## 다양한 메서드 추가"
   ]
  },
  {
   "cell_type": "code",
   "execution_count": 30,
   "id": "f707a6e1-8251-4873-a62d-5c6274a14548",
   "metadata": {},
   "outputs": [
    {
     "name": "stdout",
     "output_type": "stream",
     "text": [
      "자전거 : 시속60 킬로미터로 전진\n",
      "26,black의 특성을 가진 자전거님 정지하세요\n"
     ]
    }
   ],
   "source": [
    "class Bicycle():\n",
    "    def __init__(self,wheel_size,color):\n",
    "        self.wheel_size=wheel_size\n",
    "        self.color=color\n",
    "\n",
    "    #메서드\n",
    "    def move(self, speed):\n",
    "        print(f\"자전거 : 시속{speed} 킬로미터로 전진\")\n",
    "\n",
    "    def stop(self):\n",
    "        print(f\"{self.wheel_size},{self.color}의 특성을 가진 자전거님 정지하세요\")\n",
    "\n",
    "my_bicycle=Bicycle(26, 'black') # 객체 생성과 동시에 속성값을 가짐.\n",
    "my_bicycle.move(60)\n",
    "my_bicycle.stop()"
   ]
  },
  {
   "cell_type": "code",
   "execution_count": 31,
   "id": "f06619a3-975e-4b8a-9f0a-ada2b726bf3d",
   "metadata": {},
   "outputs": [],
   "source": [
    "# 클래스는 일종의 대상임"
   ]
  },
  {
   "cell_type": "markdown",
   "id": "749fe645-3430-422d-9646-7124e64368db",
   "metadata": {},
   "source": [
    "- 클래스 만든다고 할 때, 클래스명 특성과 행동을 정의하는 것이 핵심 포인트\n",
    "- 자전거 != 자동차: 자전거랑 자동차는 다름."
   ]
  },
  {
   "cell_type": "markdown",
   "id": "dd476fbe-52aa-4c86-b340-7b119be6a328",
   "metadata": {},
   "source": [
    "### 왜 라이브러리가 다양하게 존재하는 지\n",
    "\n",
    "- 시각화를 그리려고 함 -> 여러 클래스 필요\n",
    "  + 도면 클래스 : 다양한 속성과 함수들이 존재할 것\n",
    "  + 그리기도구 클래스 : 다양한 속성과 함수 존재\n",
    "  + 막대그래프 클래스\n",
    "  + 파이차트 클래스\n",
    "\n",
    "- 클래스는 코딩이 어려운게 아니라, 클래스를 잘 분할 하는게 어려움"
   ]
  },
  {
   "cell_type": "markdown",
   "id": "b190f14b-c874-40ac-ac46-6d3f00d5c6d9",
   "metadata": {},
   "source": [
    "## 클래스에서 사용하는 변수"
   ]
  },
  {
   "cell_type": "code",
   "execution_count": 43,
   "id": "75bc0285-0659-4604-b0c7-ff36955cc71e",
   "metadata": {},
   "outputs": [],
   "source": [
    "class Car():\n",
    "\n",
    "    # 클래스 변수\n",
    "    instance_count = 0 # 클래스 변수 생성 및 초기화\n",
    "\n",
    "    def __init__(self, size, color):\n",
    "        self.size = size # 인스턴스 변수 생성 및 초기화\n",
    "        self.color = color # 인스턴스 변수 생성 및 초기화\n",
    "        # 인스턴스 변수 업데이트\n",
    "        Car.instance_count = Car.instance_count + 1 # 클래스 변수를 이용하는 방법 (클래스. 클래스변수명)\n",
    "        # 클래스 몇 번 사용했는 지 카운트 하는 것 -> 이게 되는 건 클래스 변수를 사용 했ㄱ ㅣ때문 .\n",
    "        # 초기화가 안됨\n",
    "        # 이렇게 인스턴스 ㅐㅇ성하면 안됨\n",
    "        # 나중에 값이 중복이 되어 다른 거랑 섞일 수 있다. \n",
    "        # 클래스 변수는 지곤의 값을 이어서 받아서 업데이트가 됨. 다른 클래스와 연결 될 수 있는 포인트.\n",
    "        # 여튼 그게 문제를 일으킬 수 있으니, init 안에서 변수 생성해서 하는게 좋다. \n",
    "        print(f\"자동차 객체의 수: {Car.instance_count}\")\n",
    "\n",
    "    #메서드\n",
    "    def move(self, speed):\n",
    "        print(f\"자동차 {self.size}, {self.color}가 움직입니다.\")"
   ]
  },
  {
   "cell_type": "code",
   "execution_count": 52,
   "id": "fdd35679-35a1-4aeb-8bc6-63908f106d18",
   "metadata": {},
   "outputs": [
    {
     "name": "stdout",
     "output_type": "stream",
     "text": [
      "자동차 객체의 수: 25\n",
      "자동차 객체의 수: 26\n",
      "자동차 객체의 수: 27\n"
     ]
    }
   ],
   "source": [
    "car1 = Car('small', 'white')\n",
    "car2 = Car('big', 'black')\n",
    "car3 = Car('medium', 'yellow')"
   ]
  },
  {
   "cell_type": "markdown",
   "id": "37c16f8c-cec4-40f9-a98e-4468d6717dae",
   "metadata": {},
   "source": [
    "# 상속의 기본형태"
   ]
  },
  {
   "cell_type": "code",
   "execution_count": 53,
   "id": "5f87d930-69dd-4202-99af-e2aefd97ac7b",
   "metadata": {},
   "outputs": [],
   "source": [
    "# 기본형태\n",
    "\n",
    "class 상위클래스:\n",
    "    pass\n",
    "\n",
    "class 하위클래스(상위클래스):\n",
    "    pass\n",
    "    "
   ]
  },
  {
   "cell_type": "code",
   "execution_count": 54,
   "id": "6c227e6a-46ff-496d-b581-effcb535f1c5",
   "metadata": {},
   "outputs": [],
   "source": [
    "class 동물:\n",
    "\n",
    "    name = \"\"\n",
    "\n",
    "    def 음식먹기(self):\n",
    "        print(\"저는 음식을 먹습니다\")"
   ]
  },
  {
   "cell_type": "code",
   "execution_count": 55,
   "id": "6fecef6e-63f8-48c4-893f-34eedc3893cc",
   "metadata": {},
   "outputs": [
    {
     "name": "stdout",
     "output_type": "stream",
     "text": [
      "저는 음식을 먹습니다\n"
     ]
    }
   ],
   "source": [
    "동물1 = 동물()\n",
    "동물1.음식먹기()"
   ]
  },
  {
   "cell_type": "code",
   "execution_count": 58,
   "id": "33cb1870-0b6b-4152-a4dc-0bb1138b9426",
   "metadata": {},
   "outputs": [],
   "source": [
    "# 상속받아서 처리하기\n",
    "# 동물 클래스가 갖고있는 걸 쓰기 위해 불러옴 : 상속\n",
    "class 강아지(동물):\n",
    "\n",
    "    def 자기소개(self):\n",
    "        print(f\"내 이름은 {self.name}\")"
   ]
  },
  {
   "cell_type": "code",
   "execution_count": 61,
   "id": "9995c75c-308b-4d9a-b94f-2cf8575cd3c1",
   "metadata": {},
   "outputs": [
    {
     "name": "stdout",
     "output_type": "stream",
     "text": [
      "저는 음식을 먹습니다\n",
      "내 이름은 사과\n"
     ]
    }
   ],
   "source": [
    "강아지1 = 강아지()\n",
    "강아지1.name=\"사과\" # 여기서 name 쓸 수 있는 이유: 상위클래스 전체를 받기 때문에, 상위 클래스인 동물에 name 속성을 받아서 쓴 것\n",
    "강아지1.음식먹기()\n",
    "강아지1.자기소개()"
   ]
  },
  {
   "cell_type": "markdown",
   "id": "13468494-e4dd-4033-8df2-26d90e60a244",
   "metadata": {},
   "source": [
    "> 상속은 is-a 관계\n",
    "> - Car is a ehicle ==> 상위 클래스: vehicle, 하위 클래스: Car\n",
    "> - Apple is a Fruit ==> 상위 클래스: Apple, 하위 클래스: Fruit\n",
    "> + 문법(chatgpt로 해결 가능)보다, 이 구조를 짜는게 제일 중요"
   ]
  },
  {
   "cell_type": "markdown",
   "id": "9fc1b53d-4900-407e-be10-f3f729ea5add",
   "metadata": {},
   "source": [
    "## 다중 상속"
   ]
  },
  {
   "cell_type": "code",
   "execution_count": 62,
   "id": "099875c3-1646-461c-a8cd-c39795888f04",
   "metadata": {},
   "outputs": [],
   "source": [
    "# 문법\n",
    "\n",
    "class 상위클래스1:\n",
    "    pass\n",
    "class 상위클래스2:\n",
    "    pass\n",
    "class 하위클래스(상위클래스1, 상위클래스2):\n",
    "    pass"
   ]
  },
  {
   "cell_type": "code",
   "execution_count": 63,
   "id": "445ae7ab-39be-4dbc-a01a-536241491a63",
   "metadata": {},
   "outputs": [],
   "source": [
    "# 다중상속 예시"
   ]
  },
  {
   "cell_type": "code",
   "execution_count": 64,
   "id": "a98ac8a0-6733-4e45-b95c-59f033326914",
   "metadata": {},
   "outputs": [],
   "source": [
    "class 포유류:\n",
    "    def 포유류_정보(self):\n",
    "        print(\"포유류의 특징은 새끼를 낳는다.\")\n",
    "\n",
    "class 날개동물:\n",
    "    def 날개동물_정보(self):\n",
    "        print(\"날개를 가진 동물은 날 수 있다.\")\n",
    "\n",
    "class 박쥐(포유류, 날개동물):\n",
    "    pass"
   ]
  },
  {
   "cell_type": "code",
   "execution_count": 65,
   "id": "5c1cff3f-f980-4f5f-a4f4-5da35655bdd4",
   "metadata": {},
   "outputs": [
    {
     "name": "stdout",
     "output_type": "stream",
     "text": [
      "포유류의 특징은 새끼를 낳는다.\n",
      "날개를 가진 동물은 날 수 있다.\n"
     ]
    }
   ],
   "source": [
    "b1 = 박쥐()\n",
    "b1.포유류_정보()\n",
    "b1.날개동물_정보()"
   ]
  },
  {
   "cell_type": "markdown",
   "id": "d45e11de-a132-4b81-aa83-801d6d9160fb",
   "metadata": {},
   "source": [
    "## 클래스 설계 하다보면 부딪히는 흔한 문제\n",
    "### 문제 1 | 메서드 명이 같을 때\n",
    "- 회사에는 클래스 굉~장히 많을 것\n",
    "- 본의아니게 클래스명 같게 정의 할 때 있음\n",
    "- 상속을 하다보면 겪게 됨\n",
    "- 오버라이딩, 다형성 "
   ]
  },
  {
   "cell_type": "markdown",
   "id": "2014c7b2-cc94-4ccb-8f34-354e70dbd050",
   "metadata": {},
   "source": [
    "## 연습문제 1\n",
    "\n",
    "\"\"\"\n",
    "- Car 클래스를 만들어보겠습니다. \n",
    "- Car 클래스는 `__init__`, `get_description`, `read_kilometer`, `update_kilometer`, `increment_kilometer`라는 메서드를 갖습니다.\n",
    "    + `__init__` 메서드는 클래스의 생성자로, 객체가 생성될 때 호출됩니다.\n",
    "- 속성 사용하기\n",
    "    + `self.make`, `self.model`, `self.year`, `self.kilometer_reading` 클래스의 속성입니다.\n",
    "    + 객체가 생성될 때 속성값이 초기화됩니다.\n",
    "\n",
    "- self의 의미\n",
    "    + self는 클래스의 인스턴스를 참조합니다. 클래스 내의 메서드가 객체의 속성에 접근하거나 다른 메서드를 호출할 때 사용합니다.\n",
    "    + self를 통해 클래스 내의 속성 및 메서드를 정의하고 접근할 수 있습니다.\n",
    "\n",
    "- 클래스의 위치 인수, 키워드 인수\n",
    "    + `__init__` 메서드의 make, model, year는 위치 인수로 전달됩니다.\n",
    "    + 메서드를 호출할 때 my_car.update_kilometer(kilometers=500)처럼 키워드 인수로 사용할 수도 있습니다."
   ]
  },
  {
   "cell_type": "code",
   "execution_count": 94,
   "id": "1c4e5564-616a-4ae2-b6db-88891e973e53",
   "metadata": {},
   "outputs": [],
   "source": [
    "class Car():\n",
    "\n",
    "    # __init__ 메서드: 객체가 생성될 때 호출됨, 속성을 초기화 함\n",
    "    def __init__(self, make, model, year):\n",
    "        self.make = make    # 자동차 제조사\n",
    "        self.model = model  # 자동차 모델\n",
    "        self.year = year    # 제조 연도\n",
    "        self.kilometer_reading = 0  # 주행거리 (초기값 0) -> 인스턴스 생기면 0 부여.. init에 넣으면 안된다. 주행거리 조작 되면 안되기 때문.\n",
    "    \n",
    "    # 자동차의 전체 설명 반환하는 메서드    \n",
    "    def get_description(self):\n",
    "        print(f\"차 : 이 차는 {self.make}에서 나온 {self.model} 모델 입니다. {self.year}년에 생산되었습니다.\")\n",
    "\n",
    "    # 현재 주행 거리 출력하는 메서드\n",
    "    def read_kilometer(self):\n",
    "        print(f\"총 {self.kilometer_reading}km 주행했습니다.\")   \n",
    "    \n",
    "    # 주행거리 업데이트\n",
    "    # 새로운 값이 기존 값보다 클 경우에만 업데이트\n",
    "    def update_kilometer(self):\n",
    "        # if 조건문 사용예정\n",
    "        pass\n",
    "\n",
    "    #주행거리 증가시기기\n",
    "    def increment_kilometer(self):\n",
    "        # 주행거리 음수 나오면 안되니까 if 조건문 사용 예정\n",
    "        pass"
   ]
  },
  {
   "cell_type": "code",
   "execution_count": 93,
   "id": "1a772641-2c50-463b-81ce-66c5d2039093",
   "metadata": {},
   "outputs": [
    {
     "name": "stdout",
     "output_type": "stream",
     "text": [
      "차 : 이 차는 현대에서 나온 ABC 모델 입니다. 3년에 생산되었습니다.\n",
      "총 0km 주행했습니다.\n"
     ]
    }
   ],
   "source": [
    "my_car=Car('현대','ABC',3,400)\n",
    "my_car.get_description()\n",
    "my_car.read_kilometer()\n",
    "my_car.update_kilometer()\n",
    "my_car.increment_kilometer()"
   ]
  },
  {
   "cell_type": "code",
   "execution_count": 104,
   "id": "e0e59e63-48d4-4f50-92d9-5d0e02f9ca8a",
   "metadata": {},
   "outputs": [],
   "source": [
    "# 수정\n",
    "class Car():\n",
    "\n",
    "    # __init__ 메서드: 객체가 생성될 때 호출됨, 속성을 초기화 함\n",
    "    def __init__(self, make, model, year):\n",
    "        self.make = make    # 자동차 제조사\n",
    "        self.model = model  # 자동차 모델\n",
    "        self.year = year    # 제조 연도\n",
    "        self.kilometer_reading = 0  # 주행거리 (초기값 0) -> 인스턴스 생기면 0 부여.. init에 넣으면 안된다. 주행거리 조작 되면 안되기 때문.\n",
    "    \n",
    "    # 자동차의 전체 설명 반환하는 메서드    \n",
    "    def get_description(self):\n",
    "        return f\"{self.year} {self.make} {self.model}\" # 하나의 문자열을 출력하는 return을 반환한 것\n",
    "\n",
    "    # 현재 주행 거리 출력하는 메서드\n",
    "    def read_kilometer(self):\n",
    "        print(f\"현재 주행거리는 {self.kilometer_reading} km 입니다.\")   \n",
    "    \n",
    "    # 주행거리 업데이트\n",
    "    # 새로운 값이 기존 값보다 클 경우에만 업데이트\n",
    "    def update_kilometer(self,kilometers):\n",
    "        # if 조건문 사용\n",
    "        if kilometers >= self.kilometer_reading:\n",
    "            self.kilometer_reading = kilometers\n",
    "            print(f\"업데이트 확인 : {self.kilometer_reading}km\")\n",
    "        else:\n",
    "            print(f\"현재 : {self.kilometer_reading}, 다시 입력해주세요\" )\n",
    "\n",
    "    #주행거리 증가시기기\n",
    "    def increment_kilometer(self, kilometers):\n",
    "        # 주행거리 음수 나오면 안되니까 if 조건문 사용 예정\n",
    "        if kilometers > 0:\n",
    "            self.kilometer_reading += kilometers\n",
    "        else: \n",
    "            print(f\"양수로다시 입력해주세요\")"
   ]
  },
  {
   "cell_type": "code",
   "execution_count": 106,
   "id": "37879193-ffcc-4045-b395-79965359ddc5",
   "metadata": {},
   "outputs": [
    {
     "name": "stdout",
     "output_type": "stream",
     "text": [
      "2024 현대 ABC\n",
      "현재 주행거리는 0 km 입니다.\n",
      "업데이트 확인 : 100km\n"
     ]
    }
   ],
   "source": [
    "# 클래스 실행\n",
    "my_car=Car('현대','ABC',2024)\n",
    "description = my_car.get_description()\n",
    "print(description)\n",
    "my_car.read_kilometer()\n",
    "my_car.update_kilometer(100)\n",
    "my_car.increment_kilometer(100)"
   ]
  },
  {
   "cell_type": "markdown",
   "id": "0aea3bf3-d49b-45f1-bf4e-a03f7dd792a0",
   "metadata": {},
   "source": [
    "### 공식문서 만들기 by using chat GPT\n",
    "- 챗지피티에게 docstring, type hint 달라고 하고\n",
    "- 그래서 나온 걸 여기다 복붙해서\n",
    "- .__doc__ , help() 쓰면 설명서만 나옴"
   ]
  },
  {
   "cell_type": "code",
   "execution_count": 108,
   "id": "a0798d81-e1e2-4065-b862-7087ff1d8fa7",
   "metadata": {},
   "outputs": [],
   "source": [
    "# cotwlvlxl\n",
    "class Car:\n",
    "    \"\"\"\n",
    "    자동차 클래스를 나타냅니다. 객체가 생성될 때 제조사, 모델, 연도를 초기화하고\n",
    "    주행 거리는 0으로 설정됩니다.\n",
    "    \"\"\"\n",
    "    \n",
    "    def __init__(self, make: str, model: str, year: int):\n",
    "        \"\"\"\n",
    "        Car 클래스의 생성자. 자동차의 제조사, 모델, 연도를 초기화합니다.\n",
    "        주행거리는 초기값으로 0이 설정됩니다.\n",
    "        \n",
    "        Args:\n",
    "            make (str): 자동차 제조사\n",
    "            model (str): 자동차 모델\n",
    "            year (int): 제조 연도\n",
    "        \"\"\"\n",
    "        self.make = make\n",
    "        self.model = model\n",
    "        self.year = year\n",
    "        self.kilometer_reading = 0  # 주행거리 초기값은 0입니다.\n",
    "\n",
    "    def get_description(self) -> str:\n",
    "        \"\"\"\n",
    "        자동차의 전체 설명을 반환합니다.\n",
    "\n",
    "        Returns:\n",
    "            str: 자동차의 연도, 제조사, 모델을 포함한 설명\n",
    "        \"\"\"\n",
    "        return f\"{self.year} {self.make} {self.model}\"\n",
    "\n",
    "    def read_kilometer(self) -> None:\n",
    "        \"\"\"\n",
    "        현재 주행거리를 출력합니다.\n",
    "        \"\"\"\n",
    "        print(f\"현재 주행거리는 {self.kilometer_reading} km 입니다.\")\n",
    "\n",
    "    def update_kilometer(self, kilometers: int) -> None:\n",
    "        \"\"\"\n",
    "        주행거리를 업데이트합니다. 새로운 주행거리가 기존 주행거리보다 클 경우에만 업데이트합니다.\n",
    "\n",
    "        Args:\n",
    "            kilometers (int): 새로운 주행거리\n",
    "        \"\"\"\n",
    "        if kilometers >= self.kilometer_reading:\n",
    "            self.kilometer_reading = kilometers\n",
    "            print(f\"업데이트 확인 : {self.kilometer_reading}km\")\n",
    "        else:\n",
    "            print(f\"현재 : {self.kilometer_reading}, 다시 입력해주세요\")\n",
    "\n",
    "    def increment_kilometer(self, kilometers: int) -> None:\n",
    "        \"\"\"\n",
    "        주행거리를 지정된 값만큼 증가시킵니다. 주행거리는 양수여야 합니다.\n",
    "\n",
    "        Args:\n",
    "            kilometers (int): 증가할 주행거리 (양수여야 함)\n",
    "        \"\"\"\n",
    "        if kilometers > 0:\n",
    "            self.kilometer_reading += kilometers\n",
    "            print(f\"주행거리가 {kilometers}km 증가하였습니다.\")\n",
    "        else:\n",
    "            print(f\"양수로 다시 입력해주세요.\")\n"
   ]
  },
  {
   "cell_type": "code",
   "execution_count": 109,
   "id": "731c1995-406e-4c1b-93d5-e2b60910e655",
   "metadata": {},
   "outputs": [
    {
     "name": "stdout",
     "output_type": "stream",
     "text": [
      "\n",
      "    자동차 클래스를 나타냅니다. 객체가 생성될 때 제조사, 모델, 연도를 초기화하고\n",
      "    주행 거리는 0으로 설정됩니다.\n",
      "    \n"
     ]
    }
   ],
   "source": [
    "# docstring\n",
    "my_car=Car('현대','ABC',2024)\n",
    "print(my_car.__doc__)"
   ]
  },
  {
   "cell_type": "code",
   "execution_count": 110,
   "id": "9d74e00d-ecde-4a0a-97c5-770245735c71",
   "metadata": {},
   "outputs": [
    {
     "name": "stdout",
     "output_type": "stream",
     "text": [
      "Help on Car in module __main__ object:\n",
      "\n",
      "class Car(builtins.object)\n",
      " |  Car(make: str, model: str, year: int)\n",
      " |\n",
      " |  자동차 클래스를 나타냅니다. 객체가 생성될 때 제조사, 모델, 연도를 초기화하고\n",
      " |  주행 거리는 0으로 설정됩니다.\n",
      " |\n",
      " |  Methods defined here:\n",
      " |\n",
      " |  __init__(self, make: str, model: str, year: int)\n",
      " |      Car 클래스의 생성자. 자동차의 제조사, 모델, 연도를 초기화합니다.\n",
      " |      주행거리는 초기값으로 0이 설정됩니다.\n",
      " |\n",
      " |      Args:\n",
      " |          make (str): 자동차 제조사\n",
      " |          model (str): 자동차 모델\n",
      " |          year (int): 제조 연도\n",
      " |\n",
      " |  get_description(self) -> str\n",
      " |      자동차의 전체 설명을 반환합니다.\n",
      " |\n",
      " |      Returns:\n",
      " |          str: 자동차의 연도, 제조사, 모델을 포함한 설명\n",
      " |\n",
      " |  increment_kilometer(self, kilometers: int) -> None\n",
      " |      주행거리를 지정된 값만큼 증가시킵니다. 주행거리는 양수여야 합니다.\n",
      " |\n",
      " |      Args:\n",
      " |          kilometers (int): 증가할 주행거리 (양수여야 함)\n",
      " |\n",
      " |  read_kilometer(self) -> None\n",
      " |      현재 주행거리를 출력합니다.\n",
      " |\n",
      " |  update_kilometer(self, kilometers: int) -> None\n",
      " |      주행거리를 업데이트합니다. 새로운 주행거리가 기존 주행거리보다 클 경우에만 업데이트합니다.\n",
      " |\n",
      " |      Args:\n",
      " |          kilometers (int): 새로운 주행거리\n",
      " |\n",
      " |  ----------------------------------------------------------------------\n",
      " |  Data descriptors defined here:\n",
      " |\n",
      " |  __dict__\n",
      " |      dictionary for instance variables\n",
      " |\n",
      " |  __weakref__\n",
      " |      list of weak references to the object\n",
      "\n"
     ]
    }
   ],
   "source": [
    "help(my_car)"
   ]
  },
  {
   "cell_type": "markdown",
   "id": "360ef295-1931-4372-b295-28d5cf63ddaf",
   "metadata": {},
   "source": [
    "## 다형성 Polymorphism\n",
    "- 2.2 이어서\n",
    "- 음.. 그렇구나..\n",
    "- 찾아보..기\n",
    "\n",
    "> 오버라이딩\n",
    "> - 자식클래스의 메서드의 개념을 재정의"
   ]
  },
  {
   "cell_type": "code",
   "execution_count": 111,
   "id": "9d657451-e228-482c-a1ae-3f09287ff3d9",
   "metadata": {},
   "outputs": [],
   "source": [
    "# 부모 클래스\n",
    "class 동물:\n",
    "    def 울음소리(self):\n",
    "        return \"동물 울음소리\"\n",
    "\n",
    "# 자식 클래스\n",
    "class 강아지(동물):\n",
    "    def 울음소리(self): # 부모클래스와 같이 함수 명이 '울음소리'임\n",
    "        return \"멍멍\"\n",
    "\n",
    "class 고양이(동물):\n",
    "    def 울음소리(self):\n",
    "        return \"야옹\""
   ]
  },
  {
   "cell_type": "code",
   "execution_count": 114,
   "id": "e67c1cac-062a-4b59-be11-337e44ab7fd3",
   "metadata": {},
   "outputs": [],
   "source": [
    "# 다형성 함수를 하나 만들자\n",
    "def make_sound(animal):\n",
    "    print(animal.울음소리())"
   ]
  },
  {
   "cell_type": "code",
   "execution_count": 112,
   "id": "3a40c111-9446-4367-b131-f12febf1ecb5",
   "metadata": {},
   "outputs": [
    {
     "data": {
      "text/plain": [
       "'멍멍'"
      ]
     },
     "execution_count": 112,
     "metadata": {},
     "output_type": "execute_result"
    }
   ],
   "source": [
    "# 객체 생성해보자\n",
    "dog = 강아지()\n",
    "cat = 고양이()\n",
    "dog.울음소리()"
   ]
  },
  {
   "cell_type": "code",
   "execution_count": 113,
   "id": "2f176c5a-9b6d-4dc5-a5e2-96907940d755",
   "metadata": {},
   "outputs": [
    {
     "data": {
      "text/plain": [
       "'야옹'"
      ]
     },
     "execution_count": 113,
     "metadata": {},
     "output_type": "execute_result"
    }
   ],
   "source": [
    "cat.울음소리()"
   ]
  },
  {
   "cell_type": "code",
   "execution_count": 115,
   "id": "1e2eabb0-4809-40d3-b7ed-ac42d90e6d41",
   "metadata": {},
   "outputs": [
    {
     "name": "stdout",
     "output_type": "stream",
     "text": [
      "야옹\n"
     ]
    }
   ],
   "source": [
    "make_sound(cat)"
   ]
  },
  {
   "cell_type": "code",
   "execution_count": 116,
   "id": "d40e49ee-8b87-4463-b222-65f8f1d8b0ca",
   "metadata": {},
   "outputs": [],
   "source": [
    "# 잘 이해는 안되지만....\n",
    "# 크래스 설계할 때 이렇게 다형성 함수 가지고 할 수 있다."
   ]
  },
  {
   "cell_type": "code",
   "execution_count": null,
   "id": "ee86ad28-ad8f-4129-b44b-98b6628c5655",
   "metadata": {},
   "outputs": [],
   "source": [
    "#MRO : 다중상속 + 메서드명이 같으면 발생할 수 있는 문제ㅔ method r order"
   ]
  },
  {
   "cell_type": "markdown",
   "id": "ae7500c8-cdde-42f2-bb86-9dedc3b4f0cd",
   "metadata": {},
   "source": [
    "# 메서드 오버라이딩\n",
    "- 상위 클래스에선 일단 pass 해놓고\n",
    "- 하위 클래스에서 재정의 하는 것\n",
    "- 아래에 area 와 같음\n",
    "- --> class method overriding 이라고 함"
   ]
  },
  {
   "cell_type": "code",
   "execution_count": 117,
   "id": "2dee91d9-8429-4108-8ac9-b076b49a0bb6",
   "metadata": {},
   "outputs": [],
   "source": [
    "from math import pi"
   ]
  },
  {
   "cell_type": "code",
   "execution_count": 125,
   "id": "b6b33b91-a097-4624-a5da-3ffed86d7457",
   "metadata": {},
   "outputs": [],
   "source": [
    "# 상위 클래스 (모양)\n",
    "class Shape:\n",
    "    def __init__(self, name):\n",
    "        self.name=name\n",
    "    \n",
    "    def area(self):\n",
    "        pass\n",
    "\n",
    "    def fact(self):\n",
    "        return \"나는 2차원 도형\"\n",
    "\n",
    "# 하위 클래스 (사각형)\n",
    "class Square(Shape):\n",
    "    def __init__(self, length):\n",
    "        super().__init__(\"Square\") \n",
    "        # square라는 인스턴스를 생성과 동시에 사각형이라고 하는 것, 외부 사용자가 사각형이라 지정하는 게 아님.\n",
    "        # 그럼 super().__init__(\"Square\") 이 되면서 곧 로로  self.name=name 가 실행됨\n",
    "        self.length=length\n",
    "        \n",
    "    def area(self):\n",
    "        return self.length**2\n",
    "\n",
    "# 하위 클래스 (원)\n",
    "class Circle(Shape):\n",
    "    def __init__(self, radius):\n",
    "        super().__init__(\"Circle\")\n",
    "        self.radius=radius\n",
    "\n",
    "    def area(self):\n",
    "        return pi*self.radius**2"
   ]
  },
  {
   "cell_type": "code",
   "execution_count": 120,
   "id": "2c2dbe5f-01e0-475d-909d-0f6ccefbf1e4",
   "metadata": {},
   "outputs": [],
   "source": [
    "# super ininit 쓰면서\n",
    "# class Circle(Shape):\n",
    "#    def __init__(self, name,  radius):\n",
    "#        super().__init__(\"Circle\")\n",
    "#        self.length=length\n",
    "# 이렇게 쓸 필요 없 게 됨. "
   ]
  },
  {
   "cell_type": "code",
   "execution_count": 121,
   "id": "fa8615f7-6185-4281-b44a-6c047a57ebd9",
   "metadata": {},
   "outputs": [
    {
     "name": "stdout",
     "output_type": "stream",
     "text": [
      "16\n"
     ]
    }
   ],
   "source": [
    "a = Square(4)\n",
    "print(a.area())"
   ]
  },
  {
   "cell_type": "code",
   "execution_count": 126,
   "id": "8d284ae9-8bf8-4cc0-8a7c-ca3a568a4006",
   "metadata": {},
   "outputs": [
    {
     "name": "stdout",
     "output_type": "stream",
     "text": [
      "50.26548245743669\n"
     ]
    }
   ],
   "source": [
    "b = Circle(4)\n",
    "print(b.area())"
   ]
  },
  {
   "cell_type": "code",
   "execution_count": 127,
   "id": "20d3404e-b6f1-4603-a2a2-9999a4e7588c",
   "metadata": {},
   "outputs": [
    {
     "name": "stdout",
     "output_type": "stream",
     "text": [
      "<class 'int'>\n"
     ]
    }
   ],
   "source": [
    "a=3\n",
    "print(type(a))"
   ]
  },
  {
   "cell_type": "markdown",
   "id": "c2963ab2-1a91-40ce-8979-ae1a084e2da6",
   "metadata": {},
   "source": [
    "## 연산자 오버로딩\n",
    "- (keyword) Operator Overloading\n",
    "- 왜 쓰냐 | 클래스들 끼리 연산작업 할 때, 그냥은 안됨. 이 떄 쓰는게 연산자 오버로딩!\n",
    "- 클래스 만들고자 할 때, 키워드를 줘서 챗지피티 한테 많이 시도해보기"
   ]
  },
  {
   "cell_type": "code",
   "execution_count": 128,
   "id": "c5b08875-a99d-4abe-bfed-94ba18e0dff2",
   "metadata": {},
   "outputs": [
    {
     "ename": "TypeError",
     "evalue": "unsupported operand type(s) for +: 'A' and 'A'",
     "output_type": "error",
     "traceback": [
      "\u001b[1;31m---------------------------------------------------------------------------\u001b[0m",
      "\u001b[1;31mTypeError\u001b[0m                                 Traceback (most recent call last)",
      "Cell \u001b[1;32mIn[128], line 8\u001b[0m\n\u001b[0;32m      5\u001b[0m a1 \u001b[38;5;241m=\u001b[39m A(\u001b[38;5;241m2\u001b[39m)\n\u001b[0;32m      6\u001b[0m a2 \u001b[38;5;241m=\u001b[39m A(\u001b[38;5;241m3\u001b[39m)\n\u001b[1;32m----> 8\u001b[0m a3 \u001b[38;5;241m=\u001b[39m \u001b[43ma1\u001b[49m\u001b[43m \u001b[49m\u001b[38;5;241;43m+\u001b[39;49m\u001b[43m \u001b[49m\u001b[43ma2\u001b[49m\n\u001b[0;32m      9\u001b[0m \u001b[38;5;28mprint\u001b[39m(a3\u001b[38;5;241m.\u001b[39mvalue)\n",
      "\u001b[1;31mTypeError\u001b[0m: unsupported operand type(s) for +: 'A' and 'A'"
     ]
    }
   ],
   "source": [
    "class A:\n",
    "    def __init__(self,value):\n",
    "        self.value = value\n",
    "\n",
    "a1 = A(2)\n",
    "a2 = A(3)\n",
    "\n",
    "a3 = a1 + a2\n",
    "print(a3.value)"
   ]
  },
  {
   "cell_type": "code",
   "execution_count": 129,
   "id": "2898ab96-613d-4516-ae82-2e3eb3eff9de",
   "metadata": {},
   "outputs": [
    {
     "name": "stdout",
     "output_type": "stream",
     "text": [
      "5\n"
     ]
    }
   ],
   "source": [
    "# 수정\n",
    "class A:\n",
    "    def __init__(self,value):\n",
    "        self.value = value\n",
    "\n",
    "    # 연산자 오버로딩\n",
    "    def __add__(self, other):\n",
    "        result = self.value + other.value\n",
    "        return A(result)\n",
    "        \n",
    "\n",
    "a1 = A(2)\n",
    "a2 = A(3)\n",
    "\n",
    "a3 = a1 + a2\n",
    "print(a3.value)"
   ]
  },
  {
   "cell_type": "code",
   "execution_count": 130,
   "id": "e1e81503-d355-4f4f-b544-0d644d4a599b",
   "metadata": {},
   "outputs": [],
   "source": [
    "# 연산자 오버로딩이란, 클래스들 끼리 연산을 시킬 때, 해당되는 메서드임 ex. __add__"
   ]
  },
  {
   "cell_type": "markdown",
   "id": "10690609-3e10-4095-80b9-2c0dce6ea72a",
   "metadata": {},
   "source": [
    "# 연습문제 2 \n",
    "- 여러분은 간단한 책 관리 시스템을 만들어야 합니다. Book 클래스를 사용하여 책의 정보를 저장하고, 책을 읽고, 현재 페이지를 업데이트하는 프로그램을 작성하세요.\n",
    "- 여러 Book 객체를 생성하고, 각 책에 대해 다음 작업을 수행하세요.\n",
    "    + 책의 설명을 출력하세요.\n",
    "    + 책을 읽고, 현재 페이지를 업데이트하고, 책 읽기 진행 상황을 출력하세요.\n",
    "    + 읽을 페이지 수가 전체 페이지 수를 초과할 경우, 오류 메시지를 출력하세요."
   ]
  },
  {
   "cell_type": "markdown",
   "id": "d5705b21-451e-4c31-bada-46248ae5c908",
   "metadata": {},
   "source": [
    "> 시나리오 짜보기\n",
    "- 메서드\n",
    "  + 책 정보 : title, author, theme, year\n",
    "  + 책 현재 페이지 current_page\n",
    "  + 책 페이지 업데이트\n",
    "  + 책 읽기 진행 상황"
   ]
  },
  {
   "cell_type": "code",
   "execution_count": 145,
   "id": "31a8075b-f93c-4266-b436-ef6ef1a2bb2e",
   "metadata": {},
   "outputs": [],
   "source": [
    "class Book():\n",
    "\n",
    "    # __init__ 메서드\n",
    "    def __init__(self, title, author, theme, total_page):\n",
    "        self.title = title    # 책 제목\n",
    "        self.author = author  # 저자\n",
    "        self.theme = theme    # 주제\n",
    "        self.total_page = total_page    # 전체 페이지\n",
    "        self.current_page = 0  # 현재 페이지 (초기값 0)\n",
    "    \n",
    "    # 책의 설명 반환하는 메서드   \n",
    "    def get_description(self):\n",
    "        return f\"{self.title} (저자: {self.author}, 종류: {self.theme}, 총 페이지수: {self.total_page})\" \n",
    "\n",
    "    # 현재 읽고 있는 페이지 출력하는 메서드\n",
    "    def read_page(self):\n",
    "        print(f\"현재 {self.current_page} 페이지를 읽고 있습니다.\")   \n",
    "\n",
    "    # 읽고 있는 페이지 출력하는 업데이트\n",
    "    # 읽을 페이지 수가 전체 페이지 수를 초과할 경우, 오류 메시지를 출력\n",
    "    def update_page(self,pages):\n",
    "        if pages <= self.total_page:\n",
    "            self.current_page = pages\n",
    "            print(f\"업데이트 확인 : {self.current_page}page\")\n",
    "        else:\n",
    "            print(f\"현재 : {self.current_page}, 다시 입력해주세요\" )\n",
    "\n",
    "    # 책 읽기 진행상황 출력하는 메서드\n",
    "    def reading_status(self, pages):\n",
    "        if pages == self.total_page:\n",
    "            print(f\"독서 진행 상황 : 완독\")\n",
    "        else:\n",
    "            print(f\"독서 진행 상황 : 독서중\" )"
   ]
  },
  {
   "cell_type": "code",
   "execution_count": 162,
   "id": "5e06ad19-6f70-4bbc-9ac5-a1b35468be9e",
   "metadata": {},
   "outputs": [
    {
     "name": "stdout",
     "output_type": "stream",
     "text": [
      "생의 이면 (저자: 이승우, 종류: 한국문학, 총 페이지수: 299)\n",
      "현재 0 페이지를 읽고 있습니다.\n",
      "업데이트 확인 : 128page\n",
      "독서 진행 상황 : 독서중\n",
      "--------------------------------------------------------------------\n",
      "지상의 노래 (저자: 이승우, 종류: 한국문학, 총 페이지수: 432)\n",
      "현재 0 페이지를 읽고 있습니다.\n",
      "업데이트 확인 : 192page\n",
      "독서 진행 상황 : 독서중\n",
      "--------------------------------------------------------------------\n",
      "종의 기원 (저자: 정유정, 종류: 한국문학, 총 페이지수: 384)\n",
      "현재 0 페이지를 읽고 있습니다.\n",
      "현재 : 0, 다시 입력해주세요\n",
      "독서 진행 상황 : 독서중\n"
     ]
    }
   ],
   "source": [
    "# 여러 객체 실행\n",
    "book1=Book('생의 이면','이승우','한국문학', 299)\n",
    "book2=Book('지상의 노래','이승우','한국문학',432)\n",
    "book3=Book('종의 기원','정유정','한국문학',384)\n",
    "\n",
    "\n",
    "description = book1.get_description()\n",
    "print(description)\n",
    "book1.read_page()\n",
    "book1.update_page(128)\n",
    "book1.reading_status(100)\n",
    "print(\"--------------------------------------------------------------------\")\n",
    "description = book2.get_description()\n",
    "print(description)\n",
    "book2.read_page()\n",
    "book2.update_page(192)\n",
    "book2.reading_status(100)\n",
    "print(\"--------------------------------------------------------------------\")\n",
    "description = book3.get_description()\n",
    "print(description)\n",
    "book3.read_page()\n",
    "book3.update_page(492)\n",
    "book3.reading_status(100)"
   ]
  },
  {
   "cell_type": "code",
   "execution_count": 185,
   "id": "6403d08a-cc9a-4b48-b325-08b8e081e699",
   "metadata": {},
   "outputs": [],
   "source": [
    "# 수정\n",
    "class Book():\n",
    "\n",
    "    # __init__ 메서드\n",
    "    def __init__(self, title, author, theme, total_page):\n",
    "        self.title = title    # 책 제목\n",
    "        self.author = author  # 저자\n",
    "        self.theme = theme    # 주제\n",
    "        self.total_page = total_page    # 전체 페이지\n",
    "        self.current_page = 0  # 현재 페이지 (초기값 0)\n",
    "    \n",
    "    # 책의 설명 반환하는 메서드   \n",
    "    def get_description(self):\n",
    "        return f\"{self.title} (저자: {self.author}, 종류: {self.theme}, 총 페이지수: {self.total_page})\" \n",
    "\n",
    "    # 현재 읽고 있는 페이지 출력하는 메서드\n",
    "    # 읽고 있는 페이지 출력하는 업데이트\n",
    "    # 읽을 페이지 수가 전체 페이지 수를 초과할 경우, 오류 메시지를 출력\n",
    "    \n",
    "    def update_page(self,pages):\n",
    "        if self.current_page + pages <= self.total_page:\n",
    "            self.current_page += pages\n",
    "            print(f\"{pages}페이지를 읽었습니다. 현재 {self.current_page} 페이지를 읽고 있습니다.\")\n",
    "            print(f\"이 책은 총 {pages}페이지이며, 현재 {self.current_page}페이지를 읽었습니다.\")\n",
    "        else:\n",
    "            print(\"읽은 페이지 수가 총 페이지 수를 넘을 수 없습니다.\")\n",
    "        \n",
    "    # 책 읽기 진행상황 출력하는 메서드\n",
    "    def reading_status(self):\n",
    "        if self.current_page == self.total_page:\n",
    "            print(\"독서 진행 상황 : 완독\")\n",
    "        else:\n",
    "            print(\"독서 진행 상황 : 독서중\")"
   ]
  },
  {
   "cell_type": "code",
   "execution_count": 187,
   "id": "7460368a-62d0-4492-a11e-576bf9d60d6b",
   "metadata": {},
   "outputs": [
    {
     "name": "stdout",
     "output_type": "stream",
     "text": [
      "생의 이면 (저자: 이승우, 종류: 한국문학, 총 페이지수: 299)\n",
      "299페이지를 읽었습니다. 현재 299 페이지를 읽고 있습니다.\n",
      "이 책은 총 299페이지이며, 현재 299페이지를 읽었습니다.\n",
      "독서 진행 상황 : 완독\n",
      "---------------------------------------------------------------\n",
      "지상의 노래 (저자: 이승우, 종류: 한국문학, 총 페이지수: 432)\n",
      "192페이지를 읽었습니다. 현재 192 페이지를 읽고 있습니다.\n",
      "이 책은 총 192페이지이며, 현재 192페이지를 읽었습니다.\n",
      "독서 진행 상황 : 독서중\n",
      "---------------------------------------------------------------\n",
      "종의 기원 (저자: 정유정, 종류: 한국문학, 총 페이지수: 384)\n",
      "읽은 페이지 수가 총 페이지 수를 넘을 수 없습니다.\n",
      "독서 진행 상황 : 독서중\n"
     ]
    }
   ],
   "source": [
    "# 여러 객체 실행\n",
    "book1=Book('생의 이면','이승우','한국문학', 299)\n",
    "book2=Book('지상의 노래','이승우','한국문학',432)\n",
    "book3=Book('종의 기원','정유정','한국문학',384)\n",
    "\n",
    "# 출력\n",
    "description = book1.get_description()\n",
    "print(description)\n",
    "book1.update_page(299)\n",
    "book1.reading_status()\n",
    "print(\"---------------------------------------------------------------\")\n",
    "description = book2.get_description()\n",
    "print(description)\n",
    "book2.update_page(192)\n",
    "book2.reading_status()\n",
    "print(\"---------------------------------------------------------------\")\n",
    "description = book3.get_description()\n",
    "print(description)\n",
    "book3.update_page(492)\n",
    "book3.reading_status()"
   ]
  },
  {
   "cell_type": "markdown",
   "id": "b9119d9e-da20-4cf5-b1b5-1d23c49c229d",
   "metadata": {},
   "source": [
    "### 연습문제 2 답"
   ]
  },
  {
   "cell_type": "code",
   "execution_count": 179,
   "id": "4ea8f3be-9a28-4b57-a900-6a1cc742a502",
   "metadata": {},
   "outputs": [
    {
     "data": {
      "text/plain": [
       "\"'A' (저자: evan, 총 300페이지)\""
      ]
     },
     "execution_count": 179,
     "metadata": {},
     "output_type": "execute_result"
    }
   ],
   "source": [
    "class Book:\n",
    "    def __init__(self, title, author, pages):\n",
    "        self.title = title\n",
    "        self.author = author\n",
    "        self.pages = pages\n",
    "        self.current_page = 0\n",
    "\n",
    "    def get_description(self):\n",
    "        return f\"'{self.title}' (저자: {self.author}, 총 {self.pages}페이지)\"\n",
    "        \n",
    "    def read(self, pages):\n",
    "        if self.current_page + pages <= self.pages:\n",
    "            self.current_page += pages\n",
    "            print(f\"{pages}페이지를 읽었습니다. 현재 {self.current_page}페이지에 있습니다.\")\n",
    "        else:\n",
    "            print(f\"책의 총 페이지 수를 초과할 수 없습니다!\")\n",
    "\n",
    "    def book_progress(self):\n",
    "        print(f\"이 책은 총 {self.pages}페이지이며, 현재 {self.current_page}페이지를 읽었습니다.\")\n",
    "\n",
    "book1 = Book('A', 'evan', 300)\n",
    "book1.get_description()"
   ]
  },
  {
   "cell_type": "code",
   "execution_count": 166,
   "id": "bd05e6cd-55ed-47ab-bdea-b2ef0e062aa5",
   "metadata": {},
   "outputs": [],
   "source": [
    "# 여러 책 인스턴스 생성\n",
    "book1 = Book('오만과 편견', '제인 오스틴', 279)\n",
    "book2 = Book('앵무새 죽이기', '하퍼 리', 281)\n",
    "book3 = Book('위대한 개츠비', 'F. 스콧 피츠제럴드', 180)"
   ]
  },
  {
   "cell_type": "code",
   "execution_count": 167,
   "id": "320ddba4-a18e-46dc-ba30-0cef3b1b6f25",
   "metadata": {},
   "outputs": [
    {
     "name": "stdout",
     "output_type": "stream",
     "text": [
      "'오만과 편견' (저자: 제인 오스틴, 총 279페이지)\n",
      "'앵무새 죽이기' (저자: 하퍼 리, 총 281페이지)\n",
      "'위대한 개츠비' (저자: F. 스콧 피츠제럴드, 총 180페이지)\n",
      "50페이지를 읽었습니다. 현재 50페이지에 있습니다.\n",
      "이 책은 총 279페이지이며, 현재 50페이지를 읽었습니다.\n",
      "30페이지를 읽었습니다. 현재 30페이지에 있습니다.\n",
      "이 책은 총 281페이지이며, 현재 30페이지를 읽었습니다.\n",
      "100페이지를 읽었습니다. 현재 100페이지에 있습니다.\n",
      "이 책은 총 180페이지이며, 현재 100페이지를 읽었습니다.\n",
      "책의 총 페이지 수를 초과할 수 없습니다!\n",
      "이 책은 총 279페이지이며, 현재 50페이지를 읽었습니다.\n"
     ]
    }
   ],
   "source": [
    "# 책 정보 출력\n",
    "print(book1.get_description())\n",
    "print(book2.get_description())\n",
    "print(book3.get_description())\n",
    "\n",
    "# 책 읽기\n",
    "book1.read(50)\n",
    "book1.book_progress()\n",
    "\n",
    "book2.read(30)\n",
    "book2.book_progress()\n",
    "\n",
    "book3.read(100)\n",
    "book3.book_progress()\n",
    "\n",
    "# 페이지 초과 시도\n",
    "book1.read(250)\n",
    "book1.book_progress()"
   ]
  },
  {
   "cell_type": "markdown",
   "id": "f399c949-f5d1-4429-acc7-2dde721b044a",
   "metadata": {},
   "source": [
    "# 해보기\n",
    "## 연습문제 3 \n",
    "문제 1: 은행 계좌 클래스 만들기\n",
    "은행 계좌를 나타내는 클래스를 만들어 보세요. 이 클래스는 다음 기능을 가져야 합니다.\n",
    "\n",
    "속성:\n",
    "\n",
    "계좌 소유자 이름 (owner)\n",
    "초기 잔액 (balance, 기본값은 0)\n",
    "메서드:\n",
    "\n",
    "deposit(amount): 지정된 금액을 계좌에 입금하는 메서드\n",
    "withdraw(amount): 지정된 금액을 계좌에서 출금하는 메서드\n",
    "get_balance(): 현재 계좌 잔액을 반환하는 메서드\n",
    "조건:\n",
    "\n",
    "입금할 금액은 0보다 커야 합니다.\n",
    "출금할 금액은 계좌의 잔액보다 클 수 없습니다."
   ]
  },
  {
   "cell_type": "code",
   "execution_count": null,
   "id": "49516e72-5a9a-4131-a669-7464dddec935",
   "metadata": {},
   "outputs": [],
   "source": [
    "class Account:\n",
    "    def __init__(self, owner, balance):\n",
    "        self.owner = owner\n",
    "        self.balance = 0\n",
    "\n",
    "    # 계좌정보\n",
    "    def get_description(self):\n",
    "        return f\" 예금자명: {self.owner} , 잔액: {self.balance}\n",
    "\n",
    "    \n",
    "    # 입금\n",
    "    def deposit(self):\n",
    "        return f\"'{self.title}' (저자: {self.author}, 총 {self.pages}페이지)\"\n",
    "        \n",
    "    def read(self, pages):\n",
    "        if self.current_page + pages <= self.pages:\n",
    "            self.current_page += pages\n",
    "            print(f\"{pages}페이지를 읽었습니다. 현재 {self.current_page}페이지에 있습니다.\")\n",
    "        else:\n",
    "            print(f\"책의 총 페이지 수를 초과할 수 없습니다!\")\n",
    "\n",
    "    def book_progress(self):\n",
    "        print(f\"이 책은 총 {self.pages}페이지이며, 현재 {self.current_page}페이지를 읽었습니다.\")\n",
    "\n",
    "book1 = Book('A', 'evan', 300)\n",
    "book1.get_description()"
   ]
  },
  {
   "cell_type": "code",
   "execution_count": null,
   "id": "c47b1ff3-64ee-4c9c-b64a-0eb33ed6501a",
   "metadata": {},
   "outputs": [],
   "source": []
  },
  {
   "cell_type": "code",
   "execution_count": null,
   "id": "ff69e202-6288-46c8-8eb8-281a73601c09",
   "metadata": {},
   "outputs": [],
   "source": []
  },
  {
   "cell_type": "markdown",
   "id": "1918a3e5-12ec-4f86-9a75-ce6d7d559248",
   "metadata": {},
   "source": [
    "# 연습문제 3\n",
    "\n",
    "요구사항\n",
    "- `Spaceship` 클래스를 정의하세요.\n",
    "- 속성\n",
    "    + `color (str):` 우주선의 색상\n",
    "    + `speed (int):` 우주선의 속도\n",
    "    + `passengers (int):` 우주선의 탑승 인원 수\n",
    "- 메서드\n",
    "    + `__init__(self, color: str, speed: int, passengers: int):` 색상, 속도, 탑승 인원 수를 초기화합니다.\n",
    "    + `get_color(self) -> str:` 색상을 반환합니다.\n",
    "    + `set_color(self, color: str):` 색상을 설정합니다.\n",
    "    + `get_speed(self) -> int:` 속도를 반환합니다.\n",
    "    + `set_speed(self, speed: int):` 속도를 설정합니다.\n",
    "    + `get_passengers(self) -> int:` 탑승 인원 수를 반환합니다.\n",
    "    + `set_passengers(self, passengers: int):` 탑승 인원 수를 설정합니다.\n",
    "    + `add_passenger(self):` 탑승 인원 수를 N명 추가합니다.\n",
    "    + `remove_passenger(self):` 탑승 인원 수를 N명 감소시킵니다. 탑승 인원 수가 0명 이하로 내려갈 수 없습니다.\n",
    "    + `increase_speed(self, amount: int):` 속도를 amount만큼 증가시킵니다.\n",
    "    + `decrease_speed(self, amount: int):` 속도를 amount만큼 감소시킵니다. 속도가 0 이하로 내려갈 수 없습니다.\n",
    "    + `get_info(self) -> str:` 현재 우주선의 상태 정보를 반환합니다.\n",
    "\n",
    "시뮬레이션 테스트\n",
    "- 시뮬레이션 프로그램을 작성하세요.\n",
    "    + 사용자는 다음 작업을 선택할 수 있습니다:\n",
    "    + 우주선의 색상을 설정합니다.\n",
    "    + 속도를 증가시킵니다.\n",
    "    + 속도를 감소시킵니다.\n",
    "    + 탑승 인원 수를 N명 추가합니다.\n",
    "    + 탑승 인원 수를 N명 감소합니다.\n",
    "    + 시뮬레이션을 종료합니다.\n",
    "    \n",
    "\"\"\""
   ]
  },
  {
   "cell_type": "markdown",
   "id": "b4cfbcf4-05ba-46e7-8a17-6e87a10eb7a5",
   "metadata": {},
   "source": [
    "> 시나리오\n",
    "> "
   ]
  },
  {
   "cell_type": "code",
   "execution_count": 218,
   "id": "6bedc63a-ac79-4e22-9c6c-d38beb93ea32",
   "metadata": {},
   "outputs": [],
   "source": [
    "# 처음에 내가 한거\n",
    "class Spaceship:\n",
    "    def __init__(self, color, speed, passenegers):\n",
    "        self.color = color\n",
    "        self.speed = speed\n",
    "        self.passenegers = passengers\n",
    "\n",
    "    # 색상 반환\n",
    "    def get_color(self):\n",
    "        return f\" {self.color}\"\n",
    "    # 색상 설정\n",
    "    def set_color(self, color):\n",
    "        self.set_color = self.get_color\n",
    "\n",
    "    \n",
    "    # 속도 반환\n",
    "    def get_speed(self):\n",
    "        return f\"{self.speed}\"\n",
    "    # 속도 설정\n",
    "    def set_speed(self, speed):\n",
    "        self.set_speed = self.get_speed\n",
    "\n",
    "    \n",
    "    # 탑승 인원 수 반환\n",
    "    def get_passengers(self):\n",
    "        return f\"{self.get_passengers}\"\n",
    "        \n",
    "    # 탑승 인원 수 설정\n",
    "    def set_passengers(self, passengers:int):\n",
    "        self.set_passengers = self.get_passengers\n",
    "        \n",
    "    #탑승 인원 수 N명 추가\n",
    "    def add_passenger(self):\n",
    "        self.get_passengers = self.set_passengers + self.add_passenger\n",
    "        \n",
    "    # 탑승 인원 수 N명 감소\n",
    "    # 탑승 인원 수가 0명 이하로 내려갈 수 없음\n",
    "    def remove_passenger(self):\n",
    "        if self.get_passengers - self.remove_passenger >= 0:\n",
    "            print(f\"{self.get_passengers}\")\n",
    "        else:\n",
    "            print(f\"탑승 인원 수는 0명 이하로 내려갈 수 없습니다. 다시 입력해주세요\")\n",
    "\n",
    "        \n",
    "    # 속도 amount 만큼 증가\n",
    "    def increase_speed(self, amount: int):\n",
    "        self.get_speed = self.set_speed + self.increase_speed\n",
    "        \n",
    "    # 속도 amount 만큼 감소\n",
    "    # 속도가 0이하로 내려갈 수 없음\n",
    "    def decrease_speed(self, amount: int):\n",
    "        if self.get_speed - self.decrease_speed >= 0:\n",
    "            print(f\"{self.get_speed}\")\n",
    "        else:\n",
    "            print(f\"탑승 인원 수는 0명 이하로 내려갈 수 없습니다. 다시 입력해주세요\")\n",
    "\n",
    "        \n",
    "    # 현재 우주선의 상태 정보 반환\n",
    "    def get_info(self):\n",
    "        return print(f\"현재 우주선 상태 : 색 - {self.get_color}, 속도 - {self.get_speed}, 탑승 인원 - {self.get_passengers}\")\n",
    "       \n"
   ]
  },
  {
   "cell_type": "code",
   "execution_count": 227,
   "id": "b9aa7954-d043-4e6d-9948-dd1c452cf6e7",
   "metadata": {
    "editable": true,
    "slideshow": {
     "slide_type": ""
    },
    "tags": []
   },
   "outputs": [
    {
     "name": "stdout",
     "output_type": "stream",
     "text": [
      "\n",
      "현재 우주선 상태:\n",
      "색 - Red, 속도 - 10000, 탑승 인원 - 5\n",
      "None\n",
      "\n",
      "무엇을 하시겠습니까?\n",
      "1. 색상 설정\n",
      "2. 속도 증가\n",
      "3. 속도 감소\n",
      "4. 탑승인원 추가\n",
      "5. 탑승인원 하차\n",
      "6. 시뮬레이션 종료\n"
     ]
    },
    {
     "name": "stdin",
     "output_type": "stream",
     "text": [
      "선택을 입력하세요 (1-6):  2\n",
      "속도를 얼마나 증가시키겠습니까?:  10\n"
     ]
    },
    {
     "name": "stdout",
     "output_type": "stream",
     "text": [
      "속도가 10 증가했습니다. 현재 속도는 10010 입니다.\n",
      "\n",
      "현재 우주선 상태:\n",
      "색 - Red, 속도 - 10010, 탑승 인원 - 5\n",
      "None\n",
      "\n",
      "무엇을 하시겠습니까?\n",
      "1. 색상 설정\n",
      "2. 속도 증가\n",
      "3. 속도 감소\n",
      "4. 탑승인원 추가\n",
      "5. 탑승인원 하차\n",
      "6. 시뮬레이션 종료\n"
     ]
    },
    {
     "name": "stdin",
     "output_type": "stream",
     "text": [
      "선택을 입력하세요 (1-6):  3\n",
      "속도를 얼마나 감소시키겠습니까?:  6\n"
     ]
    },
    {
     "ename": "TypeError",
     "evalue": "'int' object is not callable",
     "output_type": "error",
     "traceback": [
      "\u001b[1;31m---------------------------------------------------------------------------\u001b[0m",
      "\u001b[1;31mTypeError\u001b[0m                                 Traceback (most recent call last)",
      "Cell \u001b[1;32mIn[227], line 110\u001b[0m\n\u001b[0;32m    107\u001b[0m                 \u001b[38;5;28mprint\u001b[39m(\u001b[38;5;124m\"\u001b[39m\u001b[38;5;124m잘못된 선택입니다. 1에서 6 사이의 숫자를 입력하세요.\u001b[39m\u001b[38;5;124m\"\u001b[39m)\n\u001b[0;32m    109\u001b[0m \u001b[38;5;66;03m# 시뮬레이션 실행\u001b[39;00m\n\u001b[1;32m--> 110\u001b[0m \u001b[43msimulate_spaceship\u001b[49m\u001b[43m(\u001b[49m\u001b[43m)\u001b[49m\n",
      "Cell \u001b[1;32mIn[212], line 30\u001b[0m, in \u001b[0;36msimulate_spaceship\u001b[1;34m()\u001b[0m\n\u001b[0;32m     28\u001b[0m \u001b[38;5;28;01melif\u001b[39;00m choice \u001b[38;5;241m==\u001b[39m \u001b[38;5;124m'\u001b[39m\u001b[38;5;124m3\u001b[39m\u001b[38;5;124m'\u001b[39m:\n\u001b[0;32m     29\u001b[0m     amount \u001b[38;5;241m=\u001b[39m \u001b[38;5;28mint\u001b[39m(\u001b[38;5;28minput\u001b[39m(\u001b[38;5;124m\"\u001b[39m\u001b[38;5;124m속도를 얼마나 감소시키겠습니까?: \u001b[39m\u001b[38;5;124m\"\u001b[39m))\n\u001b[1;32m---> 30\u001b[0m     \u001b[43mspaceship\u001b[49m\u001b[38;5;241;43m.\u001b[39;49m\u001b[43mdecrease_speed\u001b[49m\u001b[43m(\u001b[49m\u001b[43mamount\u001b[49m\u001b[43m)\u001b[49m\n\u001b[0;32m     32\u001b[0m \u001b[38;5;28;01melif\u001b[39;00m choice \u001b[38;5;241m==\u001b[39m \u001b[38;5;124m'\u001b[39m\u001b[38;5;124m4\u001b[39m\u001b[38;5;124m'\u001b[39m:\n\u001b[0;32m     33\u001b[0m     number \u001b[38;5;241m=\u001b[39m \u001b[38;5;28mint\u001b[39m(\u001b[38;5;28minput\u001b[39m(\u001b[38;5;124m\"\u001b[39m\u001b[38;5;124m추가할 탑승인원 수를 입력하세요: \u001b[39m\u001b[38;5;124m\"\u001b[39m))\n",
      "Cell \u001b[1;32mIn[227], line 52\u001b[0m, in \u001b[0;36mSpaceship.decrease_speed\u001b[1;34m(self, amount)\u001b[0m\n\u001b[0;32m     51\u001b[0m \u001b[38;5;28;01mdef\u001b[39;00m \u001b[38;5;21mdecrease_speed\u001b[39m(\u001b[38;5;28mself\u001b[39m, amount: \u001b[38;5;28mint\u001b[39m):\n\u001b[1;32m---> 52\u001b[0m     \u001b[38;5;28;01mif\u001b[39;00m \u001b[38;5;28;43mself\u001b[39;49m\u001b[38;5;241;43m.\u001b[39;49m\u001b[43mspeed\u001b[49m\u001b[43m(\u001b[49m\u001b[43m)\u001b[49m \u001b[38;5;241m-\u001b[39m amount \u001b[38;5;241m>\u001b[39m\u001b[38;5;241m=\u001b[39m \u001b[38;5;241m0\u001b[39m:\n\u001b[0;32m     53\u001b[0m         \u001b[38;5;28mself\u001b[39m\u001b[38;5;241m.\u001b[39mspeed \u001b[38;5;241m-\u001b[39m\u001b[38;5;241m=\u001b[39m amount\n\u001b[0;32m     54\u001b[0m         \u001b[38;5;28mprint\u001b[39m(\u001b[38;5;124mf\u001b[39m\u001b[38;5;124m\"\u001b[39m\u001b[38;5;124m속도가 \u001b[39m\u001b[38;5;132;01m{\u001b[39;00mamount\u001b[38;5;132;01m}\u001b[39;00m\u001b[38;5;124m명 감소했습니다. 현재 속도는 \u001b[39m\u001b[38;5;132;01m{\u001b[39;00m\u001b[38;5;28mself\u001b[39m\u001b[38;5;241m.\u001b[39mspeed\u001b[38;5;132;01m}\u001b[39;00m\u001b[38;5;124m입니다.\u001b[39m\u001b[38;5;124m\"\u001b[39m)\n",
      "\u001b[1;31mTypeError\u001b[0m: 'int' object is not callable"
     ]
    }
   ],
   "source": [
    "class Spaceship:\n",
    "    def __init__(self, color, speed, passengers):\n",
    "        self.color = color\n",
    "        self.speed = speed\n",
    "        self.passengers = passengers\n",
    "\n",
    "    # 색상 반환\n",
    "    def get_color(self):\n",
    "        return self.color\n",
    "    # 색상 설정\n",
    "    def set_color(self, color):\n",
    "        self.set_color = color\n",
    "    \n",
    "    # 속도 반환\n",
    "    def get_speed(self):\n",
    "        return self.speed\n",
    "    # 속도 설정\n",
    "    def set_speed(self, speed):\n",
    "        self.set_speed = speed\n",
    "    \n",
    "    # 탑승 인원 수 반환\n",
    "    def get_passengers(self):\n",
    "        return self.get_passengers\n",
    "        \n",
    "    # 탑승 인원 수 설정\n",
    "    def set_passengers(self, passengers:int):\n",
    "        self.set_passengers = passengers\n",
    "        \n",
    "    #탑승 인원 수 N명 추가\n",
    "    def add_passenger(self):\n",
    "        self.passengers += number\n",
    "        print(f\"탑승 인원이{number}명 증가했습니다. 현재 탑승 인원 수는 {self.passengers}명 입니다.\")\n",
    "        \n",
    "    # 탑승 인원 수 N명 감소\n",
    "    # 탑승 인원 수가 0명 이하로 내려갈 수 없음\n",
    "    def remove_passenger(self):\n",
    "        if self.passengers - number >= 0:\n",
    "            self.passengers -= number\n",
    "            print(f\"탑승 인원 수가 {number} 감소했습니다. 현재 탑승 인원 수는 {self.passengers}명 입니다.\")\n",
    "        else:\n",
    "            print(f\"탑승 인원 수는 0명 이하로 내려갈 수 없습니다. 다시 입력해주세요\")\n",
    "\n",
    "        \n",
    "    # 속도 amount 만큼 증가\n",
    "    def increase_speed(self, amount: int):\n",
    "        self.speed += amount\n",
    "        print(f\"속도가 {amount} 증가했습니다. 현재 속도는 {self.speed} 입니다.\")\n",
    "        \n",
    "    # 속도 amount 만큼 감소\n",
    "    # 속도가 0이하로 내려갈 수 없음\n",
    "    def decrease_speed(self, amount: int):\n",
    "        if self.speed() - amount >= 0:\n",
    "            self.speed -= amount\n",
    "            print(f\"속도가 {amount}명 감소했습니다. 현재 속도는 {self.speed}입니다.\")\n",
    "        else:\n",
    "            print(f\"탑승 인원 수는 0명 이하로 내려갈 수 없습니다. 다시 입력해주세요\")\n",
    "\n",
    "        \n",
    "    # 현재 우주선의 상태 정보 반환\n",
    "    def get_info(self):\n",
    "        print(f\"색 - {self.color}, 속도 - {self.speed}, 탑승 인원 - {self.passengers}\")\n",
    "\n",
    "    # 시뮬레이션    \n",
    "    def simulate_spaceship():\n",
    "        simulate_spaceship = Spaceship(\"Red\", 10000, 5)\n",
    "        \n",
    "        while True:\n",
    "            print(\"\\n현재 우주선 상태:\")\n",
    "            print(spaceship.get_info())\n",
    "            \n",
    "            print(\"\\n무엇을 하시겠습니까?\")\n",
    "            print(\"1. 색상 설정\")\n",
    "            print(\"2. 속도 증가\")\n",
    "            print(\"3. 속도 감소\")\n",
    "            print(\"4. 탑승인원 추가\")\n",
    "            print(\"5. 탑승인원 하차\")\n",
    "            print(\"6. 시뮬레이션 종료\")\n",
    "        \n",
    "            choice = input(\"선택을 입력하세요 (1-6): \")\n",
    "\n",
    "            if choice == '1':\n",
    "                color = input(\"새 색상을 입력하세요: \")\n",
    "                spaceship.set_color(color)\n",
    "                print(f\"색상이 {color}(으)로 변경되었습니다\")\n",
    "        \n",
    "            elif choice == '2':\n",
    "                amount = int(input(\"속도를 얼마나 증가시키겠습니까?: \"))\n",
    "                spaceship.increase_speed(amount)\n",
    "        \n",
    "            elif choice == '3':\n",
    "                amount = int(input(\"속도를 얼마나 감소시키겠습니까?: \"))\n",
    "                spaceship.decrease_speed(amount)\n",
    "        \n",
    "            elif choice == '4':\n",
    "                number = int(input(\"추가할 탑승인원 수를 입력하세요: \"))\n",
    "                spaceship.add_passenger(number)\n",
    "        \n",
    "            elif choice == '5':\n",
    "                number = int(input(\"하차할 탑승인원 수를 입력하세요: \"))\n",
    "                spaceship.remove_passenger(number)\n",
    "        \n",
    "            elif choice == '6':\n",
    "                print(\"시뮬레이션을 종료합니다.\")\n",
    "                break\n",
    "        \n",
    "            else:\n",
    "                print(\"잘못된 선택입니다. 1에서 6 사이의 숫자를 입력하세요.\")\n",
    "\n",
    "# 시뮬레이션 실행\n",
    "simulate_spaceship()"
   ]
  },
  {
   "cell_type": "code",
   "execution_count": null,
   "id": "03e46983-18b7-4125-8187-8e9b7782113a",
   "metadata": {},
   "outputs": [],
   "source": []
  },
  {
   "cell_type": "code",
   "execution_count": null,
   "id": "3dc8a547-8fe0-4e62-abcf-80e7e4776c7c",
   "metadata": {},
   "outputs": [],
   "source": []
  },
  {
   "cell_type": "markdown",
   "id": "5e5e306b-cdd8-44df-9c86-87373673e051",
   "metadata": {},
   "source": [
    "## 샘플 코드 \n",
    "def simulate_spaceship():\n",
    "    spaceship = Spaceship(\"Red\", 10000, 5)\n",
    "    \n",
    "    while True:\n",
    "        print(\"\\n현재 우주선 상태:\")\n",
    "        print(spaceship.get_info())\n",
    "        \n",
    "        print(\"\\n무엇을 하시겠습니까?\")\n",
    "        print(\"1. 색상 설정\")\n",
    "        print(\"2. 속도 증가\")\n",
    "        print(\"3. 속도 감소\")\n",
    "        print(\"4. 탑승인원 추가\")\n",
    "        print(\"5. 탑승인원 하차\")\n",
    "        print(\"6. 시뮬레이션 종료\")\n",
    "        \n",
    "        choice = input(\"선택을 입력하세요 (1-6): \")\n",
    "\n",
    "        if choice == '1':\n",
    "            color = input(\"새 색상을 입력하세요: \")\n",
    "            spaceship.set_color(color)\n",
    "            print(f\"색상이 {color}(으)로 변경되었습니다\")\n",
    "        \n",
    "        elif choice == '2':\n",
    "            amount = int(input(\"속도를 얼마나 증가시키겠습니까?: \"))\n",
    "            spaceship.increase_speed(amount)\n",
    "        \n",
    "        elif choice == '3':\n",
    "            amount = int(input(\"속도를 얼마나 감소시키겠습니까?: \"))\n",
    "            spaceship.decrease_speed(amount)\n",
    "        \n",
    "        elif choice == '4':\n",
    "            number = int(input(\"추가할 탑승인원 수를 입력하세요: \"))\n",
    "            spaceship.add_passenger(number)\n",
    "        \n",
    "        elif choice == '5':\n",
    "            number = int(input(\"하차할 탑승인원 수를 입력하세요: \"))\n",
    "            spaceship.remove_passenger(number)\n",
    "        \n",
    "        elif choice == '6':\n",
    "            print(\"시뮬레이션을 종료합니다.\")\n",
    "            break\n",
    "        \n",
    "        else:\n",
    "            print(\"잘못된 선택입니다. 1에서 6 사이의 숫자를 입력하세요.\")\n",
    "\n",
    "시뮬레이션 실행\n",
    "simulate_spaceship()"
   ]
  },
  {
   "cell_type": "code",
   "execution_count": null,
   "id": "0b76b1e2-d97c-4fc7-9bb1-95bdb6cab5e2",
   "metadata": {},
   "outputs": [],
   "source": []
  },
  {
   "cell_type": "code",
   "execution_count": null,
   "id": "bf58ac0d-df45-4dab-9257-7ba748ec1056",
   "metadata": {},
   "outputs": [],
   "source": []
  },
  {
   "cell_type": "code",
   "execution_count": null,
   "id": "791229c0-e36a-4ebe-b776-3faa4ab3a610",
   "metadata": {},
   "outputs": [],
   "source": []
  },
  {
   "cell_type": "code",
   "execution_count": null,
   "id": "df91fff0-1d47-41ab-adb6-71755e880825",
   "metadata": {},
   "outputs": [],
   "source": []
  },
  {
   "cell_type": "code",
   "execution_count": null,
   "id": "3edb4746-c0b2-45b8-a54f-e02c04db02b8",
   "metadata": {},
   "outputs": [],
   "source": []
  },
  {
   "cell_type": "code",
   "execution_count": null,
   "id": "b14ccc25-f8cb-471b-838d-73793d817e76",
   "metadata": {},
   "outputs": [],
   "source": []
  },
  {
   "cell_type": "code",
   "execution_count": null,
   "id": "096124a5-2e1d-4bdf-88be-fc2822049fbf",
   "metadata": {},
   "outputs": [],
   "source": []
  },
  {
   "cell_type": "code",
   "execution_count": null,
   "id": "274aa10d-e70c-49af-b90a-60f3d9526aa6",
   "metadata": {},
   "outputs": [],
   "source": []
  }
 ],
 "metadata": {
  "kernelspec": {
   "display_name": "Python 3 (ipykernel)",
   "language": "python",
   "name": "python3"
  },
  "language_info": {
   "codemirror_mode": {
    "name": "ipython",
    "version": 3
   },
   "file_extension": ".py",
   "mimetype": "text/x-python",
   "name": "python",
   "nbconvert_exporter": "python",
   "pygments_lexer": "ipython3",
   "version": "3.12.6"
  }
 },
 "nbformat": 4,
 "nbformat_minor": 5
}
