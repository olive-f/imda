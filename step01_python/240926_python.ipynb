{
 "cells": [
  {
   "cell_type": "code",
   "execution_count": 1,
   "id": "ed3185df-dcd0-4878-94f2-8d793acdadf0",
   "metadata": {},
   "outputs": [
    {
     "name": "stdout",
     "output_type": "stream",
     "text": [
      "Note: you may need to restart the kernel to use updated packages.\n"
     ]
    },
    {
     "name": "stderr",
     "output_type": "stream",
     "text": [
      "ERROR: Could not open requirements file: [Errno 2] No such file or directory: 'requirements.txt'\n"
     ]
    }
   ],
   "source": [
    "pip install -r requirements.txt"
   ]
  },
  {
   "cell_type": "code",
   "execution_count": 2,
   "id": "6c579b58-c87d-47b7-899d-76ef7aefa82d",
   "metadata": {},
   "outputs": [],
   "source": [
    "import pandas as pd\n",
    "import numpy as np"
   ]
  },
  {
   "cell_type": "markdown",
   "id": "18fcc02f-ae48-4bc7-9038-3ccd3cfbedac",
   "metadata": {},
   "source": [
    "# 클래스 선언"
   ]
  },
  {
   "cell_type": "code",
   "execution_count": 3,
   "id": "a7377673-c524-403f-a1aa-16e6f5d082cc",
   "metadata": {},
   "outputs": [],
   "source": [
    "class Bicycle():\n",
    "    pass # 클래스 선언 기초 도입. "
   ]
  },
  {
   "cell_type": "code",
   "execution_count": 4,
   "id": "05c6fb63-3e20-4155-a3fe-86da89a49c62",
   "metadata": {},
   "outputs": [],
   "source": [
    "# 클래스 선언 했으니, 객체 생성 해야함"
   ]
  },
  {
   "cell_type": "markdown",
   "id": "ea9dbaea-1142-4342-8744-c95202e28132",
   "metadata": {},
   "source": [
    "## 객체 생성"
   ]
  },
  {
   "cell_type": "code",
   "execution_count": 5,
   "id": "92b79846-cf47-403e-aebf-b9ef678b2fa7",
   "metadata": {},
   "outputs": [
    {
     "data": {
      "text/plain": [
       "<__main__.Bicycle at 0x189ad611940>"
      ]
     },
     "execution_count": 5,
     "metadata": {},
     "output_type": "execute_result"
    }
   ],
   "source": [
    "my_bicycle= Bicycle() #객체 생성 된 것\n",
    "my_bicycle"
   ]
  },
  {
   "cell_type": "markdown",
   "id": "a40b6f65-92cd-4aec-b342-622b38a7b17a",
   "metadata": {},
   "source": [
    "## 클래스 변수 정의"
   ]
  },
  {
   "cell_type": "code",
   "execution_count": 7,
   "id": "d6b05232-c840-4373-a5a6-dafb1ca38ae5",
   "metadata": {},
   "outputs": [],
   "source": [
    "# 클래스 변수 정의해보자\n",
    "my_bicycle.wheel_size=26\n",
    "my_bicycle.color = 'black'"
   ]
  },
  {
   "cell_type": "code",
   "execution_count": 8,
   "id": "bc570e7d-1fad-4d71-a76f-1d1c89cd96d5",
   "metadata": {},
   "outputs": [
    {
     "name": "stdout",
     "output_type": "stream",
     "text": [
      "26\n"
     ]
    }
   ],
   "source": [
    "print(my_bicycle.wheel_size)"
   ]
  },
  {
   "cell_type": "code",
   "execution_count": 10,
   "id": "5f291b04-b1f4-49f7-994d-ee7a8c6f0c34",
   "metadata": {},
   "outputs": [],
   "source": [
    "# 이렇게 하진 않는다. 좋지 않은 코드"
   ]
  },
  {
   "cell_type": "code",
   "execution_count": 11,
   "id": "ebd938a0-0637-445e-8d20-6805af02009a",
   "metadata": {},
   "outputs": [
    {
     "name": "stdout",
     "output_type": "stream",
     "text": [
      "책 01호\n",
      "title Streamlit author Evan pages 560 price 40000 discount 10\n",
      "책 02호\n",
      "title pandas author 성신 pages 400 price 30000 discount 20\n"
     ]
    }
   ],
   "source": [
    "class 책:\n",
    "    title = None\n",
    "    author = None\n",
    "    pages = 0\n",
    "    price = 0\n",
    "    discount = 0\n",
    "\n",
    "책01호 = 책()\n",
    "책01호.title = \"Streamlit\"\n",
    "책01호.author = \"Evan\"\n",
    "책01호.pages = 560\n",
    "책01호.price = 40000\n",
    "책01호.discount = 10\n",
    "\n",
    "print('책 01호')\n",
    "print('title', 책01호.title, 'author', 책01호.author, 'pages', 책01호.pages, 'price', 책01호.price, 'discount', 책01호.discount)\n",
    "\n",
    "책02호 = 책()\n",
    "책02호.title = \"pandas\"\n",
    "책02호.author = \"성신\"\n",
    "책02호.pages = 400\n",
    "책02호.price = 30000\n",
    "책02호.discount = 20\n",
    "#이 처럼 두개의 인스턴스만 생성해도 귀찮아 짐을 알 수 있음\n",
    "\n",
    "print('책 02호')\n",
    "print('title', 책02호.title, 'author', 책02호.author, 'pages', 책02호.pages, 'price', 책02호.price, 'discount', 책02호.discount)\n"
   ]
  },
  {
   "cell_type": "markdown",
   "id": "d503f4a8-6772-4f90-bdbe-27b0688726cb",
   "metadata": {},
   "source": [
    "- 위의 방버은 활용도가 떨어짐\n",
    "- 그래서 init 함수 사용해서 클래스 만듦"
   ]
  },
  {
   "cell_type": "markdown",
   "id": "2027b4de-3e98-4e98-a23a-92e2aee8f5a7",
   "metadata": {},
   "source": [
    "## init 함수 활용"
   ]
  },
  {
   "cell_type": "code",
   "execution_count": 12,
   "id": "e2360677-af0d-40d6-8ce0-35327669438f",
   "metadata": {},
   "outputs": [
    {
     "name": "stdout",
     "output_type": "stream",
     "text": [
      "26 black\n"
     ]
    }
   ],
   "source": [
    "class Bicycle():\n",
    "    def __init__(self,wheel_size,color):\n",
    "        self.wheel_size=wheel_size\n",
    "        self.color=color\n",
    "\n",
    "my_bicycle=Bicycle(26, 'black') # 객체 생성과 동시에 속성값을 가짐.ㅅ\n",
    "print(my_bicycle.wheel_size,my_bicycle.color)"
   ]
  },
  {
   "cell_type": "code",
   "execution_count": null,
   "id": "4710a841-ccd8-444c-8fca-227a773fd365",
   "metadata": {},
   "outputs": [],
   "source": []
  },
  {
   "cell_type": "code",
   "execution_count": null,
   "id": "5092680a-83fe-49a4-81a1-afc0762de064",
   "metadata": {},
   "outputs": [],
   "source": []
  },
  {
   "cell_type": "code",
   "execution_count": null,
   "id": "0b76b1e2-d97c-4fc7-9bb1-95bdb6cab5e2",
   "metadata": {},
   "outputs": [],
   "source": []
  },
  {
   "cell_type": "code",
   "execution_count": null,
   "id": "bf58ac0d-df45-4dab-9257-7ba748ec1056",
   "metadata": {},
   "outputs": [],
   "source": []
  },
  {
   "cell_type": "code",
   "execution_count": null,
   "id": "791229c0-e36a-4ebe-b776-3faa4ab3a610",
   "metadata": {},
   "outputs": [],
   "source": []
  },
  {
   "cell_type": "code",
   "execution_count": null,
   "id": "df91fff0-1d47-41ab-adb6-71755e880825",
   "metadata": {},
   "outputs": [],
   "source": []
  },
  {
   "cell_type": "code",
   "execution_count": null,
   "id": "3edb4746-c0b2-45b8-a54f-e02c04db02b8",
   "metadata": {},
   "outputs": [],
   "source": []
  },
  {
   "cell_type": "code",
   "execution_count": null,
   "id": "b14ccc25-f8cb-471b-838d-73793d817e76",
   "metadata": {},
   "outputs": [],
   "source": []
  },
  {
   "cell_type": "code",
   "execution_count": null,
   "id": "096124a5-2e1d-4bdf-88be-fc2822049fbf",
   "metadata": {},
   "outputs": [],
   "source": []
  },
  {
   "cell_type": "code",
   "execution_count": null,
   "id": "274aa10d-e70c-49af-b90a-60f3d9526aa6",
   "metadata": {},
   "outputs": [],
   "source": []
  }
 ],
 "metadata": {
  "kernelspec": {
   "display_name": "Python 3 (ipykernel)",
   "language": "python",
   "name": "python3"
  },
  "language_info": {
   "codemirror_mode": {
    "name": "ipython",
    "version": 3
   },
   "file_extension": ".py",
   "mimetype": "text/x-python",
   "name": "python",
   "nbconvert_exporter": "python",
   "pygments_lexer": "ipython3",
   "version": "3.12.6"
  }
 },
 "nbformat": 4,
 "nbformat_minor": 5
}
